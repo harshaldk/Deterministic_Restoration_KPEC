{
 "cells": [
  {
   "cell_type": "code",
   "execution_count": 1,
   "id": "b529a63b",
   "metadata": {},
   "outputs": [],
   "source": [
    "import pandas as pd  \n",
    "from Functions_RestoreEvaluation import *"
   ]
  },
  {
   "cell_type": "code",
   "execution_count": 2,
   "id": "19eb3a58",
   "metadata": {},
   "outputs": [],
   "source": [
    "# Initialize the circuit and its equivalent graph\n",
    "# Remove the service buses ( with 's' and 'x' prefix in bus name)--- This to get the primary circuit grap\n",
    "\n",
    "DSSCktobj,G_init,conv_flag = initialize() #initial circuit set up\n",
    "\n",
    "G_primary = G_init.copy()\n",
    "\n",
    "for e in G_init.edges():\n",
    "    (u,v) = e\n",
    "    if u[0] == 's' or u[0] == 'x' or v[0] == 's' or v[0] == 'x':\n",
    "        G_primary.remove_edge(u, v)\n",
    "        \n",
    "G_primary.remove_nodes_from(list(nx.isolates(G_primary)))"
   ]
  },
  {
   "cell_type": "code",
   "execution_count": 3,
   "id": "fca146d5",
   "metadata": {},
   "outputs": [],
   "source": [
    "# Harshal's: finding the buses with missing co-ordinates\n",
    "def find_missing_elements(G_primary, txt_file_path):\n",
    "    # Create an excel file containing current nodes\n",
    "    nodes_list = list(G_primary.nodes)\n",
    "    G_primary_nodes = pd.DataFrame(nodes_list, columns=['G_primary_nodes'])\n",
    "    G_primary_nodes.to_excel('G_primary_nodes.xlsx', index = False)\n",
    "\n",
    "    # Read Excel file\n",
    "    excel_file_path = 'G_primary_nodes.xlsx'\n",
    "    df = pd.read_excel(excel_file_path)\n",
    "    [row, col] = df.shape\n",
    "\n",
    "    # Read text file (lower letter)\n",
    "    with open(txt_file_path, 'r') as txt_file:\n",
    "        txt_data = [element.lower().strip() for row in txt_file.read().split(',') for element in row.splitlines()]\n",
    "\n",
    "    missing_elements = []\n",
    "    for r in range(row):\n",
    "        string = df['G_primary_nodes'][r].replace(\"'\", '')\n",
    "        string = string.replace(\" \", \"\")\n",
    "        if string not in txt_data:\n",
    "            missing_elements.append(string)\n",
    "\n",
    "    # save missing_elements as an excel file\n",
    "    missing_df = pd.DataFrame(missing_elements, columns = ['Missing Elements'])\n",
    "    missing_df.to_excel('missing_elements.xlsx', index = False)\n",
    "    \n",
    "    return missing_elements"
   ]
  },
  {
   "cell_type": "code",
   "execution_count": 4,
   "id": "bbd3a9c8",
   "metadata": {},
   "outputs": [
    {
     "data": {
      "text/plain": [
       "67"
      ]
     },
     "execution_count": 4,
     "metadata": {},
     "output_type": "execute_result"
    }
   ],
   "source": [
    "missing_elements = find_missing_elements(G_primary, 'Buscoords.txt') # get all the buses with missing coordinates\n",
    "len(missing_elements)"
   ]
  },
  {
   "cell_type": "code",
   "execution_count": 5,
   "id": "8fd52e52",
   "metadata": {},
   "outputs": [],
   "source": [
    "\n",
    "#Harshal's:  Reducing graph by removing buses with missing coordinates\n",
    "for i in range(len(missing_elements)):\n",
    "    if len(list(G_primary.edges(missing_elements[i]))) >= 2:\n",
    "        G_primary.add_edge(list(G_primary.edges(missing_elements[i]))[0][1], list(G_primary.edges(missing_elements[i]))[1][1])\n",
    "        G_primary.remove_node(missing_elements[i])\n",
    "\n",
    "    if len(list(G_primary.edges(missing_elements[i]))) == 1:\n",
    "        G_primary.remove_node(missing_elements[i])"
   ]
  },
  {
   "cell_type": "code",
   "execution_count": 6,
   "id": "9d7d8154",
   "metadata": {},
   "outputs": [],
   "source": [
    "Gdir=nx.DiGraph()\n",
    "edge_list= list(G_init.edges()) # Converting the original graph(both primary and secondary) for finding upstream nodes\n",
    "Gdir.add_edges_from(edge_list)"
   ]
  },
  {
   "cell_type": "code",
   "execution_count": 7,
   "id": "0cd05e77",
   "metadata": {},
   "outputs": [],
   "source": [
    "Load_Buses={} # Initialize a dictionary which will assign a set of loads connected to buses in G_primary\n",
    "i= DSSCktobj.dss.Loads.First()\n",
    "while i>0:\n",
    "    elemName =  DSSCktobj.dss.CktElement.Name()\n",
    "    bus_connectn = DSSCktobj.dss.CktElement.BusNames()[0].split('.')[0]\n",
    "    map_bus  =  bus_connectn\n",
    "    while len(map_bus)!=0:\n",
    "        map_bus = list(Gdir.predecessors(map_bus))[0]\n",
    "        if map_bus in G_primary.nodes():\n",
    "            break\n",
    "    Load_Buses[elemName] = map_bus #associated primary bus for each load\n",
    "    i = DSSCktobj.dss.Loads.Next()\n",
    "        "
   ]
  },
  {
   "cell_type": "code",
   "execution_count": 8,
   "id": "f029db2b",
   "metadata": {},
   "outputs": [],
   "source": [
    "load_buses = np.array(list(Load_Buses.values())) #all the load buses\n",
    "load_elems = list(Load_Buses.keys()) #all the load elements\n",
    "Bus_PDem={} #Active power demand at bus\n",
    "Bus_QDem={} # Reactive power demand at bus"
   ]
  },
  {
   "cell_type": "code",
   "execution_count": 9,
   "id": "4be51be5",
   "metadata": {},
   "outputs": [],
   "source": [
    "#----- Acquiring the connected active power and reactive power load at all the buses (nodes)\n",
    "nodelist = G_primary.nodes()\n",
    "for n in nodelist:\n",
    "    Pld_tot= 0 \n",
    "    Qld_tot = 0\n",
    "    load_names=[load_elems[y] for y in np.where(load_buses == n)[0]]\n",
    "    for ld in load_names:\n",
    "        DSSCktobj.dss.Circuit.SetActiveElement(ld)\n",
    "        Pld_tot += float(DSSCktobj.dss.Properties.Value('Kw'))\n",
    "        Qld_tot += float(DSSCktobj.dss.Properties.Value('Kvar'))\n",
    "    Bus_PDem[n] = Pld_tot\n",
    "    Bus_QDem[n] = Qld_tot"
   ]
  },
  {
   "cell_type": "code",
   "execution_count": 10,
   "id": "a73fe27f",
   "metadata": {},
   "outputs": [],
   "source": [
    "#---- Adding the total active and reactive power demand of loads as the node attributes in the graph\n",
    "nx.set_node_attributes(G_primary, Bus_PDem, name=\"active power\")\n",
    "nx.set_node_attributes(G_primary, Bus_QDem, name=\"reactive power\")"
   ]
  },
  {
   "cell_type": "code",
   "execution_count": 11,
   "id": "eaa2cac8",
   "metadata": {},
   "outputs": [
    {
     "data": {
      "text/plain": [
       "2454"
      ]
     },
     "execution_count": 11,
     "metadata": {},
     "output_type": "execute_result"
    }
   ],
   "source": [
    "len(G_primary.nodes())"
   ]
  },
  {
   "cell_type": "code",
   "execution_count": 12,
   "id": "7a094bad",
   "metadata": {},
   "outputs": [],
   "source": [
    "# G_primary.nodes(data=True) # You can see that the active and reactive power has been attributed to each of the nodes in the primary graph"
   ]
  },
  {
   "cell_type": "markdown",
   "id": "4fc3294b",
   "metadata": {},
   "source": [
    "The final graph to be used in the restoration work is: G_primary"
   ]
  },
  {
   "cell_type": "code",
   "execution_count": 13,
   "id": "5e740fd8",
   "metadata": {},
   "outputs": [
    {
     "data": {
      "text/plain": [
       "['e192860']"
      ]
     },
     "execution_count": 13,
     "metadata": {},
     "output_type": "execute_result"
    }
   ],
   "source": [
    "list(Gdir.successors('_hvmv_sub_lsb'))\n",
    "     #I do this till I find a node in G_primary that is at the head\n",
    "list(Gdir.successors('d5710794-3_int'))"
   ]
  },
  {
   "cell_type": "code",
   "execution_count": 14,
   "id": "5ecd5e75",
   "metadata": {},
   "outputs": [],
   "source": [
    "substation_id  = 'e192860'"
   ]
  },
  {
   "cell_type": "markdown",
   "id": "070d6b16",
   "metadata": {},
   "source": [
    "Now evaluating the load restored by repairing the outage line"
   ]
  },
  {
   "cell_type": "code",
   "execution_count": null,
   "id": "e7bb01eb",
   "metadata": {},
   "outputs": [],
   "source": []
  },
  {
   "cell_type": "code",
   "execution_count": 15,
   "id": "f34adf06",
   "metadata": {},
   "outputs": [],
   "source": [
    "# m1186065\n",
    "# Gdir.out_edges('m1186065')"
   ]
  },
  {
   "cell_type": "code",
   "execution_count": 16,
   "id": "a03a1e62",
   "metadata": {},
   "outputs": [],
   "source": [
    "# l2823611\n",
    "# Gdir.out_edges('l2823611')"
   ]
  },
  {
   "cell_type": "code",
   "execution_count": null,
   "id": "59b2f30d",
   "metadata": {},
   "outputs": [],
   "source": []
  },
  {
   "cell_type": "code",
   "execution_count": null,
   "id": "2473bbed",
   "metadata": {},
   "outputs": [],
   "source": []
  },
  {
   "cell_type": "code",
   "execution_count": 17,
   "id": "04cc2f9d",
   "metadata": {},
   "outputs": [],
   "source": [
    "# 37215\n",
    "# 23214\n",
    "# 8433\n",
    "# 36856\n",
    "# 51201"
   ]
  },
  {
   "cell_type": "code",
   "execution_count": null,
   "id": "a19d6a56",
   "metadata": {},
   "outputs": [],
   "source": []
  },
  {
   "cell_type": "code",
   "execution_count": 18,
   "id": "4b5f6f9f",
   "metadata": {},
   "outputs": [
    {
     "data": {
      "text/plain": [
       "OutEdgeDataView([('m1209822', 'm1209823'), ('m1209822', '226-23745'), ('m1209822', 'l2992556')])"
      ]
     },
     "execution_count": 18,
     "metadata": {},
     "output_type": "execute_result"
    }
   ],
   "source": [
    "Gdir.out_edges('m1209822') #37215"
   ]
  },
  {
   "cell_type": "code",
   "execution_count": 19,
   "id": "f473ac2e",
   "metadata": {},
   "outputs": [
    {
     "data": {
      "text/plain": [
       "InEdgeDataView([('m1209819', 'l2936216'), ('226-23745', 'l2936216')])"
      ]
     },
     "execution_count": 19,
     "metadata": {},
     "output_type": "execute_result"
    }
   ],
   "source": [
    "Gdir.in_edges('l2936216') #23214"
   ]
  },
  {
   "cell_type": "code",
   "execution_count": 20,
   "id": "0ee41e29",
   "metadata": {},
   "outputs": [
    {
     "data": {
      "text/plain": [
       "InEdgeDataView([('m1209787', 'l2823611')])"
      ]
     },
     "execution_count": 20,
     "metadata": {},
     "output_type": "execute_result"
    }
   ],
   "source": [
    "Gdir.in_edges('l2823611') #8433"
   ]
  },
  {
   "cell_type": "code",
   "execution_count": 21,
   "id": "91d5a71b",
   "metadata": {},
   "outputs": [
    {
     "data": {
      "text/plain": [
       "OutEdgeDataView([('l3139366', 'm4362177'), ('l3139366', 'x3139366a')])"
      ]
     },
     "execution_count": 21,
     "metadata": {},
     "output_type": "execute_result"
    }
   ],
   "source": [
    "Gdir.out_edges('l3139366') #36856"
   ]
  },
  {
   "cell_type": "code",
   "execution_count": 22,
   "id": "a43229fe",
   "metadata": {},
   "outputs": [
    {
     "data": {
      "text/plain": [
       "OutEdgeDataView([('l2785527', 'l2766729'), ('l2785527', 'x2785527a')])"
      ]
     },
     "execution_count": 22,
     "metadata": {},
     "output_type": "execute_result"
    }
   ],
   "source": [
    "Gdir.out_edges('l2785527') #51201"
   ]
  },
  {
   "cell_type": "code",
   "execution_count": null,
   "id": "3da902b2",
   "metadata": {},
   "outputs": [],
   "source": []
  },
  {
   "cell_type": "code",
   "execution_count": null,
   "id": "82258ef5",
   "metadata": {},
   "outputs": [],
   "source": []
  },
  {
   "cell_type": "code",
   "execution_count": null,
   "id": "4b863d61",
   "metadata": {},
   "outputs": [],
   "source": []
  },
  {
   "cell_type": "code",
   "execution_count": 23,
   "id": "dd249dbb",
   "metadata": {},
   "outputs": [],
   "source": [
    "# Gdir.out_edges('l2767340')"
   ]
  },
  {
   "cell_type": "code",
   "execution_count": null,
   "id": "aab6d7fc",
   "metadata": {},
   "outputs": [],
   "source": []
  },
  {
   "cell_type": "code",
   "execution_count": null,
   "id": "e3e6e762",
   "metadata": {},
   "outputs": [],
   "source": []
  },
  {
   "cell_type": "code",
   "execution_count": null,
   "id": "bbb705a2",
   "metadata": {},
   "outputs": [],
   "source": []
  },
  {
   "cell_type": "code",
   "execution_count": null,
   "id": "8e20d9e2",
   "metadata": {},
   "outputs": [],
   "source": []
  },
  {
   "cell_type": "code",
   "execution_count": 24,
   "id": "11555959",
   "metadata": {},
   "outputs": [],
   "source": [
    "nodes = ['m1209822', 'l2936216', 'l2823611', 'l3139366', 'l2785527']\n"
   ]
  },
  {
   "cell_type": "code",
   "execution_count": 25,
   "id": "5d5fabbb",
   "metadata": {},
   "outputs": [],
   "source": [
    "#--- For an outage  scenario\n",
    "OutLines = [('m1209822', 'm1209823'), ('m1209819', 'l2936216'),('m1209787', 'l2823611'),\n",
    "            ('l3139366', 'm4362177'), ('l2785527', 'l2766729')] # This is to come from the reset in environment\n",
    "\n",
    "# Initial graph state..with all lines damaged\n",
    "Gout = G_primary.copy()\n",
    "for oe in OutLines:\n",
    "    Gout.remove_edge(*oe)"
   ]
  },
  {
   "cell_type": "code",
   "execution_count": 26,
   "id": "1204ddba",
   "metadata": {},
   "outputs": [],
   "source": [
    "# Create the dictionary\n",
    "node_outlines = {}\n",
    "Power_restored_dict_old = {}\n",
    "\n",
    "# Populate the dictionary\n",
    "for node in nodes:\n",
    "    node_outlines[node] = [outline for outline in OutLines if node in outline]"
   ]
  },
  {
   "cell_type": "code",
   "execution_count": 27,
   "id": "8d869496",
   "metadata": {},
   "outputs": [
    {
     "data": {
      "text/plain": [
       "{'m1209822': [('m1209822', 'm1209823')],\n",
       " 'l2936216': [('m1209819', 'l2936216')],\n",
       " 'l2823611': [('m1209787', 'l2823611')],\n",
       " 'l3139366': [('l3139366', 'm4362177')],\n",
       " 'l2785527': [('l2785527', 'l2766729')]}"
      ]
     },
     "execution_count": 27,
     "metadata": {},
     "output_type": "execute_result"
    }
   ],
   "source": [
    "node_outlines"
   ]
  },
  {
   "cell_type": "code",
   "execution_count": 28,
   "id": "325f2e02",
   "metadata": {},
   "outputs": [],
   "source": [
    "for node, outlines in node_outlines.items():\n",
    "#     for repair_edge in OutLines:\n",
    "    repair_edge = outlines[0]\n",
    "#     repair_edge = ('m1209822', 'm1209823') # this is the repaired edge coming from the agent\n",
    "    (ru,rv) = repair_edge\n",
    "    rlabel = G_primary.edges[ru,rv]['label']\n",
    "    Gout.add_edge(ru, rv, label = rlabel)    \n",
    "    restored_component, Power_restored = GraphRestore_Eval(Gout, substation_id) # This will give the power restored by the repair of the edges\n",
    "    Power_restored_dict_old[node] = Power_restored"
   ]
  },
  {
   "cell_type": "code",
   "execution_count": 29,
   "id": "68633a02",
   "metadata": {},
   "outputs": [],
   "source": [
    "# Power_restored"
   ]
  },
  {
   "cell_type": "code",
   "execution_count": 30,
   "id": "ff7665b5",
   "metadata": {},
   "outputs": [
    {
     "name": "stdout",
     "output_type": "stream",
     "text": [
      "[('m1209822', 'm1209823')]\n",
      "[('m1209819', 'l2936216')]\n",
      "[('m1209787', 'l2823611')]\n",
      "[('l3139366', 'm4362177')]\n",
      "[('l2785527', 'l2766729')]\n"
     ]
    }
   ],
   "source": [
    "for node, outlines in node_outlines.items():\n",
    "    print(outlines)"
   ]
  },
  {
   "cell_type": "code",
   "execution_count": null,
   "id": "6fae288e",
   "metadata": {},
   "outputs": [],
   "source": []
  },
  {
   "cell_type": "code",
   "execution_count": null,
   "id": "e6703e47",
   "metadata": {},
   "outputs": [],
   "source": []
  },
  {
   "cell_type": "code",
   "execution_count": null,
   "id": "c25022c2",
   "metadata": {},
   "outputs": [],
   "source": []
  },
  {
   "cell_type": "code",
   "execution_count": null,
   "id": "10e490ff",
   "metadata": {},
   "outputs": [],
   "source": []
  },
  {
   "cell_type": "code",
   "execution_count": 31,
   "id": "d18473ec",
   "metadata": {},
   "outputs": [
    {
     "data": {
      "text/plain": [
       "{'m1209822': 78.42999999999998,\n",
       " 'l2936216': 302.16999999999996,\n",
       " 'l2823611': 10476.660000000009,\n",
       " 'l3139366': 10764.300000000008,\n",
       " 'l2785527': 10773.170000000007}"
      ]
     },
     "execution_count": 31,
     "metadata": {},
     "output_type": "execute_result"
    }
   ],
   "source": [
    "Power_restored_dict_old"
   ]
  }
 ],
 "metadata": {
  "kernelspec": {
   "display_name": "Python 3 (ipykernel)",
   "language": "python",
   "name": "python3"
  },
  "language_info": {
   "codemirror_mode": {
    "name": "ipython",
    "version": 3
   },
   "file_extension": ".py",
   "mimetype": "text/x-python",
   "name": "python",
   "nbconvert_exporter": "python",
   "pygments_lexer": "ipython3",
   "version": "3.11.5"
  }
 },
 "nbformat": 4,
 "nbformat_minor": 5
}

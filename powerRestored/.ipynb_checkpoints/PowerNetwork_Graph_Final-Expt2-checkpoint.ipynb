{
 "cells": [
  {
   "cell_type": "code",
   "execution_count": 1,
   "id": "b529a63b",
   "metadata": {},
   "outputs": [],
   "source": [
    "import pandas as pd  \n",
    "from Functions_RestoreEvaluation import *"
   ]
  },
  {
   "cell_type": "code",
   "execution_count": 2,
   "id": "19eb3a58",
   "metadata": {},
   "outputs": [],
   "source": [
    "# Initialize the circuit and its equivalent graph\n",
    "# Remove the service buses ( with 's' and 'x' prefix in bus name)--- This to get the primary circuit grap\n",
    "\n",
    "DSSCktobj,G_init,conv_flag = initialize() #initial circuit set up\n",
    "\n",
    "G_primary = G_init.copy()\n",
    "\n",
    "for e in G_init.edges():\n",
    "    (u,v) = e\n",
    "    if u[0] == 's' or u[0] == 'x' or v[0] == 's' or v[0] == 'x':\n",
    "        G_primary.remove_edge(u, v)\n",
    "        \n",
    "G_primary.remove_nodes_from(list(nx.isolates(G_primary)))"
   ]
  },
  {
   "cell_type": "code",
   "execution_count": 3,
   "id": "fca146d5",
   "metadata": {},
   "outputs": [],
   "source": [
    "# Harshal's: finding the buses with missing co-ordinates\n",
    "def find_missing_elements(G_primary, txt_file_path):\n",
    "    # Create an excel file containing current nodes\n",
    "    nodes_list = list(G_primary.nodes)\n",
    "    G_primary_nodes = pd.DataFrame(nodes_list, columns=['G_primary_nodes'])\n",
    "    G_primary_nodes.to_excel('G_primary_nodes.xlsx', index = False)\n",
    "\n",
    "    # Read Excel file\n",
    "    excel_file_path = 'G_primary_nodes.xlsx'\n",
    "    df = pd.read_excel(excel_file_path)\n",
    "    [row, col] = df.shape\n",
    "\n",
    "    # Read text file (lower letter)\n",
    "    with open(txt_file_path, 'r') as txt_file:\n",
    "        txt_data = [element.lower().strip() for row in txt_file.read().split(',') for element in row.splitlines()]\n",
    "\n",
    "    missing_elements = []\n",
    "    for r in range(row):\n",
    "        string = df['G_primary_nodes'][r].replace(\"'\", '')\n",
    "        string = string.replace(\" \", \"\")\n",
    "        if string not in txt_data:\n",
    "            missing_elements.append(string)\n",
    "\n",
    "    # save missing_elements as an excel file\n",
    "    missing_df = pd.DataFrame(missing_elements, columns = ['Missing Elements'])\n",
    "    missing_df.to_excel('missing_elements.xlsx', index = False)\n",
    "    \n",
    "    return missing_elements"
   ]
  },
  {
   "cell_type": "code",
   "execution_count": 4,
   "id": "bbd3a9c8",
   "metadata": {},
   "outputs": [
    {
     "data": {
      "text/plain": [
       "67"
      ]
     },
     "execution_count": 4,
     "metadata": {},
     "output_type": "execute_result"
    }
   ],
   "source": [
    "missing_elements = find_missing_elements(G_primary, 'Buscoords.txt') # get all the buses with missing coordinates\n",
    "len(missing_elements)"
   ]
  },
  {
   "cell_type": "code",
   "execution_count": 5,
   "id": "8fd52e52",
   "metadata": {},
   "outputs": [],
   "source": [
    "\n",
    "#Harshal's:  Reducing graph by removing buses with missing coordinates\n",
    "for i in range(len(missing_elements)):\n",
    "    if len(list(G_primary.edges(missing_elements[i]))) >= 2:\n",
    "        G_primary.add_edge(list(G_primary.edges(missing_elements[i]))[0][1], list(G_primary.edges(missing_elements[i]))[1][1])\n",
    "        G_primary.remove_node(missing_elements[i])\n",
    "\n",
    "    if len(list(G_primary.edges(missing_elements[i]))) == 1:\n",
    "        G_primary.remove_node(missing_elements[i])"
   ]
  },
  {
   "cell_type": "code",
   "execution_count": 6,
   "id": "9d7d8154",
   "metadata": {},
   "outputs": [],
   "source": [
    "Gdir=nx.DiGraph()\n",
    "edge_list= list(G_init.edges()) # Converting the original graph(both primary and secondary) for finding upstream nodes\n",
    "Gdir.add_edges_from(edge_list)"
   ]
  },
  {
   "cell_type": "code",
   "execution_count": 7,
   "id": "0cd05e77",
   "metadata": {},
   "outputs": [],
   "source": [
    "Load_Buses={} # Initialize a dictionary which will assign a set of loads connected to buses in G_primary\n",
    "i= DSSCktobj.dss.Loads.First()\n",
    "while i>0:\n",
    "    elemName =  DSSCktobj.dss.CktElement.Name()\n",
    "    bus_connectn = DSSCktobj.dss.CktElement.BusNames()[0].split('.')[0]\n",
    "    map_bus  =  bus_connectn\n",
    "    while len(map_bus)!=0:\n",
    "        map_bus = list(Gdir.predecessors(map_bus))[0]\n",
    "        if map_bus in G_primary.nodes():\n",
    "            break\n",
    "    Load_Buses[elemName] = map_bus #associated primary bus for each load\n",
    "    i = DSSCktobj.dss.Loads.Next()\n",
    "        "
   ]
  },
  {
   "cell_type": "code",
   "execution_count": 8,
   "id": "f029db2b",
   "metadata": {},
   "outputs": [],
   "source": [
    "load_buses = np.array(list(Load_Buses.values())) #all the load buses\n",
    "load_elems = list(Load_Buses.keys()) #all the load elements\n",
    "Bus_PDem={} #Active power demand at bus\n",
    "Bus_QDem={} # Reactive power demand at bus"
   ]
  },
  {
   "cell_type": "code",
   "execution_count": 9,
   "id": "4be51be5",
   "metadata": {},
   "outputs": [],
   "source": [
    "#----- Acquiring the connected active power and reactive power load at all the buses (nodes)\n",
    "nodelist = G_primary.nodes()\n",
    "for n in nodelist:\n",
    "    Pld_tot= 0 \n",
    "    Qld_tot = 0\n",
    "    load_names=[load_elems[y] for y in np.where(load_buses == n)[0]]\n",
    "    for ld in load_names:\n",
    "        DSSCktobj.dss.Circuit.SetActiveElement(ld)\n",
    "        Pld_tot += float(DSSCktobj.dss.Properties.Value('Kw'))\n",
    "        Qld_tot += float(DSSCktobj.dss.Properties.Value('Kvar'))\n",
    "    Bus_PDem[n] = Pld_tot\n",
    "    Bus_QDem[n] = Qld_tot"
   ]
  },
  {
   "cell_type": "code",
   "execution_count": 10,
   "id": "a73fe27f",
   "metadata": {},
   "outputs": [],
   "source": [
    "#---- Adding the total active and reactive power demand of loads as the node attributes in the graph\n",
    "nx.set_node_attributes(G_primary, Bus_PDem, name=\"active power\")\n",
    "nx.set_node_attributes(G_primary, Bus_QDem, name=\"reactive power\")"
   ]
  },
  {
   "cell_type": "code",
   "execution_count": 11,
   "id": "eaa2cac8",
   "metadata": {
    "scrolled": true
   },
   "outputs": [
    {
     "data": {
      "text/plain": [
       "2454"
      ]
     },
     "execution_count": 11,
     "metadata": {},
     "output_type": "execute_result"
    }
   ],
   "source": [
    "len(G_primary.nodes())"
   ]
  },
  {
   "cell_type": "code",
   "execution_count": 12,
   "id": "7a094bad",
   "metadata": {},
   "outputs": [
    {
     "data": {
      "text/plain": [
       "NodeDataView({'m1009763': {'active power': 0, 'reactive power': 0}, 'l2673322': {'active power': 3.89, 'reactive power': 0.974925898734993}, 'm1069148': {'active power': 0, 'reactive power': 0}, 'l2673309': {'active power': 10.17, 'reactive power': 2.54884225967478}, 'm1069588': {'active power': 0, 'reactive power': 0}, 'l2804270': {'active power': 5.84, 'reactive power': 1.46364196622426}, 'm3036164': {'active power': 0, 'reactive power': 0}, 'l2935553': {'active power': 9.73, 'reactive power': 2.43856786495925}, 'm1209749': {'active power': 0, 'reactive power': 0}, 'l2748840': {'active power': 5.84, 'reactive power': 1.46364196622426}, 'm1108264': {'active power': 0, 'reactive power': 0}, 'm1108263': {'active power': 0, 'reactive power': 0}, 'l3085398': {'active power': 9.73, 'reactive power': 2.43856786495925}, 'm1026891': {'active power': 0, 'reactive power': 0}, 'l3216367': {'active power': 9.73, 'reactive power': 2.43856786495925}, 'm1069468': {'active power': 0, 'reactive power': 0}, 'm1142800': {'active power': 0, 'reactive power': 0}, 'm1142799': {'active power': 0, 'reactive power': 0}, 'm1047592': {'active power': 0, 'reactive power': 0}, 'p827512': {'active power': 0, 'reactive power': 0}, 'm1047339': {'active power': 0, 'reactive power': 0}, 'p895104': {'active power': 0, 'reactive power': 0}, 'm1026915': {'active power': 0, 'reactive power': 0}, 'm1026920': {'active power': 0, 'reactive power': 0}, 'n1138596': {'active power': 0, 'reactive power': 0}, 'l3254207': {'active power': 5.32, 'reactive power': 1.33331768156045}, 'm1069464': {'active power': 0, 'reactive power': 0}, 'p873787': {'active power': 0, 'reactive power': 0}, 'n1144665': {'active power': 0, 'reactive power': 0}, 'm1047515': {'active power': 0, 'reactive power': 0}, 'n1137002': {'active power': 0, 'reactive power': 0}, 'm1047707': {'active power': 0, 'reactive power': 0}, 'l2729406': {'active power': 6.1, 'reactive power': 1.52880410855616}, 'l2897768': {'active power': 10.17, 'reactive power': 2.54884225967478}, 'l3649301': {'active power': 13.3, 'reactive power': 3.33329420390113}, 'l3649302': {'active power': 13.3, 'reactive power': 3.33329420390113}, 'l2970842': {'active power': 0, 'reactive power': 0}, 'm1089113': {'active power': 0, 'reactive power': 0}, 'm1047312': {'active power': 0, 'reactive power': 0}, 'p893163': {'active power': 0, 'reactive power': 0}, 'l2822871': {'active power': 9.73, 'reactive power': 2.43856786495925}, 'm1026872': {'active power': 0, 'reactive power': 0}, 'm1026312': {'active power': 0, 'reactive power': 0}, 'l2973163': {'active power': 3.89, 'reactive power': 0.974925898734993}, 'l3728038': {'active power': 8.87, 'reactive power': 2.22303154801527}, 'l3728039': {'active power': 13.3, 'reactive power': 3.33329420390113}, 'm1069567': {'active power': 0, 'reactive power': 0}, 'm1069582': {'active power': 0, 'reactive power': 0}, 'n1140830': {'active power': 0, 'reactive power': 0}, 'l3216351': {'active power': 8.87, 'reactive power': 2.22303154801527}, 'l2952007': {'active power': 10.17, 'reactive power': 2.54884225967478}, 'l2861158': {'active power': 10.17, 'reactive power': 2.54884225967478}, 'n1140827': {'active power': 0, 'reactive power': 0}, 'm1026726': {'active power': 0, 'reactive power': 0}, 'l2730106': {'active power': 10.17, 'reactive power': 2.54884225967478}, 'n1142099': {'active power': 0, 'reactive power': 0}, 'm1026658': {'active power': 0, 'reactive power': 0}, 'l3172805': {'active power': 8.87, 'reactive power': 2.22303154801527}, 'p895112': {'active power': 0, 'reactive power': 0}, 'l3048962': {'active power': 13.3, 'reactive power': 3.33329420390113}, 'l2991914': {'active power': 6.1, 'reactive power': 1.52880410855616}, 'm1047503': {'active power': 0, 'reactive power': 0}, 'm1047751': {'active power': 0, 'reactive power': 0}, 'l2973154': {'active power': 5.32, 'reactive power': 1.33331768156045}, 'l3010565': {'active power': 4.07, 'reactive power': 1.02003815111862}, 'l2897775': {'active power': 10.17, 'reactive power': 2.54884225967478}, 'm1125955': {'active power': 0, 'reactive power': 0}, 'm1125957': {'active power': 0, 'reactive power': 0}, 'm1069640': {'active power': 0, 'reactive power': 0}, 'l2804269': {'active power': 9.73, 'reactive power': 2.43856786495925}, 'm1026702': {'active power': 0, 'reactive power': 0}, 'n1139551': {'active power': 0, 'reactive power': 0}, 'n1136355': {'active power': 0, 'reactive power': 0}, 'l2783231': {'active power': 9.73, 'reactive power': 2.43856786495925}, 'l2748143': {'active power': 8.87, 'reactive power': 2.22303154801527}, 'l3251854': {'active power': 8.87, 'reactive power': 2.22303154801527}, 'm1069610': {'active power': 0, 'reactive power': 0}, 'm1069600': {'active power': 0, 'reactive power': 0}, 'm1069424': {'active power': 0, 'reactive power': 0}, 'l2935549': {'active power': 14.59, 'reactive power': 3.65659867931711}, 'p895089': {'active power': 0, 'reactive power': 0}, 'l3235242': {'active power': 10.17, 'reactive power': 2.54884225967478}, 'm1026795': {'active power': 0, 'reactive power': 0}, 'n1140522': {'active power': 0, 'reactive power': 0}, 'l3030199': {'active power': 10.17, 'reactive power': 2.54884225967478}, 'm1125934': {'active power': 0, 'reactive power': 0}, 'm1069189': {'active power': 0, 'reactive power': 0}, 'l2860487': {'active power': 6.1, 'reactive power': 1.52880410855616}, '221-312488': {'active power': 0, 'reactive power': 0}, 'm1089183': {'active power': 0, 'reactive power': 0}, 'm1108464': {'active power': 0, 'reactive power': 0}, 'l3102286': {'active power': 29.18, 'reactive power': 7.31319735863422}, 'f739845': {'active power': 28.770000000000003, 'reactive power': 7.210441672649299}, 'p827499': {'active power': 0, 'reactive power': 0}, 'n1139254': {'active power': 0, 'reactive power': 0}, 'm1026657': {'active power': 0, 'reactive power': 0}, 'm1026656': {'active power': 0, 'reactive power': 0}, 'm1108299': {'active power': 0, 'reactive power': 0}, 'm1108300': {'active power': 0, 'reactive power': 0}, 'l3198355': {'active power': 3.89, 'reactive power': 0.974925898734993}, 'l2805037': {'active power': 0, 'reactive power': 0}, 'n1137994': {'active power': 0, 'reactive power': 0}, 'm1069484': {'active power': 0, 'reactive power': 0}, 'l2860504': {'active power': 5.32, 'reactive power': 1.33331768156045}, 'l2860493': {'active power': 8.87, 'reactive power': 2.22303154801527}, 'm1026783': {'active power': 0, 'reactive power': 0}, 'm1026780': {'active power': 0, 'reactive power': 0}, 'p895111': {'active power': 0, 'reactive power': 0}, 'l2895496': {'active power': 0, 'reactive power': 0}, 'n1140819': {'active power': 0, 'reactive power': 0}, 'm1026700': {'active power': 0, 'reactive power': 0}, 'm1089173': {'active power': 0, 'reactive power': 0}, 'l2935551': {'active power': 6.1, 'reactive power': 1.52880410855616}, 'm1026344': {'active power': 0, 'reactive power': 0}, 'm1026364': {'active power': 0, 'reactive power': 0}, 'l2879070': {'active power': 5.84, 'reactive power': 1.46364196622426}, 'l3216345': {'active power': 14.59, 'reactive power': 3.65659867931711}, 'm1069428': {'active power': 0, 'reactive power': 0}, 'n1139257': {'active power': 0, 'reactive power': 0}, 'l2991919': {'active power': 5.32, 'reactive power': 1.33331768156045}, 'm1026361': {'active power': 0, 'reactive power': 0}, 'n1147857': {'active power': 0, 'reactive power': 0}, 'm1009742': {'active power': 0, 'reactive power': 0}, 'm1047325': {'active power': 0, 'reactive power': 0}, 'n1139263': {'active power': 0, 'reactive power': 0}, 'l3048227': {'active power': 8.87, 'reactive power': 2.22303154801527}, 'p827506': {'active power': 0, 'reactive power': 0}, 'm1069469': {'active power': 0, 'reactive power': 0}, 'm1027019': {'active power': 0, 'reactive power': 0}, 'l2785522': {'active power': 9.73, 'reactive power': 2.43856786495925}, 'l3216338': {'active power': 9.73, 'reactive power': 2.43856786495925}, 'l2973146': {'active power': 9.73, 'reactive power': 2.43856786495925}, 'm3037452': {'active power': 0, 'reactive power': 0}, 'l2973164': {'active power': 3.55, 'reactive power': 0.889713866454814}, 'l3120376': {'active power': 8.87, 'reactive power': 2.22303154801527}, 'm1026925': {'active power': 0, 'reactive power': 0}, 'm1047612': {'active power': 0, 'reactive power': 0}, 'p828360': {'active power': 0, 'reactive power': 0}, 'm1089195': {'active power': 0, 'reactive power': 0}, 'l3141393': {'active power': 10.17, 'reactive power': 2.54884225967478}, 'm1026946': {'active power': 0, 'reactive power': 0}, 'm1026940': {'active power': 0, 'reactive power': 0}, 'm1047471': {'active power': 0, 'reactive power': 0}, 'l3216349': {'active power': 5.84, 'reactive power': 1.46364196622426}, 'm1047401': {'active power': 0, 'reactive power': 0}, 'l2748132': {'active power': 5.32, 'reactive power': 1.33331768156045}, 'l3122820': {'active power': 8.87, 'reactive power': 2.22303154801527}, 'l3141398': {'active power': 5.32, 'reactive power': 1.33331768156045}, 'm1108360': {'active power': 0, 'reactive power': 0}, 'l3048968': {'active power': 15.26, 'reactive power': 3.82451650763393}, 'l2801950': {'active power': 0, 'reactive power': 0}, 'm1069224': {'active power': 0, 'reactive power': 0}, 'l2766746': {'active power': 10.17, 'reactive power': 2.54884225967478}, 'm1027073': {'active power': 0, 'reactive power': 0}, 'm1142873': {'active power': 0, 'reactive power': 0}, 'm1069181': {'active power': 0, 'reactive power': 0}, 'l2973151': {'active power': 5.32, 'reactive power': 1.33331768156045}, 'l3179682': {'active power': 6.1, 'reactive power': 1.52880410855616}, 'l2786274': {'active power': 10.17, 'reactive power': 2.54884225967478}, 'l3066816': {'active power': 5.32, 'reactive power': 1.33331768156045}, 'm1026667': {'active power': 0, 'reactive power': 0}, 'm1108529': {'active power': 0, 'reactive power': 0}, 'm1108532': {'active power': 0, 'reactive power': 0}, 'l2766723': {'active power': 8.87, 'reactive power': 2.22303154801527}, 'l3122822': {'active power': 8.87, 'reactive power': 2.22303154801527}, 'l2673312': {'active power': 8.87, 'reactive power': 2.22303154801527}, 'l3235247': {'active power': 5.32, 'reactive power': 1.33331768156045}, 'm1166391': {'active power': 0, 'reactive power': 0}, 'l3254873': {'active power': 6.1, 'reactive power': 1.52880410855616}, 'l2861157': {'active power': 10.17, 'reactive power': 2.54884225967478}, 'p901951': {'active power': 0, 'reactive power': 0}, 'm1047346': {'active power': 0, 'reactive power': 0}, 'm1047345': {'active power': 0, 'reactive power': 0}, 'l2989596': {'active power': 0, 'reactive power': 0}, 'l2822873': {'active power': 3.89, 'reactive power': 0.974925898734993}, 'm1108328': {'active power': 0, 'reactive power': 0}, 'l2875754': {'active power': 20.34, 'reactive power': 5.09768451934955}, 'l2786204': {'active power': 15.26, 'reactive power': 3.82451650763393}, 'm1209819': {'active power': 0, 'reactive power': 0}, 'p901972': {'active power': 0, 'reactive power': 0}, 'm1009726': {'active power': 0, 'reactive power': 0}, 'm1047702': {'active power': 0, 'reactive power': 0}, 'n1137001': {'active power': 0, 'reactive power': 0}, 'l2767340': {'active power': 86.3, 'reactive power': 21.62881878170436}, 'm3037449': {'active power': 0, 'reactive power': 0}, 'm1047457': {'active power': 0, 'reactive power': 0}, 'l2710546': {'active power': 9.73, 'reactive power': 2.43856786495925}, 'l2674027': {'active power': 9.73, 'reactive power': 2.43856786495925}, 'l2692633': {'active power': 10.17, 'reactive power': 2.54884225967478}, 'n1142108': {'active power': 0, 'reactive power': 0}, 'l2674051': {'active power': 5.32, 'reactive power': 1.33331768156045}, 'm1069135': {'active power': 0, 'reactive power': 0}, 'r18242': {'active power': 0, 'reactive power': 0}, 'm1047534': {'active power': 0, 'reactive power': 0}, 'n1136663': {'active power': 0, 'reactive power': 0}, 'm1108508': {'active power': 0, 'reactive power': 0}, 'l3097861': {'active power': 4.07, 'reactive power': 1.02003815111862}, 'm1069560': {'active power': 0, 'reactive power': 0}, 'l2973153': {'active power': 5.32, 'reactive power': 1.33331768156045}, 'n1136998': {'active power': 0, 'reactive power': 0}, 'l2898515': {'active power': 10.17, 'reactive power': 2.54884225967478}, 'm1166387': {'active power': 0, 'reactive power': 0}, 'm1047442': {'active power': 0, 'reactive power': 0}, 'l3235250': {'active power': 3.89, 'reactive power': 0.974925898734993}, 'm1142871': {'active power': 0, 'reactive power': 0}, 'm1142874': {'active power': 0, 'reactive power': 0}, 'l2955081': {'active power': 5.32, 'reactive power': 1.33331768156045}, 'm1108315': {'active power': 0, 'reactive power': 0}, 'l2973162': {'active power': 5.84, 'reactive power': 1.46364196622426}, 'm1026333': {'active power': 0, 'reactive power': 0}, 'm1009832': {'active power': 0, 'reactive power': 0}, 'l2860479': {'active power': 3.89, 'reactive power': 0.974925898734993}, 'm1026854': {'active power': 0, 'reactive power': 0}, 'p901894': {'active power': 0, 'reactive power': 0}, 'm1026485': {'active power': 0, 'reactive power': 0}, 'm1026492': {'active power': 0, 'reactive power': 0}, 'e182724': {'active power': 0, 'reactive power': 0}, 'n1139541': {'active power': 0, 'reactive power': 0}, 'm4122658': {'active power': 0, 'reactive power': 0}, 'l2933135': {'active power': 8.87, 'reactive power': 2.22303154801527}, 'l2729414': {'active power': 28.770000000000003, 'reactive power': 7.210441672649299}, 'l2729430': {'active power': 9.73, 'reactive power': 2.43856786495925}, 'l2766742': {'active power': 5.84, 'reactive power': 1.46364196622426}, 'm1026972': {'active power': 0, 'reactive power': 0}, 'l2860483': {'active power': 9.73, 'reactive power': 2.43856786495925}, 'l2860490': {'active power': 8.87, 'reactive power': 2.22303154801527}, 'l3104134': {'active power': 10.17, 'reactive power': 2.54884225967478}, 'm1089144': {'active power': 0, 'reactive power': 0}, 'p827522': {'active power': 0, 'reactive power': 0}, 'm1089118': {'active power': 0, 'reactive power': 0}, 'l3048208': {'active power': 5.32, 'reactive power': 1.33331768156045}, 'm1108505': {'active power': 0, 'reactive power': 0}, 'l2955047': {'active power': 8.87, 'reactive power': 2.22303154801527}, 'm1089148': {'active power': 0, 'reactive power': 0}, 'l2766721': {'active power': 8.87, 'reactive power': 2.22303154801527}, 'm1026745': {'active power': 0, 'reactive power': 0}, 'l3029183': {'active power': 5.84, 'reactive power': 1.46364196622426}, 'l2710512': {'active power': 9.73, 'reactive power': 2.43856786495925}, 'm1047828': {'active power': 0, 'reactive power': 0}, 'm1047342': {'active power': 0, 'reactive power': 0}, 'l3197645': {'active power': 8.87, 'reactive power': 2.22303154801527}, 'm1069192': {'active power': 0, 'reactive power': 0}, 'l3235253': {'active power': 8.87, 'reactive power': 2.22303154801527}, 'l3214071': {'active power': 10.17, 'reactive power': 2.54884225967478}, 'm1125952': {'active power': 0, 'reactive power': 0}, 'm1027101': {'active power': 0, 'reactive power': 0}, 'l2860480': {'active power': 9.73, 'reactive power': 2.43856786495925}, 'l2710517': {'active power': 5.32, 'reactive power': 1.33331768156045}, 'm1026646': {'active power': 0, 'reactive power': 0}, 'm1069662': {'active power': 0, 'reactive power': 0}, 'l2935547': {'active power': 5.84, 'reactive power': 1.46364196622426}, 'm1026931': {'active power': 0, 'reactive power': 0}, 'l3216336': {'active power': 8.87, 'reactive power': 2.22303154801527}, 'l3142049': {'active power': 4.07, 'reactive power': 1.02003815111862}, 'm1108493': {'active power': 0, 'reactive power': 0}, 'm1069169': {'active power': 0, 'reactive power': 0}, 'l3010556': {'active power': 5.32, 'reactive power': 1.33331768156045}, 'l2991933': {'active power': 20.34, 'reactive power': 5.09768451934955}, 'l3122837': {'active power': 15.26, 'reactive power': 3.82451650763393}, 'l2691936': {'active power': 5.32, 'reactive power': 1.33331768156045}, 'l2897772': {'active power': 5.32, 'reactive power': 1.33331768156045}, 'l3101814': {'active power': 0, 'reactive power': 0}, 'l2766732': {'active power': 3.89, 'reactive power': 0.974925898734993}, 'l2989564': {'active power': 5.84, 'reactive power': 1.46364196622426}, 'm1126016': {'active power': 0, 'reactive power': 0}, 'l3120534': {'active power': 0, 'reactive power': 0}, 'm1026330': {'active power': 0, 'reactive power': 0}, 'l2766726': {'active power': 5.84, 'reactive power': 1.46364196622426}, 'p901912': {'active power': 0, 'reactive power': 0}, 'l3195365': {'active power': 0, 'reactive power': 0}, 'm1108381': {'active power': 0, 'reactive power': 0}, 'l3254237': {'active power': 8.87, 'reactive power': 2.22303154801527}, 'l2804262': {'active power': 5.32, 'reactive power': 1.33331768156045}, 'l2841639': {'active power': 8.87, 'reactive power': 2.22303154801527}, 'n1230123': {'active power': 0, 'reactive power': 0}, 'l2708744': {'active power': 29.18, 'reactive power': 7.31319735863422}, 'm1069519': {'active power': 0, 'reactive power': 0}, 'p901927': {'active power': 0, 'reactive power': 0}, 'l2897790': {'active power': 10.17, 'reactive power': 2.54884225967478}, 'l2935566': {'active power': 10.17, 'reactive power': 2.54884225967478}, 'l3216337': {'active power': 5.32, 'reactive power': 1.33331768156045}, 'p901931': {'active power': 0, 'reactive power': 0}, 'm1069548': {'active power': 0, 'reactive power': 0}, 'm1010013': {'active power': 0, 'reactive power': 0}, 'l3120503': {'active power': 5.32, 'reactive power': 1.33331768156045}, 'm1089145': {'active power': 0, 'reactive power': 0}, 'l3215385': {'active power': 48.01, 'reactive power': 12.03244020521003}, 'm1026852': {'active power': 0, 'reactive power': 0}, 'm1069420': {'active power': 0, 'reactive power': 0}, 'l3157708': {'active power': 6.1, 'reactive power': 1.52880410855616}, 'n1137991': {'active power': 0, 'reactive power': 0}, 'm1108413': {'active power': 0, 'reactive power': 0}, 'm1108460': {'active power': 0, 'reactive power': 0}, 'p827532': {'active power': 0, 'reactive power': 0}, 'm1047326': {'active power': 0, 'reactive power': 0}, 'e182732': {'active power': 0, 'reactive power': 0}, 'm1026760': {'active power': 0, 'reactive power': 0}, 'l3048205': {'active power': 10.17, 'reactive power': 2.54884225967478}, 'm1108361': {'active power': 0, 'reactive power': 0}, 'm3036169': {'active power': 0, 'reactive power': 0}, 'l2673317': {'active power': 5.32, 'reactive power': 1.33331768156045}, 'l3178981': {'active power': 9.73, 'reactive power': 2.43856786495925}, 'm1047368': {'active power': 0, 'reactive power': 0}, 'n1136354': {'active power': 0, 'reactive power': 0}, 'l2879794': {'active power': 13.3, 'reactive power': 3.33329420390113}, 'm1142811': {'active power': 0, 'reactive power': 0}, 'm1069565': {'active power': 0, 'reactive power': 0}, 'l2785536': {'active power': 5.84, 'reactive power': 1.46364196622426}, 'l3104114': {'active power': 9.73, 'reactive power': 2.43856786495925}, 'm1009824': {'active power': 0, 'reactive power': 0}, 'l2745848': {'active power': 0, 'reactive power': 0}, 'l2673308': {'active power': 14.59, 'reactive power': 3.65659867931711}, 'l2991939': {'active power': 9.73, 'reactive power': 2.43856786495925}, 'l2916606': {'active power': 6.1, 'reactive power': 1.52880410855616}, 'l2822864': {'active power': 6.1, 'reactive power': 1.52880410855616}, 'm1142851': {'active power': 0, 'reactive power': 0}, '196-31070': {'active power': 0, 'reactive power': 0}, 'm1209822': {'active power': 0, 'reactive power': 0}, 'm1209823': {'active power': 0, 'reactive power': 0}, 'm1069550': {'active power': 0, 'reactive power': 0}, 'm1069551': {'active power': 0, 'reactive power': 0}, 'l3141397': {'active power': 9.73, 'reactive power': 2.43856786495925}, 'l3649299': {'active power': 8.87, 'reactive power': 2.22303154801527}, 'm3772794': {'active power': 0, 'reactive power': 0}, 'p895106': {'active power': 0, 'reactive power': 0}, 'l3048887': {'active power': 14.59, 'reactive power': 3.65659867931711}, 'm1047824': {'active power': 0, 'reactive power': 0}, 'm1047834': {'active power': 0, 'reactive power': 0}, 'm1069350': {'active power': 0, 'reactive power': 0}, 'n1144668': {'active power': 0, 'reactive power': 0}, 'l2879072': {'active power': 5.84, 'reactive power': 1.46364196622426}, 'm1047441': {'active power': 0, 'reactive power': 0}, 'm1108274': {'active power': 0, 'reactive power': 0}, 'm1108269': {'active power': 0, 'reactive power': 0}, 'l3235244': {'active power': 8.87, 'reactive power': 2.22303154801527}, 'm1069398': {'active power': 0, 'reactive power': 0}, 'n1147862': {'active power': 0, 'reactive power': 0}, 'l2685805': {'active power': 8.87, 'reactive power': 2.22303154801527}, 'm1069247': {'active power': 0, 'reactive power': 0}, 'm1069248': {'active power': 0, 'reactive power': 0}, 'l2786273': {'active power': 9.73, 'reactive power': 2.43856786495925}, 'm1108278': {'active power': 0, 'reactive power': 0}, 'l3254238': {'active power': 9.73, 'reactive power': 2.43856786495925}, 'm1047303': {'active power': 0, 'reactive power': 0}, 'm1047633': {'active power': 0, 'reactive power': 0}, 'l2897554': {'active power': 20.34, 'reactive power': 5.09768451934955}, 'm1069627': {'active power': 0, 'reactive power': 0}, 'l2897791': {'active power': 14.59, 'reactive power': 3.65659867931711}, 'm1089097': {'active power': 0, 'reactive power': 0}, 'm1108270': {'active power': 0, 'reactive power': 0}, 'n1142101': {'active power': 0, 'reactive power': 0}, 'l2936214': {'active power': 8.87, 'reactive power': 2.22303154801527}, 'l3066810': {'active power': 10.17, 'reactive power': 2.54884225967478}, 'l2897769': {'active power': 10.17, 'reactive power': 2.54884225967478}, 'm1209758': {'active power': 0, 'reactive power': 0}, 'm1209753': {'active power': 0, 'reactive power': 0}, 'm1047528': {'active power': 0, 'reactive power': 0}, 'l2858166': {'active power': 3.55, 'reactive power': 0.889713866454814}, 'm1142843': {'active power': 0, 'reactive power': 0}, 'l3081380': {'active power': 5.32, 'reactive power': 1.33331768156045}, 'l2804272': {'active power': 5.84, 'reactive power': 1.46364196622426}, 'l2841641': {'active power': 5.84, 'reactive power': 1.46364196622426}, 'm1069393': {'active power': 0, 'reactive power': 0}, 'm1069408': {'active power': 0, 'reactive power': 0}, 'n1142104': {'active power': 0, 'reactive power': 0}, 'm1108500': {'active power': 0, 'reactive power': 0}, 'l3216348': {'active power': 5.32, 'reactive power': 1.33331768156045}, 'l2841627': {'active power': 5.32, 'reactive power': 1.33331768156045}, 'l2916599': {'active power': 8.87, 'reactive power': 2.22303154801527}, 'm1047447': {'active power': 0, 'reactive power': 0}, 'l2954349': {'active power': 9.73, 'reactive power': 2.43856786495925}, 'l3235246': {'active power': 5.84, 'reactive power': 1.46364196622426}, 'm1125911': {'active power': 0, 'reactive power': 0}, 'l2711224': {'active power': 3.89, 'reactive power': 0.974925898734993}, 'n1147863': {'active power': 0, 'reactive power': 0}, 'l3122817': {'active power': 6.1, 'reactive power': 1.52880410855616}, 'm1186061': {'active power': 0, 'reactive power': 0}, 'l2861223': {'active power': 9.73, 'reactive power': 2.43856786495925}, 'm1069130': {'active power': 0, 'reactive power': 0}, 'l3085396': {'active power': 8.87, 'reactive power': 2.22303154801527}, 'e182730': {'active power': 0, 'reactive power': 0}, 'n1142109': {'active power': 0, 'reactive power': 0}, 'm1069417': {'active power': 0, 'reactive power': 0}, 'n1138597': {'active power': 0, 'reactive power': 0}, 'm1026987': {'active power': 0, 'reactive power': 0}, 'm1026990': {'active power': 0, 'reactive power': 0}, 'm1142832': {'active power': 0, 'reactive power': 0}, 'l3160865': {'active power': 8.87, 'reactive power': 2.22303154801527}, 'l2673323': {'active power': 10.17, 'reactive power': 2.54884225967478}, 'm1009809': {'active power': 0, 'reactive power': 0}, 'l2822869': {'active power': 8.87, 'reactive power': 2.22303154801527}, 'm1026808': {'active power': 0, 'reactive power': 0}, 'm1047825': {'active power': 0, 'reactive power': 0}, 'm1069731': {'active power': 0, 'reactive power': 0}, 'n1140520': {'active power': 0, 'reactive power': 0}, 'l2729410': {'active power': 10.17, 'reactive power': 2.54884225967478}, 'l3178978': {'active power': 5.32, 'reactive power': 1.33331768156045}, 'm1069384': {'active power': 0, 'reactive power': 0}, 'l3066805': {'active power': 8.87, 'reactive power': 2.22303154801527}, 'm4362181': {'active power': 0, 'reactive power': 0}, 'm1047319': {'active power': 0, 'reactive power': 0}, 'm1047318': {'active power': 0, 'reactive power': 0}, 'l3216358': {'active power': 8.87, 'reactive power': 2.22303154801527}, 'm1026826': {'active power': 0, 'reactive power': 0}, 'm1108276': {'active power': 0, 'reactive power': 0}, 'm1089198': {'active power': 0, 'reactive power': 0}, 'm1089201': {'active power': 0, 'reactive power': 0}, 'm1047763': {'active power': 0, 'reactive power': 0}, 'n1136027': {'active power': 0, 'reactive power': 0}, 'l3101827': {'active power': 0, 'reactive power': 0}, 'm1108540': {'active power': 0, 'reactive power': 0}, 'm1026335': {'active power': 0, 'reactive power': 0}, 'l2804259': {'active power': 8.87, 'reactive power': 2.22303154801527}, 'n1136357': {'active power': 0, 'reactive power': 0}, 'm1047513': {'active power': 0, 'reactive power': 0}, 'm1047507': {'active power': 0, 'reactive power': 0}, 'm1142863': {'active power': 0, 'reactive power': 0}, 'n1141480': {'active power': 0, 'reactive power': 0}, 'm1125916': {'active power': 0, 'reactive power': 0}, 'l2879767': {'active power': 3.89, 'reactive power': 0.974925898734993}, 'l3066809': {'active power': 10.17, 'reactive power': 2.54884225967478}, 'm1069487': {'active power': 0, 'reactive power': 0}, 'm1142818': {'active power': 0, 'reactive power': 0}, 'p829965': {'active power': 0, 'reactive power': 0}, 'm1047568': {'active power': 0, 'reactive power': 0}, 'm1047322': {'active power': 0, 'reactive power': 0}, 'l2954338': {'active power': 9.73, 'reactive power': 2.43856786495925}, 'm1047409': {'active power': 0, 'reactive power': 0}, 'l2841648': {'active power': 5.32, 'reactive power': 1.33331768156045}, 'm1089177': {'active power': 0, 'reactive power': 0}, 'm1026951': {'active power': 0, 'reactive power': 0}, 'l2954347': {'active power': 9.73, 'reactive power': 2.43856786495925}, 'm4122657': {'active power': 0, 'reactive power': 0}, 'l3027124': {'active power': 10.17, 'reactive power': 2.54884225967478}, 'm1069419': {'active power': 0, 'reactive power': 0}, 'm1069418': {'active power': 0, 'reactive power': 0}, 'm1026824': {'active power': 0, 'reactive power': 0}, 'p859694': {'active power': 0, 'reactive power': 0}, 'm1047453': {'active power': 0, 'reactive power': 0}, 'l2691948': {'active power': 5.84, 'reactive power': 1.46364196622426}, 'p860892': {'active power': 0, 'reactive power': 0}, 'n1139543': {'active power': 0, 'reactive power': 0}, 'm1089205': {'active power': 0, 'reactive power': 0}, 'n1134472': {'active power': 0, 'reactive power': 0}, 'l2710542': {'active power': 9.73, 'reactive power': 2.43856786495925}, 'm3032980': {'active power': 0, 'reactive power': 0}, 'm3032977': {'active power': 0, 'reactive power': 0}, 'm3763618': {'active power': 0, 'reactive power': 0}, 'p1121282': {'active power': 0, 'reactive power': 0}, 'l2917330': {'active power': 8.87, 'reactive power': 2.22303154801527}, 'l2861222': {'active power': 13.3, 'reactive power': 3.33329420390113}, 'm1047490': {'active power': 0, 'reactive power': 0}, 'p1164481': {'active power': 0, 'reactive power': 0}, 'm1069356': {'active power': 0, 'reactive power': 0}, 'm1069363': {'active power': 0, 'reactive power': 0}, 'p828359': {'active power': 0, 'reactive power': 0}, 'l2878848': {'active power': 15.26, 'reactive power': 3.82451650763393}, 'm1047486': {'active power': 0, 'reactive power': 0}, 'l3177665': {'active power': 13.3, 'reactive power': 3.33329420390113}, 'l2805036': {'active power': 3.89, 'reactive power': 0.974925898734993}, 'l2692654': {'active power': 5.32, 'reactive power': 1.33331768156045}, 'm1125929': {'active power': 0, 'reactive power': 0}, 'm1047669': {'active power': 0, 'reactive power': 0}, 'm1047672': {'active power': 0, 'reactive power': 0}, 'm1125919': {'active power': 0, 'reactive power': 0}, 'p829961': {'active power': 0, 'reactive power': 0}, 'm1142819': {'active power': 0, 'reactive power': 0}, 'p829960': {'active power': 0, 'reactive power': 0}, 'p829979': {'active power': 0, 'reactive power': 0}, 'm3036172': {'active power': 0, 'reactive power': 0}, 'm1026883': {'active power': 0, 'reactive power': 0}, 'm1026898': {'active power': 0, 'reactive power': 0}, 'm1089143': {'active power': 0, 'reactive power': 0}, 'l3141400': {'active power': 3.55, 'reactive power': 0.889713866454814}, 'm1069481': {'active power': 0, 'reactive power': 0}, 'p827507': {'active power': 0, 'reactive power': 0}, 'm1026377': {'active power': 0, 'reactive power': 0}, 'l3048210': {'active power': 13.3, 'reactive power': 3.33329420390113}, 'e182722': {'active power': 0, 'reactive power': 0}, 'm1026331': {'active power': 0, 'reactive power': 0}, 'l3214055': {'active power': 6.1, 'reactive power': 1.52880410855616}, 'm1108295': {'active power': 0, 'reactive power': 0}, 'l2936279': {'active power': 10.17, 'reactive power': 2.54884225967478}, 'm1026704': {'active power': 0, 'reactive power': 0}, 'l2841634': {'active power': 14.59, 'reactive power': 3.65659867931711}, 'm1047386': {'active power': 0, 'reactive power': 0}, 'm1047379': {'active power': 0, 'reactive power': 0}, 'm1089115': {'active power': 0, 'reactive power': 0}, 'm1026486': {'active power': 0, 'reactive power': 0}, 'm1026488': {'active power': 0, 'reactive power': 0}, 'l3010570': {'active power': 5.32, 'reactive power': 1.33331768156045}, 'p904451': {'active power': 0, 'reactive power': 0}, '221-282819': {'active power': 0, 'reactive power': 0}, 'm1125968': {'active power': 0, 'reactive power': 0}, 'p895107': {'active power': 0, 'reactive power': 0}, 'n1136999': {'active power': 0, 'reactive power': 0}, 'm1069412': {'active power': 0, 'reactive power': 0}, 'l2879061': {'active power': 3.89, 'reactive power': 0.974925898734993}, 'm1026947': {'active power': 0, 'reactive power': 0}, 'm1142880': {'active power': 0, 'reactive power': 0}, 'l2891575': {'active power': 6.1, 'reactive power': 1.52880410855616}, 'm1026848': {'active power': 0, 'reactive power': 0}, 'm1026847': {'active power': 0, 'reactive power': 0}, 'l2897793': {'active power': 3.55, 'reactive power': 0.889713866454814}, 'm1069521': {'active power': 0, 'reactive power': 0}, 'm1069175': {'active power': 0, 'reactive power': 0}, 'l3197637': {'active power': 4.07, 'reactive power': 1.02003815111862}, 'l3197635': {'active power': 5.84, 'reactive power': 1.46364196622426}, 'l2804257': {'active power': 5.84, 'reactive power': 1.46364196622426}, 'l2860485': {'active power': 5.84, 'reactive power': 1.46364196622426}, 'l3235945': {'active power': 10.17, 'reactive power': 2.54884225967478}, 'l2842330': {'active power': 10.17, 'reactive power': 2.54884225967478}, 'l2804254': {'active power': 8.87, 'reactive power': 2.22303154801527}, 'm1047752': {'active power': 0, 'reactive power': 0}, 'm1166370': {'active power': 0, 'reactive power': 0}, 'm1166364': {'active power': 0, 'reactive power': 0}, 'm3763619': {'active power': 0, 'reactive power': 0}, 'm3037540': {'active power': 0, 'reactive power': 0}, 'l2710509': {'active power': 6.1, 'reactive power': 1.52880410855616}, 'l2763072': {'active power': 9.73, 'reactive power': 2.43856786495925}, 'm4118754': {'active power': 0, 'reactive power': 0}, 'm1089196': {'active power': 0, 'reactive power': 0}, 'm1047484': {'active power': 0, 'reactive power': 0}, 'l3010560': {'active power': 9.73, 'reactive power': 2.43856786495925}, 'l3254219': {'active power': 10.17, 'reactive power': 2.54884225967478}, 'l3254220': {'active power': 10.17, 'reactive power': 2.54884225967478}, 'm1026648': {'active power': 0, 'reactive power': 0}, 'm1026647': {'active power': 0, 'reactive power': 0}, 'm1089112': {'active power': 0, 'reactive power': 0}, 'l2691951': {'active power': 10.17, 'reactive power': 2.54884225967478}, 'm1108433': {'active power': 0, 'reactive power': 0}, 'm1026327': {'active power': 0, 'reactive power': 0}, 'l2841636': {'active power': 5.84, 'reactive power': 1.46364196622426}, 'l2990826': {'active power': 28.770000000000003, 'reactive power': 7.210441672649299}, 'l2911069': {'active power': 5.84, 'reactive power': 1.46364196622426}, 'l2948732': {'active power': 5.84, 'reactive power': 1.46364196622426}, 'm1108260': {'active power': 0, 'reactive power': 0}, 'm1108259': {'active power': 0, 'reactive power': 0}, 'm1069312': {'active power': 0, 'reactive power': 0}, 'p873800': {'active power': 0, 'reactive power': 0}, 'm1186078': {'active power': 0, 'reactive power': 0}, 'l2876797': {'active power': 5.32, 'reactive power': 1.33331768156045}, 'r18241': {'active power': 0, 'reactive power': 0}, 'l3254227': {'active power': 3.89, 'reactive power': 0.974925898734993}, 'm3037455': {'active power': 0, 'reactive power': 0}, 'l3217052': {'active power': 10.17, 'reactive power': 2.54884225967478}, 'p827500': {'active power': 0, 'reactive power': 0}, 'l2822861': {'active power': 8.87, 'reactive power': 2.22303154801527}, 'm1047724': {'active power': 0, 'reactive power': 0}, 'm1047722': {'active power': 0, 'reactive power': 0}, 'e182729': {'active power': 0, 'reactive power': 0}, 'n1134477': {'active power': 0, 'reactive power': 0}, 'm1166355': {'active power': 0, 'reactive power': 0}, 'l2858200': {'active power': 0, 'reactive power': 0}, 'm1047699': {'active power': 0, 'reactive power': 0}, 'l2935554': {'active power': 3.55, 'reactive power': 0.889713866454814}, 'm1047292': {'active power': 0, 'reactive power': 0}, 'l2766750': {'active power': 15.26, 'reactive power': 3.82451650763393}, 'l3649300': {'active power': 13.3, 'reactive power': 3.33329420390113}, 'm1047733': {'active power': 0, 'reactive power': 0}, 'l3066804': {'active power': 13.3, 'reactive power': 3.33329420390113}, 'm3327098': {'active power': 0, 'reactive power': 0}, 'l2691943': {'active power': 5.84, 'reactive power': 1.46364196622426}, 'p829986': {'active power': 0, 'reactive power': 0}, 'm1125904': {'active power': 0, 'reactive power': 0}, 'n1139550': {'active power': 0, 'reactive power': 0}, 'm1026307': {'active power': 0, 'reactive power': 0}, 'l3085388': {'active power': 3.89, 'reactive power': 0.974925898734993}, 'l3233413': {'active power': 19.45, 'reactive power': 4.87462949367497}, 'l3122827': {'active power': 8.87, 'reactive power': 2.22303154801527}, 'l2954355': {'active power': 5.32, 'reactive power': 1.33331768156045}, 'p827576': {'active power': 0, 'reactive power': 0}, 'n1139256': {'active power': 0, 'reactive power': 0}, 'l2952003': {'active power': 9.73, 'reactive power': 2.43856786495925}, 'n1136359': {'active power': 0, 'reactive power': 0}, 'l3008237': {'active power': 10.17, 'reactive power': 2.54884225967478}, 'm1089102': {'active power': 0, 'reactive power': 0}, 'm1089096': {'active power': 0, 'reactive power': 0}, 'p895102': {'active power': 0, 'reactive power': 0}, 'm1125978': {'active power': 0, 'reactive power': 0}, 'm1026706': {'active power': 0, 'reactive power': 0}, 'n1140825': {'active power': 0, 'reactive power': 0}, 'l3141399': {'active power': 15.26, 'reactive power': 3.82451650763393}, 'm1069210': {'active power': 0, 'reactive power': 0}, 'm3763624': {'active power': 0, 'reactive power': 0}, 'p1121283': {'active power': 0, 'reactive power': 0}, 'm1142839': {'active power': 0, 'reactive power': 0}, 'l3067507': {'active power': 15.26, 'reactive power': 3.82451650763393}, 'n1141478': {'active power': 0, 'reactive power': 0}, 'm1142826': {'active power': 0, 'reactive power': 0}, 'm1108334': {'active power': 0, 'reactive power': 0}, 'l2692664': {'active power': 6.1, 'reactive power': 1.52880410855616}, 'l2823544': {'active power': 8.87, 'reactive power': 2.22303154801527}, '226-23751': {'active power': 0, 'reactive power': 0}, 'p827536': {'active power': 0, 'reactive power': 0}, 'n1137999': {'active power': 0, 'reactive power': 0}, 'l3027157': {'active power': 0, 'reactive power': 0}, 'l2973155': {'active power': 5.32, 'reactive power': 1.33331768156045}, 'm1186052': {'active power': 0, 'reactive power': 0}, '198-5320': {'active power': 0, 'reactive power': 0}, 'l3216346': {'active power': 5.32, 'reactive power': 1.33331768156045}, 'l2858163': {'active power': 5.32, 'reactive power': 1.33331768156045}, 'm1047813': {'active power': 0, 'reactive power': 0}, 'l2973149': {'active power': 5.84, 'reactive power': 1.46364196622426}, 'l3086079': {'active power': 3.89, 'reactive power': 0.974925898734993}, 'm1069574': {'active power': 0, 'reactive power': 0}, 'l2710530': {'active power': 5.84, 'reactive power': 1.46364196622426}, 'm1069285': {'active power': 0, 'reactive power': 0}, 'm4113348': {'active power': 0, 'reactive power': 0}, 'l2879074': {'active power': 5.32, 'reactive power': 1.33331768156045}, 'm1026916': {'active power': 0, 'reactive power': 0}, 'e193509': {'active power': 0, 'reactive power': 0}, 'm1047794': {'active power': 0, 'reactive power': 0}, 'm1047796': {'active power': 0, 'reactive power': 0}, 'l3027116': {'active power': 5.32, 'reactive power': 1.33331768156045}, 'l2929261': {'active power': 5.32, 'reactive power': 1.33331768156045}, 'm1166375': {'active power': 0, 'reactive power': 0}, 'p895080': {'active power': 0, 'reactive power': 0}, 'l2973156': {'active power': 5.84, 'reactive power': 1.46364196622426}, 'm1069311': {'active power': 0, 'reactive power': 0}, 'm1069208': {'active power': 0, 'reactive power': 0}, 'l2691945': {'active power': 10.17, 'reactive power': 2.54884225967478}, 'n1140820': {'active power': 0, 'reactive power': 0}, 'm1026468': {'active power': 0, 'reactive power': 0}, 'p901909': {'active power': 0, 'reactive power': 0}, 'm1026662': {'active power': 0, 'reactive power': 0}, 'n1141473': {'active power': 0, 'reactive power': 0}, 'm1026941': {'active power': 0, 'reactive power': 0}, 'm1026942': {'active power': 0, 'reactive power': 0}, 'n1137985': {'active power': 0, 'reactive power': 0}, 'm1047713': {'active power': 0, 'reactive power': 0}, 'm1047720': {'active power': 0, 'reactive power': 0}, 'm1108298': {'active power': 0, 'reactive power': 0}, '196-36167': {'active power': 0, 'reactive power': 0}, 'e183472': {'active power': 0, 'reactive power': 0}, 'l2989566': {'active power': 5.84, 'reactive power': 1.46364196622426}, 'm1010007': {'active power': 0, 'reactive power': 0}, 'm1010004': {'active power': 0, 'reactive power': 0}, 'p862322': {'active power': 0, 'reactive power': 0}, 'm1089188': {'active power': 0, 'reactive power': 0}, 'm1089189': {'active power': 0, 'reactive power': 0}, 'l2972704': {'active power': 6.1, 'reactive power': 1.52880410855616}, 'l3263051': {'active power': 10.17, 'reactive power': 2.54884225967478}, 'n1139544': {'active power': 0, 'reactive power': 0}, 'l2897776': {'active power': 10.17, 'reactive power': 2.54884225967478}, 'n1230122': {'active power': 0, 'reactive power': 0}, 'l2689726': {'active power': 0, 'reactive power': 0}, 'm1142868': {'active power': 0, 'reactive power': 0}, 'm1142869': {'active power': 0, 'reactive power': 0}, 'l2767414': {'active power': 6.1, 'reactive power': 1.52880410855616}, 'm1027027': {'active power': 0, 'reactive power': 0}, 'l3270853': {'active power': 0, 'reactive power': 0}, 'm1125982': {'active power': 0, 'reactive power': 0}, 'm1069572': {'active power': 0, 'reactive power': 0}, 'l3066826': {'active power': 14.59, 'reactive power': 3.65659867931711}, 'm1166356': {'active power': 0, 'reactive power': 0}, 'l2730187': {'active power': 13.3, 'reactive power': 3.33329420390113}, 'l3122825': {'active power': 13.3, 'reactive power': 3.33329420390113}, 'l2991920': {'active power': 5.32, 'reactive power': 1.33331768156045}, 'n1134474': {'active power': 0, 'reactive power': 0}, 'm1069496': {'active power': 0, 'reactive power': 0}, 'l3122826': {'active power': 8.87, 'reactive power': 2.22303154801527}, 'm1047358': {'active power': 0, 'reactive power': 0}, 'l3142078': {'active power': 3.89, 'reactive power': 0.974925898734993}, 'l2879752': {'active power': 5.84, 'reactive power': 1.46364196622426}, 'p850072': {'active power': 0, 'reactive power': 0}, '221-311609': {'active power': 0, 'reactive power': 0}, 'm1027023': {'active power': 0, 'reactive power': 0}, 'l3122815': {'active power': 5.84, 'reactive power': 1.46364196622426}, 'l2724120': {'active power': 10.17, 'reactive power': 2.54884225967478}, 'm1069149': {'active power': 0, 'reactive power': 0}, 'l2729429': {'active power': 8.87, 'reactive power': 2.22303154801527}, 'l3215549': {'active power': 9.73, 'reactive power': 2.43856786495925}, 'l2897800': {'active power': 3.89, 'reactive power': 0.974925898734993}, 'l3027156': {'active power': 0, 'reactive power': 0}, 'l2860481': {'active power': 4.07, 'reactive power': 1.02003815111862}, 'n1140828': {'active power': 0, 'reactive power': 0}, 'm1026708': {'active power': 0, 'reactive power': 0}, 'm1126020': {'active power': 0, 'reactive power': 0}, 'm1126023': {'active power': 0, 'reactive power': 0}, 'm1026906': {'active power': 0, 'reactive power': 0}, 'm1209824': {'active power': 0, 'reactive power': 0}, 'm1209828': {'active power': 0, 'reactive power': 0}, 'l3195315': {'active power': 8.87, 'reactive power': 2.22303154801527}, 'm1069590': {'active power': 0, 'reactive power': 0}, 'm1069595': {'active power': 0, 'reactive power': 0}, 'm1027004': {'active power': 0, 'reactive power': 0}, 'l2897765': {'active power': 5.84, 'reactive power': 1.46364196622426}, 'm1047314': {'active power': 0, 'reactive power': 0}, 'n1137961': {'active power': 0, 'reactive power': 0}, 'l2876814': {'active power': 3.55, 'reactive power': 0.889713866454814}, 'm1026834': {'active power': 0, 'reactive power': 0}, 'm1008743': {'active power': 0, 'reactive power': 0}, 'm1008742': {'active power': 0, 'reactive power': 0}, 'p827525': {'active power': 0, 'reactive power': 0}, 'm1026902': {'active power': 0, 'reactive power': 0}, 'n1144663': {'active power': 0, 'reactive power': 0}, 'm1089215': {'active power': 0, 'reactive power': 0}, 'm1069467': {'active power': 0, 'reactive power': 0}, 'm1047324': {'active power': 0, 'reactive power': 0}, 'l2897780': {'active power': 9.73, 'reactive power': 2.43856786495925}, 'm1069411': {'active power': 0, 'reactive power': 0}, 'l2711226': {'active power': 9.73, 'reactive power': 2.43856786495925}, 'l3101789': {'active power': 8.87, 'reactive power': 2.22303154801527}, 'l2841616': {'active power': 8.87, 'reactive power': 2.22303154801527}, 'm1089170': {'active power': 0, 'reactive power': 0}, 'l2879062': {'active power': 6.1, 'reactive power': 1.52880410855616}, 'n1139545': {'active power': 0, 'reactive power': 0}, 'm1069174': {'active power': 0, 'reactive power': 0}, 'n1140517': {'active power': 0, 'reactive power': 0}, 'l3157718': {'active power': 5.32, 'reactive power': 1.33331768156045}, 'l2727008': {'active power': 0, 'reactive power': 0}, 'm1069629': {'active power': 0, 'reactive power': 0}, 'l2691944': {'active power': 8.87, 'reactive power': 2.22303154801527}, 'n1230121': {'active power': 0, 'reactive power': 0}, 'm1069533': {'active power': 0, 'reactive power': 0}, 'n1136356': {'active power': 0, 'reactive power': 0}, 'm1142865': {'active power': 0, 'reactive power': 0}, 'm1047526': {'active power': 0, 'reactive power': 0}, 'n1136666': {'active power': 0, 'reactive power': 0}, 'l2804253': {'active power': 5.32, 'reactive power': 1.33331768156045}, 'm1209790': {'active power': 0, 'reactive power': 0}, 'm1209788': {'active power': 0, 'reactive power': 0}, 'p850400': {'active power': 0, 'reactive power': 0}, 'l3029500': {'active power': 8.87, 'reactive power': 2.22303154801527}, 'm1026764': {'active power': 0, 'reactive power': 0}, 'm1108375': {'active power': 0, 'reactive power': 0}, 'm1069217': {'active power': 0, 'reactive power': 0}, 'l2954350': {'active power': 6.1, 'reactive power': 1.52880410855616}, 'l2802481': {'active power': 26.6, 'reactive power': 6.66658840780227}, 'l3214549': {'active power': 17.74, 'reactive power': 4.44606309603054}, 'l2851933': {'active power': 33.86, 'reactive power': 8.48611592060845}, 'l3207907': {'active power': 67.26, 'reactive power': 16.856944974014308}, 'l2841619': {'active power': 15.26, 'reactive power': 3.82451650763393}, 'm1108380': {'active power': 0, 'reactive power': 0}, 'p904452': {'active power': 0, 'reactive power': 0}, 'n1136995': {'active power': 0, 'reactive power': 0}, 'm1047613': {'active power': 0, 'reactive power': 0}, '221-306687': {'active power': 0, 'reactive power': 0}, 'l2916625': {'active power': 14.59, 'reactive power': 3.65659867931711}, 'm1009724': {'active power': 0, 'reactive power': 0}, 'm1009720': {'active power': 0, 'reactive power': 0}, 'l2822862': {'active power': 6.1, 'reactive power': 1.52880410855616}, 'e182727': {'active power': 0, 'reactive power': 0}, 'm1027043': {'active power': 0, 'reactive power': 0}, 'm1026948': {'active power': 0, 'reactive power': 0}, 'm1026949': {'active power': 0, 'reactive power': 0}, 'm1089131': {'active power': 0, 'reactive power': 0}, 'l3270854': {'active power': 0, 'reactive power': 0}, 'm1209763': {'active power': 0, 'reactive power': 0}, 'l3176661': {'active power': 4.07, 'reactive power': 1.02003815111862}, 'l2970804': {'active power': 10.17, 'reactive power': 2.54884225967478}, 'p827504': {'active power': 0, 'reactive power': 0}, 'n1137957': {'active power': 0, 'reactive power': 0}, 'l2936275': {'active power': 3.89, 'reactive power': 0.974925898734993}, 'l2766722': {'active power': 9.73, 'reactive power': 2.43856786495925}, 'l3142079': {'active power': 5.84, 'reactive power': 1.46364196622426}, 'm3036162': {'active power': 0, 'reactive power': 0}, 'm1026724': {'active power': 0, 'reactive power': 0}, 'r18243': {'active power': 0, 'reactive power': 0}, 'l2710504': {'active power': 14.59, 'reactive power': 3.65659867931711}, 'm1142860': {'active power': 0, 'reactive power': 0}, 'p895114': {'active power': 0, 'reactive power': 0}, 'l3197652': {'active power': 8.87, 'reactive power': 2.22303154801527}, 'p827575': {'active power': 0, 'reactive power': 0}, 'm1069437': {'active power': 0, 'reactive power': 0}, 'm1069620': {'active power': 0, 'reactive power': 0}, 'l3270814': {'active power': 8.87, 'reactive power': 2.22303154801527}, 'm1026378': {'active power': 0, 'reactive power': 0}, 'l2897778': {'active power': 3.55, 'reactive power': 0.889713866454814}, 'm1069532': {'active power': 0, 'reactive power': 0}, 'l2785534': {'active power': 9.73, 'reactive power': 2.43856786495925}, 'm1069147': {'active power': 0, 'reactive power': 0}, 'l3066801': {'active power': 4.07, 'reactive power': 1.02003815111862}, 'm1069556': {'active power': 0, 'reactive power': 0}, 'p901932': {'active power': 0, 'reactive power': 0}, 'l2691967': {'active power': 5.84, 'reactive power': 1.46364196622426}, 'm1069504': {'active power': 0, 'reactive power': 0}, 'm1166393': {'active power': 0, 'reactive power': 0}, 'm1166395': {'active power': 0, 'reactive power': 0}, 'l2766718': {'active power': 15.26, 'reactive power': 3.82451650763393}, 'l3048206': {'active power': 8.87, 'reactive power': 2.22303154801527}, 'm1047821': {'active power': 0, 'reactive power': 0}, 'l2684420': {'active power': 5.84, 'reactive power': 1.46364196622426}, 'p850080': {'active power': 0, 'reactive power': 0}, '221-311905': {'active power': 0, 'reactive power': 0}, 'm1089204': {'active power': 0, 'reactive power': 0}, 'l3157167': {'active power': 5.32, 'reactive power': 1.33331768156045}, 'm1186072': {'active power': 0, 'reactive power': 0}, 'm1186067': {'active power': 0, 'reactive power': 0}, 'm1047432': {'active power': 0, 'reactive power': 0}, 'l2879075': {'active power': 5.32, 'reactive power': 1.33331768156045}, 'm3037537': {'active power': 0, 'reactive power': 0}, 'l3231269': {'active power': 5.84, 'reactive power': 1.46364196622426}, 'r42247': {'active power': 0, 'reactive power': 0}, 'm1149233': {'active power': 0, 'reactive power': 0}, 'm1108266': {'active power': 0, 'reactive power': 0}, 'm1108265': {'active power': 0, 'reactive power': 0}, 'm1069543': {'active power': 0, 'reactive power': 0}, 'm1069535': {'active power': 0, 'reactive power': 0}, 'm1126017': {'active power': 0, 'reactive power': 0}, 'm1047711': {'active power': 0, 'reactive power': 0}, 'm1047718': {'active power': 0, 'reactive power': 0}, 'm1069136': {'active power': 0, 'reactive power': 0}, 'm1009771': {'active power': 0, 'reactive power': 0}, 'l2914323': {'active power': 3.89, 'reactive power': 0.974925898734993}, 'm1069218': {'active power': 0, 'reactive power': 0}, 'l2954351': {'active power': 6.1, 'reactive power': 1.52880410855616}, 'm1026744': {'active power': 0, 'reactive power': 0}, 'm1008752': {'active power': 0, 'reactive power': 0}, 'm1008746': {'active power': 0, 'reactive power': 0}, 'm1069457': {'active power': 0, 'reactive power': 0}, 'e182745': {'active power': 0, 'reactive power': 0}, 'n1139546': {'active power': 0, 'reactive power': 0}, 'm1026363': {'active power': 0, 'reactive power': 0}, 'l2897779': {'active power': 10.17, 'reactive power': 2.54884225967478}, 'l2841626': {'active power': 4.07, 'reactive power': 1.02003815111862}, 'l2711234': {'active power': 9.73, 'reactive power': 2.43856786495925}, 'l2973178': {'active power': 5.84, 'reactive power': 1.46364196622426}, 'm1149236': {'active power': 0, 'reactive power': 0}, 'p829974': {'active power': 0, 'reactive power': 0}, 'l3160862': {'active power': 6.1, 'reactive power': 1.52880410855616}, 'l3104850': {'active power': 10.17, 'reactive power': 2.54884225967478}, 'l2748130': {'active power': 9.73, 'reactive power': 2.43856786495925}, 'l3083019': {'active power': 0, 'reactive power': 0}, 'm1027080': {'active power': 0, 'reactive power': 0}, 'l3085389': {'active power': 9.73, 'reactive power': 2.43856786495925}, 'l2729405': {'active power': 9.73, 'reactive power': 2.43856786495925}, 'p828362': {'active power': 0, 'reactive power': 0}, 'n1136671': {'active power': 0, 'reactive power': 0}, 'p901941': {'active power': 0, 'reactive power': 0}, 'l3251799': {'active power': 13.3, 'reactive power': 3.33329420390113}, 'm1026308': {'active power': 0, 'reactive power': 0}, 'l2897764': {'active power': 9.73, 'reactive power': 2.43856786495925}, 'm1009840': {'active power': 0, 'reactive power': 0}, 'l2991901': {'active power': 9.73, 'reactive power': 2.43856786495925}, 'n1134470': {'active power': 0, 'reactive power': 0}, 'l3251808': {'active power': 5.32, 'reactive power': 1.33331768156045}, 'l3139086': {'active power': 9.73, 'reactive power': 2.43856786495925}, 'n1137992': {'active power': 0, 'reactive power': 0}, '196-29520': {'active power': 0, 'reactive power': 0}, 'l3029501': {'active power': 5.84, 'reactive power': 1.46364196622426}, 'm3036165': {'active power': 0, 'reactive power': 0}, 'm1026857': {'active power': 0, 'reactive power': 0}, 'm1026859': {'active power': 0, 'reactive power': 0}, 'm1108311': {'active power': 0, 'reactive power': 0}, 'l2898526': {'active power': 6.1, 'reactive power': 1.52880410855616}, 'l3048965': {'active power': 14.59, 'reactive power': 3.65659867931711}, 'l3216123': {'active power': 5.32, 'reactive power': 1.33331768156045}, 'n1136996': {'active power': 0, 'reactive power': 0}, 'm1069202': {'active power': 0, 'reactive power': 0}, 'l2879073': {'active power': 6.1, 'reactive power': 1.52880410855616}, 'm1089093': {'active power': 0, 'reactive power': 0}, 'm1047786': {'active power': 0, 'reactive power': 0}, 'l3048207': {'active power': 5.84, 'reactive power': 1.46364196622426}, 'l3160868': {'active power': 9.73, 'reactive power': 2.43856786495925}, 'l3082988': {'active power': 5.84, 'reactive power': 1.46364196622426}, 'l2936211': {'active power': 6.1, 'reactive power': 1.52880410855616}, 'n1140525': {'active power': 0, 'reactive power': 0}, 'l3645809': {'active power': 20.34, 'reactive power': 5.09768451934955}, 'p829962': {'active power': 0, 'reactive power': 0}, 'm1142835': {'active power': 0, 'reactive power': 0}, 'l3125349': {'active power': 10.17, 'reactive power': 2.54884225967478}, 'n1138604': {'active power': 0, 'reactive power': 0}, 'e192860': {'active power': 0, 'reactive power': 0}, 'l3254216': {'active power': 8.87, 'reactive power': 2.22303154801527}, 'l2785511': {'active power': 8.87, 'reactive power': 2.22303154801527}, 'l2897784': {'active power': 14.59, 'reactive power': 3.65659867931711}, 'm1026496': {'active power': 0, 'reactive power': 0}, 'p859135': {'active power': 0, 'reactive power': 0}, 'm1027002': {'active power': 0, 'reactive power': 0}, 'l2673313': {'active power': 9.73, 'reactive power': 2.43856786495925}, 'm1047725': {'active power': 0, 'reactive power': 0}, 'm1047728': {'active power': 0, 'reactive power': 0}, 'm1047300': {'active power': 0, 'reactive power': 0}, 'm1047299': {'active power': 0, 'reactive power': 0}, 'l3122835': {'active power': 5.84, 'reactive power': 1.46364196622426}, 'l3234185': {'active power': 9.73, 'reactive power': 2.43856786495925}, 'l3065750': {'active power': 9.73, 'reactive power': 2.43856786495925}, 'l2991943': {'active power': 10.17, 'reactive power': 2.54884225967478}, 'l2952013': {'active power': 3.55, 'reactive power': 0.889713866454814}, 'm1026701': {'active power': 0, 'reactive power': 0}, 'm1026697': {'active power': 0, 'reactive power': 0}, 'm1069730': {'active power': 0, 'reactive power': 0}, 'l3159037': {'active power': 14.59, 'reactive power': 3.65659867931711}, 'm1142833': {'active power': 0, 'reactive power': 0}, 'p901913': {'active power': 0, 'reactive power': 0}, 'n1140823': {'active power': 0, 'reactive power': 0}, 'm1027066': {'active power': 0, 'reactive power': 0}, 'l2841645': {'active power': 10.17, 'reactive power': 2.54884225967478}, 'm1125959': {'active power': 0, 'reactive power': 0}, 'm1125974': {'active power': 0, 'reactive power': 0}, 'm1069191': {'active power': 0, 'reactive power': 0}, 'm1108258': {'active power': 0, 'reactive power': 0}, 'p829976': {'active power': 0, 'reactive power': 0}, 'l2955078': {'active power': 8.87, 'reactive power': 2.22303154801527}, 'n1147867': {'active power': 0, 'reactive power': 0}, 'm1026792': {'active power': 0, 'reactive power': 0}, 'l2821010': {'active power': 13.3, 'reactive power': 3.33329420390113}, 'm1125976': {'active power': 0, 'reactive power': 0}, 'n1142112': {'active power': 0, 'reactive power': 0}, 'p827496': {'active power': 0, 'reactive power': 0}, '221-240988': {'active power': 0, 'reactive power': 0}, 'l3141411': {'active power': 30.52, 'reactive power': 7.64903301526787}, 'p829956': {'active power': 0, 'reactive power': 0}, 'e183473': {'active power': 0, 'reactive power': 0}, 'm1125997': {'active power': 0, 'reactive power': 0}, 'm1047518': {'active power': 0, 'reactive power': 0}, 'l2973160': {'active power': 5.84, 'reactive power': 1.46364196622426}, 'n1134471': {'active power': 0, 'reactive power': 0}, 'm1009838': {'active power': 0, 'reactive power': 0}, 'l2801896': {'active power': 5.84, 'reactive power': 1.46364196622426}, 'p827520': {'active power': 0, 'reactive power': 0}, 'm1009784': {'active power': 0, 'reactive power': 0}, 'm1009770': {'active power': 0, 'reactive power': 0}, 'n1136669': {'active power': 0, 'reactive power': 0}, 'l3103822': {'active power': 15.26, 'reactive power': 3.82451650763393}, 'm3768670': {'active power': 0, 'reactive power': 0}, 'p1123251': {'active power': 0, 'reactive power': 0}, 'n1136994': {'active power': 0, 'reactive power': 0}, 'l2729428': {'active power': 5.32, 'reactive power': 1.33331768156045}, 'm1026926': {'active power': 0, 'reactive power': 0}, 'n1138000': {'active power': 0, 'reactive power': 0}, '221-242079': {'active power': 0, 'reactive power': 0}, 'l3011293': {'active power': 57.53, 'reactive power': 14.418377109055058}, 'm1026777': {'active power': 0, 'reactive power': 0}, 'l3233353': {'active power': 5.32, 'reactive power': 1.33331768156045}, 'l3029506': {'active power': 3.89, 'reactive power': 0.974925898734993}, 'l3010559': {'active power': 5.32, 'reactive power': 1.33331768156045}, 'm1069213': {'active power': 0, 'reactive power': 0}, 'l3178977': {'active power': 6.1, 'reactive power': 1.52880410855616}, 'm1108534': {'active power': 0, 'reactive power': 0}, 'p901934': {'active power': 0, 'reactive power': 0}, 'p829796': {'active power': 0, 'reactive power': 0}, 'n1142107': {'active power': 0, 'reactive power': 0}, 'l2691965': {'active power': 1.95, 'reactive power': 0.488716067489264}, 'l2785538': {'active power': 8.87, 'reactive power': 2.22303154801527}, 'n1139259': {'active power': 0, 'reactive power': 0}, 'l2710543': {'active power': 10.17, 'reactive power': 2.54884225967478}, 'l3160872': {'active power': 15.26, 'reactive power': 3.82451650763393}, 'p827509': {'active power': 0, 'reactive power': 0}, 'm1047793': {'active power': 0, 'reactive power': 0}, 'p827555': {'active power': 0, 'reactive power': 0}, 'l2879069': {'active power': 3.55, 'reactive power': 0.889713866454814}, 'l2955006': {'active power': 10.17, 'reactive power': 2.54884225967478}, 'l2692600': {'active power': 10.17, 'reactive power': 2.54884225967478}, 'l3029505': {'active power': 10.17, 'reactive power': 2.54884225967478}, 'l2673318': {'active power': 10.17, 'reactive power': 2.54884225967478}, 'm1026682': {'active power': 0, 'reactive power': 0}, 'm1047424': {'active power': 0, 'reactive power': 0}, 'l2691949': {'active power': 9.73, 'reactive power': 2.43856786495925}, 'm1026699': {'active power': 0, 'reactive power': 0}, 'l3085403': {'active power': 8.87, 'reactive power': 2.22303154801527}, 'm4113345': {'active power': 0, 'reactive power': 0}, 'l3235255': {'active power': 1.95, 'reactive power': 0.488716067489264}, 'm1047316': {'active power': 0, 'reactive power': 0}, 'm1026886': {'active power': 0, 'reactive power': 0}, 'l3120484': {'active power': 6.1, 'reactive power': 1.52880410855616}, 'l2879078': {'active power': 5.32, 'reactive power': 1.33331768156045}, 'm1026681': {'active power': 0, 'reactive power': 0}, 'l3232902': {'active power': 8.87, 'reactive power': 2.22303154801527}, 'l3123509': {'active power': 6.1, 'reactive power': 1.52880410855616}, 'm1209772': {'active power': 0, 'reactive power': 0}, 'r20703': {'active power': 0, 'reactive power': 0}, 'l2859403': {'active power': 8.87, 'reactive power': 2.22303154801527}, 'm1026927': {'active power': 0, 'reactive power': 0}, 'm1125914': {'active power': 0, 'reactive power': 0}, 'l2917328': {'active power': 9.73, 'reactive power': 2.43856786495925}, 'l2841635': {'active power': 5.32, 'reactive power': 1.33331768156045}, 'l2766499': {'active power': 20.34, 'reactive power': 5.09768451934955}, 'm1047444': {'active power': 0, 'reactive power': 0}, 'm1108459': {'active power': 0, 'reactive power': 0}, 'l2802480': {'active power': 29.18, 'reactive power': 7.31319735863422}, 'l2691954': {'active power': 9.73, 'reactive power': 2.43856786495925}, 'l3122849': {'active power': 5.84, 'reactive power': 1.46364196622426}, 'l2764411': {'active power': 6.1, 'reactive power': 1.52880410855616}, 'm1026907': {'active power': 0, 'reactive power': 0}, 'l2729206': {'active power': 15.26, 'reactive power': 3.82451650763393}, 'l2804957': {'active power': 4.07, 'reactive power': 1.02003815111862}, 'l3048937': {'active power': 6.1, 'reactive power': 1.52880410855616}, 'l2822872': {'active power': 9.73, 'reactive power': 2.43856786495925}, 'l3235946': {'active power': 8.87, 'reactive power': 2.22303154801527}, 'm1126005': {'active power': 0, 'reactive power': 0}, 'm1009698': {'active power': 0, 'reactive power': 0}, 'l3156034': {'active power': 3.55, 'reactive power': 0.889713866454814}, 'l3254205': {'active power': 10.17, 'reactive power': 2.54884225967478}, 'l3197647': {'active power': 3.55, 'reactive power': 0.889713866454814}, 'm1026778': {'active power': 0, 'reactive power': 0}, 'm1026844': {'active power': 0, 'reactive power': 0}, 'n1147861': {'active power': 0, 'reactive power': 0}, 'l2973833': {'active power': 5.84, 'reactive power': 1.46364196622426}, 'm1166373': {'active power': 0, 'reactive power': 0}, 'l2991902': {'active power': 9.73, 'reactive power': 2.43856786495925}, 'm1008758': {'active power': 0, 'reactive power': 0}, 'm1026734': {'active power': 0, 'reactive power': 0}, 'l3065696': {'active power': 8.87, 'reactive power': 2.22303154801527}, 'l2748780': {'active power': 8.87, 'reactive power': 2.22303154801527}, 'm1125987': {'active power': 0, 'reactive power': 0}, 'p901945': {'active power': 0, 'reactive power': 0}, 'p901910': {'active power': 0, 'reactive power': 0}, 'l3027122': {'active power': 8.87, 'reactive power': 2.22303154801527}, 'm1108506': {'active power': 0, 'reactive power': 0}, 'l2841637': {'active power': 10.17, 'reactive power': 2.54884225967478}, 'n1139539': {'active power': 0, 'reactive power': 0}, 'l2710520': {'active power': 5.32, 'reactive power': 1.33331768156045}, 'm1089119': {'active power': 0, 'reactive power': 0}, 'p827521': {'active power': 0, 'reactive power': 0}, 'l3046854': {'active power': 14.59, 'reactive power': 3.65659867931711}, 'm1047478': {'active power': 0, 'reactive power': 0}, 'l2766716': {'active power': 6.1, 'reactive power': 1.52880410855616}, 'n1137003': {'active power': 0, 'reactive power': 0}, 'l2973171': {'active power': 9.73, 'reactive power': 2.43856786495925}, 'l3085392': {'active power': 6.1, 'reactive power': 1.52880410855616}, 'p875742': {'active power': 0, 'reactive power': 0}, 'm1010008': {'active power': 0, 'reactive power': 0}, 'l3784018': {'active power': 3.55, 'reactive power': 0.889713866454814}, 'm1026703': {'active power': 0, 'reactive power': 0}, 'l2973166': {'active power': 10.17, 'reactive power': 2.54884225967478}, 'l3068944': {'active power': 14.59, 'reactive power': 3.65659867931711}, 'm1047550': {'active power': 0, 'reactive power': 0}, 'l2936270': {'active power': 8.87, 'reactive power': 2.22303154801527}, 'l3086078': {'active power': 8.87, 'reactive power': 2.22303154801527}, 'm1047593': {'active power': 0, 'reactive power': 0}, 'm1047615': {'active power': 0, 'reactive power': 0}, 'm1009855': {'active power': 0, 'reactive power': 0}, 'l2748139': {'active power': 5.84, 'reactive power': 1.46364196622426}, 'n1140832': {'active power': 0, 'reactive power': 0}, 'l2841631': {'active power': 10.17, 'reactive power': 2.54884225967478}, 'm1047819': {'active power': 0, 'reactive power': 0}, 'l2916610': {'active power': 9.73, 'reactive power': 2.43856786495925}, 'l2879076': {'active power': 4.07, 'reactive power': 1.02003815111862}, 'm1089122': {'active power': 0, 'reactive power': 0}, 'l2691939': {'active power': 9.73, 'reactive power': 2.43856786495925}, 'm1069489': {'active power': 0, 'reactive power': 0}, 'l2933120': {'active power': 15.26, 'reactive power': 3.82451650763393}, 'm1069225': {'active power': 0, 'reactive power': 0}, 'm1089120': {'active power': 0, 'reactive power': 0}, 'l3645810': {'active power': 30.52, 'reactive power': 7.64903301526787}, 'm3763623': {'active power': 0, 'reactive power': 0}, 'l3649304': {'active power': 13.3, 'reactive power': 3.33329420390113}, 'm1027042': {'active power': 0, 'reactive power': 0}, 'l3178969': {'active power': 5.84, 'reactive power': 1.46364196622426}, 'l2729401': {'active power': 5.84, 'reactive power': 1.46364196622426}, 'l3235249': {'active power': 3.55, 'reactive power': 0.889713866454814}, 'l2954348': {'active power': 8.87, 'reactive power': 2.22303154801527}, 'l3066812': {'active power': 8.87, 'reactive power': 2.22303154801527}, 'l2841622': {'active power': 5.32, 'reactive power': 1.33331768156045}, 'm1209787': {'active power': 0, 'reactive power': 0}, 'l2823611': {'active power': 5.32, 'reactive power': 1.33331768156045}, '196-35541': {'active power': 0, 'reactive power': 0}, 'm1108317': {'active power': 0, 'reactive power': 0}, 'm1047340': {'active power': 0, 'reactive power': 0}, 'l2991923': {'active power': 8.87, 'reactive power': 2.22303154801527}, 'm1026661': {'active power': 0, 'reactive power': 0}, 'p827530': {'active power': 0, 'reactive power': 0}, 'p827503': {'active power': 0, 'reactive power': 0}, 'n1147865': {'active power': 0, 'reactive power': 0}, 'l2895489': {'active power': 0, 'reactive power': 0}, 'l2730163': {'active power': 10.17, 'reactive power': 2.54884225967478}, 'm1089103': {'active power': 0, 'reactive power': 0}, 'l3048196': {'active power': 5.84, 'reactive power': 1.46364196622426}, 'l2673306': {'active power': 10.17, 'reactive power': 2.54884225967478}, 'l2726973': {'active power': 8.87, 'reactive power': 2.22303154801527}, 'm1047485': {'active power': 0, 'reactive power': 0}, 'l2991640': {'active power': 4.07, 'reactive power': 1.02003815111862}, 'm1089160': {'active power': 0, 'reactive power': 0}, 'l3160101': {'active power': 8.87, 'reactive power': 2.22303154801527}, 'm1125905': {'active power': 0, 'reactive power': 0}, 'm1026950': {'active power': 0, 'reactive power': 0}, 'm1026954': {'active power': 0, 'reactive power': 0}, 'm1047558': {'active power': 0, 'reactive power': 0}, 'n1136659': {'active power': 0, 'reactive power': 0}, 'l2766741': {'active power': 8.87, 'reactive power': 2.22303154801527}, 'm1069564': {'active power': 0, 'reactive power': 0}, 'n1136361': {'active power': 0, 'reactive power': 0}, 'm1047566': {'active power': 0, 'reactive power': 0}, 'n1137995': {'active power': 0, 'reactive power': 0}, 'n1145955': {'active power': 0, 'reactive power': 0}, 'm1069461': {'active power': 0, 'reactive power': 0}, 'p827574': {'active power': 0, 'reactive power': 0}, 'm1069156': {'active power': 0, 'reactive power': 0}, 'l3195356': {'active power': 0, 'reactive power': 0}, 'n1137996': {'active power': 0, 'reactive power': 0}, 'l3178979': {'active power': 15.26, 'reactive power': 3.82451650763393}, 'l3254231': {'active power': 3.55, 'reactive power': 0.889713866454814}, 'l3728042': {'active power': 13.3, 'reactive power': 3.33329420390113}, 'l3728043': {'active power': 13.3, 'reactive power': 3.33329420390113}, 'm1047723': {'active power': 0, 'reactive power': 0}, 'm1047729': {'active power': 0, 'reactive power': 0}, 'l2895461': {'active power': 8.87, 'reactive power': 2.22303154801527}, 'l3029518': {'active power': 9.73, 'reactive power': 2.43856786495925}, 'l2897807': {'active power': 5.84, 'reactive power': 1.46364196622426}, 'l2785520': {'active power': 3.89, 'reactive power': 0.974925898734993}, 'n1139542': {'active power': 0, 'reactive power': 0}, '221-308718': {'active power': 0, 'reactive power': 0}, 'm1209750': {'active power': 0, 'reactive power': 0}, 'l3254869': {'active power': 5.84, 'reactive power': 1.46364196622426}, 'l2798067': {'active power': 3.89, 'reactive power': 0.974925898734993}, 'm1047403': {'active power': 0, 'reactive power': 0}, 'm1047404': {'active power': 0, 'reactive power': 0}, 'l3102793': {'active power': 9.73, 'reactive power': 2.43856786495925}, 'm1089141': {'active power': 0, 'reactive power': 0}, 'n1139547': {'active power': 0, 'reactive power': 0}, 'l2688693': {'active power': 6.1, 'reactive power': 1.52880410855616}, 'l3048222': {'active power': 15.26, 'reactive power': 3.82451650763393}, 'l3104117': {'active power': 15.26, 'reactive power': 3.82451650763393}, '221-311583': {'active power': 0, 'reactive power': 0}, 'n1139250': {'active power': 0, 'reactive power': 0}, 'l2690187': {'active power': 29.18, 'reactive power': 7.31319735863422}, 'm1108412': {'active power': 0, 'reactive power': 0}, 'm1026690': {'active power': 0, 'reactive power': 0}, 'p873801': {'active power': 0, 'reactive power': 0}, 'm1089138': {'active power': 0, 'reactive power': 0}, 'l2841628': {'active power': 8.87, 'reactive power': 2.22303154801527}, 'm1069364': {'active power': 0, 'reactive power': 0}, 'l2689678': {'active power': 1.95, 'reactive power': 0.488716067489264}, 'm1026463': {'active power': 0, 'reactive power': 0}, 'l2692655': {'active power': 10.17, 'reactive power': 2.54884225967478}, 'm1142821': {'active power': 0, 'reactive power': 0}, 'p827508': {'active power': 0, 'reactive power': 0}, 'n1144667': {'active power': 0, 'reactive power': 0}, 'm1089162': {'active power': 0, 'reactive power': 0}, 'l3029520': {'active power': 5.84, 'reactive power': 1.46364196622426}, 'm1009655': {'active power': 0, 'reactive power': 0}, 'p827528': {'active power': 0, 'reactive power': 0}, 'l2991906': {'active power': 3.55, 'reactive power': 0.889713866454814}, 'm1027056': {'active power': 0, 'reactive power': 0}, 'l3066814': {'active power': 3.89, 'reactive power': 0.974925898734993}, 'm1108398': {'active power': 0, 'reactive power': 0}, 'm1108483': {'active power': 0, 'reactive power': 0}, 'm1108486': {'active power': 0, 'reactive power': 0}, 'm1026341': {'active power': 0, 'reactive power': 0}, 'p827531': {'active power': 0, 'reactive power': 0}, 'l2748133': {'active power': 6.1, 'reactive power': 1.52880410855616}, 'l3085399': {'active power': 6.1, 'reactive power': 1.52880410855616}, 'l2767342': {'active power': 8.87, 'reactive power': 2.22303154801527}, 'm1125944': {'active power': 0, 'reactive power': 0}, 'm1125947': {'active power': 0, 'reactive power': 0}, 'l2710511': {'active power': 8.87, 'reactive power': 2.22303154801527}, 'l2766719': {'active power': 8.87, 'reactive power': 2.22303154801527}, 'p827549': {'active power': 0, 'reactive power': 0}, 'n1140518': {'active power': 0, 'reactive power': 0}, 'l2766728': {'active power': 0, 'reactive power': 0}, 'm1069462': {'active power': 0, 'reactive power': 0}, 'l3216342': {'active power': 9.73, 'reactive power': 2.43856786495925}, 'm1027041': {'active power': 0, 'reactive power': 0}, 'l2916607': {'active power': 10.17, 'reactive power': 2.54884225967478}, 'l2710513': {'active power': 3.89, 'reactive power': 0.974925898734993}, 'm1009839': {'active power': 0, 'reactive power': 0}, 'l2973165': {'active power': 8.87, 'reactive power': 2.22303154801527}, 'm1108501': {'active power': 0, 'reactive power': 0}, 'm1108499': {'active power': 0, 'reactive power': 0}, 'm1069227': {'active power': 0, 'reactive power': 0}, 'l2785546': {'active power': 8.87, 'reactive power': 2.22303154801527}, 'm1026810': {'active power': 0, 'reactive power': 0}, 'm1108368': {'active power': 0, 'reactive power': 0}, 'l3085393': {'active power': 10.17, 'reactive power': 2.54884225967478}, 'l3178974': {'active power': 5.84, 'reactive power': 1.46364196622426}, 'm1026774': {'active power': 0, 'reactive power': 0}, 'm1026769': {'active power': 0, 'reactive power': 0}, 'l3189189': {'active power': 5.84, 'reactive power': 1.46364196622426}, 'l2821770': {'active power': 13.3, 'reactive power': 3.33329420390113}, 'm1069555': {'active power': 0, 'reactive power': 0}, 'l3252336': {'active power': 14.59, 'reactive power': 3.65659867931711}, 'p829977': {'active power': 0, 'reactive power': 0}, 'l2820556': {'active power': 8.87, 'reactive power': 2.22303154801527}, 'm1047410': {'active power': 0, 'reactive power': 0}, 'm1027001': {'active power': 0, 'reactive power': 0}, 'm1047344': {'active power': 0, 'reactive power': 0}, 'l3029499': {'active power': 3.55, 'reactive power': 0.889713866454814}, '221-282818': {'active power': 0, 'reactive power': 0}, 'm1026830': {'active power': 0, 'reactive power': 0}, 'p827511': {'active power': 0, 'reactive power': 0}, 'p895105': {'active power': 0, 'reactive power': 0}, 'n1142110': {'active power': 0, 'reactive power': 0}, 'n1142111': {'active power': 0, 'reactive power': 0}, 'l2991912': {'active power': 5.32, 'reactive power': 1.33331768156045}, 'l3010569': {'active power': 13.3, 'reactive power': 3.33329420390113}, 'm1047335': {'active power': 0, 'reactive power': 0}, 'l3216368': {'active power': 6.1, 'reactive power': 1.52880410855616}, 'l2879081': {'active power': 5.32, 'reactive power': 1.33331768156045}, 'l3104144': {'active power': 3.55, 'reactive power': 0.889713866454814}, 'l2916619': {'active power': 9.73, 'reactive power': 2.43856786495925}, 'm1126031': {'active power': 0, 'reactive power': 0}, 'l3179608': {'active power': 15.26, 'reactive power': 3.82451650763393}, 'l2990098': {'active power': 17.74, 'reactive power': 4.44606309603054}, 'm1108462': {'active power': 0, 'reactive power': 0}, 'l2673326': {'active power': 5.84, 'reactive power': 1.46364196622426}, 'm1142815': {'active power': 0, 'reactive power': 0}, 'n1141477': {'active power': 0, 'reactive power': 0}, 'n1139252': {'active power': 0, 'reactive power': 0}, 'l3122812': {'active power': 14.59, 'reactive power': 3.65659867931711}, 'm1166386': {'active power': 0, 'reactive power': 0}, 'm1089163': {'active power': 0, 'reactive power': 0}, 'n1142100': {'active power': 0, 'reactive power': 0}, 'm1069456': {'active power': 0, 'reactive power': 0}, 'l2897806': {'active power': 6.1, 'reactive power': 1.52880410855616}, 'l2822865': {'active power': 4.07, 'reactive power': 1.02003815111862}, 'l3195321': {'active power': 5.32, 'reactive power': 1.33331768156045}, 'l3197646': {'active power': 9.73, 'reactive power': 2.43856786495925}, 'm1026829': {'active power': 0, 'reactive power': 0}, 'n1147859': {'active power': 0, 'reactive power': 0}, 'l3139121': {'active power': 0, 'reactive power': 0}, 'l2763153': {'active power': 8.87, 'reactive power': 2.22303154801527}, 'e182726': {'active power': 0, 'reactive power': 0}, 'l2766744': {'active power': 9.73, 'reactive power': 2.43856786495925}, 'l3216370': {'active power': 11.51, 'reactive power': 2.8846779163084273}, '226-23745': {'active power': 0, 'reactive power': 0}, 'm1142828': {'active power': 0, 'reactive power': 0}, 'l2674047': {'active power': 6.1, 'reactive power': 1.52880410855616}, 'm3949157': {'active power': 0, 'reactive power': 0}, 'l3727711': {'active power': 5.32, 'reactive power': 1.33331768156045}, 'm1026329': {'active power': 0, 'reactive power': 0}, 'm1026328': {'active power': 0, 'reactive power': 0}, 'm1108355': {'active power': 0, 'reactive power': 0}, 'm1108352': {'active power': 0, 'reactive power': 0}, 'l3086002': {'active power': 10.17, 'reactive power': 2.54884225967478}, 'n1134476': {'active power': 0, 'reactive power': 0}, 'm1069284': {'active power': 0, 'reactive power': 0}, 'p850401': {'active power': 0, 'reactive power': 0}, 'l3029503': {'active power': 6.1, 'reactive power': 1.52880410855616}, 'n1140524': {'active power': 0, 'reactive power': 0}, 'm1047792': {'active power': 0, 'reactive power': 0}, 'l2876846': {'active power': 0, 'reactive power': 0}, 'm1089165': {'active power': 0, 'reactive power': 0}, 'l3216343': {'active power': 10.17, 'reactive power': 2.54884225967478}, 'l2748144': {'active power': 8.87, 'reactive power': 2.22303154801527}, 'l3010562': {'active power': 5.84, 'reactive power': 1.46364196622426}, 'm1069557': {'active power': 0, 'reactive power': 0}, 'm1047374': {'active power': 0, 'reactive power': 0}, 'l3197629': {'active power': 5.84, 'reactive power': 1.46364196622426}, 'm1089202': {'active power': 0, 'reactive power': 0}, 'm1089203': {'active power': 0, 'reactive power': 0}, 'm1026866': {'active power': 0, 'reactive power': 0}, 'm1149235': {'active power': 0, 'reactive power': 0}, 'l2766720': {'active power': 8.87, 'reactive power': 2.22303154801527}, 'm1209791': {'active power': 0, 'reactive power': 0}, 'p903354': {'active power': 0, 'reactive power': 0}, 'm1026960': {'active power': 0, 'reactive power': 0}, 'm3729981': {'active power': 0, 'reactive power': 0}, 'l3011298': {'active power': 4.07, 'reactive power': 1.02003815111862}, 'm1108524': {'active power': 0, 'reactive power': 0}, 'n1136031': {'active power': 0, 'reactive power': 0}, 'm1026722': {'active power': 0, 'reactive power': 0}, 'l2991915': {'active power': 9.73, 'reactive power': 2.43856786495925}, 'l2673320': {'active power': 9.73, 'reactive power': 2.43856786495925}, 'm1047497': {'active power': 0, 'reactive power': 0}, 'm1047755': {'active power': 0, 'reactive power': 0}, 'm3037441': {'active power': 0, 'reactive power': 0}, 'n1140824': {'active power': 0, 'reactive power': 0}, 'm1026709': {'active power': 0, 'reactive power': 0}, 'l3729298': {'active power': 13.3, 'reactive power': 3.33329420390113}, 'l3727707': {'active power': 8.87, 'reactive power': 2.22303154801527}, 'l3160123': {'active power': 5.32, 'reactive power': 1.33331768156045}, 'l2897805': {'active power': 8.87, 'reactive power': 2.22303154801527}, 'm1089094': {'active power': 0, 'reactive power': 0}, 'm1125917': {'active power': 0, 'reactive power': 0}, 'm1069154': {'active power': 0, 'reactive power': 0}, 'l3197630': {'active power': 8.87, 'reactive power': 2.22303154801527}, 'm1026343': {'active power': 0, 'reactive power': 0}, 'm1069155': {'active power': 0, 'reactive power': 0}, 'l2785523': {'active power': 6.1, 'reactive power': 1.52880410855616}, 'l3141388': {'active power': 4.07, 'reactive power': 1.02003815111862}, 'm1026786': {'active power': 0, 'reactive power': 0}, 'm1026785': {'active power': 0, 'reactive power': 0}, 'n1137958': {'active power': 0, 'reactive power': 0}, 'm1026877': {'active power': 0, 'reactive power': 0}, 'l2820583': {'active power': 0, 'reactive power': 0}, 'm1108354': {'active power': 0, 'reactive power': 0}, 'l2991911': {'active power': 6.1, 'reactive power': 1.52880410855616}, 'n1136363': {'active power': 0, 'reactive power': 0}, 'r18245': {'active power': 0, 'reactive power': 0}, '221-306686': {'active power': 0, 'reactive power': 0}, 'l2970258': {'active power': 15.26, 'reactive power': 3.82451650763393}, 'l2841632': {'active power': 9.73, 'reactive power': 2.43856786495925}, 'p1197121': {'active power': 0, 'reactive power': 0}, 'l2805031': {'active power': 15.26, 'reactive power': 3.82451650763393}, 'm1069226': {'active power': 0, 'reactive power': 0}, 'l2860506': {'active power': 5.84, 'reactive power': 1.46364196622426}, 'l2954346': {'active power': 9.73, 'reactive power': 2.43856786495925}, 'l2879077': {'active power': 5.84, 'reactive power': 1.46364196622426}, '190-8593': {'active power': 0, 'reactive power': 0}, 'l3139366': {'active power': 8.87, 'reactive power': 2.22303154801527}, 'm4362177': {'active power': 0, 'reactive power': 0}, 'l2763812': {'active power': 30.52, 'reactive power': 7.64903301526787}, 'l2951995': {'active power': 30.52, 'reactive power': 7.64903301526787}, 'l3197638': {'active power': 8.87, 'reactive power': 2.22303154801527}, 'm1026849': {'active power': 0, 'reactive power': 0}, 'n1137993': {'active power': 0, 'reactive power': 0}, 'l2860482': {'active power': 8.87, 'reactive power': 2.22303154801527}, 'p901946': {'active power': 0, 'reactive power': 0}, 'n1142105': {'active power': 0, 'reactive power': 0}, 'm1026905': {'active power': 0, 'reactive power': 0}, 'p827515': {'active power': 0, 'reactive power': 0}, 'm1108520': {'active power': 0, 'reactive power': 0}, 'l2804277': {'active power': 10.17, 'reactive power': 2.54884225967478}, 'l2991913': {'active power': 5.32, 'reactive power': 1.33331768156045}, 'l2933165': {'active power': 0, 'reactive power': 0}, 'l3235273': {'active power': 9.73, 'reactive power': 2.43856786495925}, 'l3029502': {'active power': 17.74, 'reactive power': 4.44606309603054}, 'm1047780': {'active power': 0, 'reactive power': 0}, 'l3066811': {'active power': 9.73, 'reactive power': 2.43856786495925}, 'm1047732': {'active power': 0, 'reactive power': 0}, 'n1137987': {'active power': 0, 'reactive power': 0}, 'l3197661': {'active power': 6.1, 'reactive power': 1.52880410855616}, 'l3122848': {'active power': 6.1, 'reactive power': 1.52880410855616}, 'm1047580': {'active power': 0, 'reactive power': 0}, 'm1108345': {'active power': 0, 'reactive power': 0}, 'm1108347': {'active power': 0, 'reactive power': 0}, 'e182725': {'active power': 0, 'reactive power': 0}, 'l2860491': {'active power': 18.14, 'reactive power': 4.546312545771924}, 'l2897770': {'active power': 10.17, 'reactive power': 2.54884225967478}, 'l3104127': {'active power': 9.73, 'reactive power': 2.43856786495925}, 'l2767343': {'active power': 15.26, 'reactive power': 3.82451650763393}, 'l2786266': {'active power': 5.32, 'reactive power': 1.33331768156045}, 'l2785512': {'active power': 9.73, 'reactive power': 2.43856786495925}, 'p827529': {'active power': 0, 'reactive power': 0}, 'n1136668': {'active power': 0, 'reactive power': 0}, 'm1027114': {'active power': 0, 'reactive power': 0}, 'l3195327': {'active power': 5.32, 'reactive power': 1.33331768156045}, 'm1027121': {'active power': 0, 'reactive power': 0}, 'm1027123': {'active power': 0, 'reactive power': 0}, 'l3104157': {'active power': 10.17, 'reactive power': 2.54884225967478}, 'p895409': {'active power': 0, 'reactive power': 0}, 'l2991927': {'active power': 9.73, 'reactive power': 2.43856786495925}, 'm1089155': {'active power': 0, 'reactive power': 0}, 'm1089158': {'active power': 0, 'reactive power': 0}, 'm1026324': {'active power': 0, 'reactive power': 0}, 'm1026323': {'active power': 0, 'reactive power': 0}, 'l2804258': {'active power': 9.73, 'reactive power': 2.43856786495925}, 'p829978': {'active power': 0, 'reactive power': 0}, 'l2992656': {'active power': 13.3, 'reactive power': 3.33329420390113}, 'l2936271': {'active power': 5.32, 'reactive power': 1.33331768156045}, 'm1069544': {'active power': 0, 'reactive power': 0}, 'l2916598': {'active power': 3.55, 'reactive power': 0.889713866454814}, 'l2954344': {'active power': 10.17, 'reactive power': 2.54884225967478}, 'l2897767': {'active power': 10.17, 'reactive power': 2.54884225967478}, 'l2876796': {'active power': 5.32, 'reactive power': 1.33331768156045}, 'm1047756': {'active power': 0, 'reactive power': 0}, 'l3122810': {'active power': 9.73, 'reactive power': 2.43856786495925}, 'm1108379': {'active power': 0, 'reactive power': 0}, 'n1140822': {'active power': 0, 'reactive power': 0}, 'l2860478': {'active power': 5.84, 'reactive power': 1.46364196622426}, 'l2822858': {'active power': 9.73, 'reactive power': 2.43856786495925}, 'l2841620': {'active power': 5.84, 'reactive power': 1.46364196622426}, 'l3727709': {'active power': 13.3, 'reactive power': 3.33329420390113}, 'l3727710': {'active power': 13.3, 'reactive power': 3.33329420390113}, 'n1136667': {'active power': 0, 'reactive power': 0}, '196-29519': {'active power': 0, 'reactive power': 0}, 'n1144666': {'active power': 0, 'reactive power': 0}, 'm1125989': {'active power': 0, 'reactive power': 0}, 'l2898495': {'active power': 0, 'reactive power': 0}, 'l3179674': {'active power': 9.73, 'reactive power': 2.43856786495925}, 'm1069249': {'active power': 0, 'reactive power': 0}, 'l2803194': {'active power': 15.26, 'reactive power': 3.82451650763393}, 'm1186065': {'active power': 0, 'reactive power': 0}, 'm1186064': {'active power': 0, 'reactive power': 0}, 'e206614': {'active power': 0, 'reactive power': 0}, 'm1209776': {'active power': 0, 'reactive power': 0}, 'm1209775': {'active power': 0, 'reactive power': 0}, 'l2804261': {'active power': 6.1, 'reactive power': 1.52880410855616}, 'l3178980': {'active power': 6.1, 'reactive power': 1.52880410855616}, 'm1047835': {'active power': 0, 'reactive power': 0}, 'm1047836': {'active power': 0, 'reactive power': 0}, 'm1125962': {'active power': 0, 'reactive power': 0}, 'l3123452': {'active power': 10.17, 'reactive power': 2.54884225967478}, 'p893610': {'active power': 0, 'reactive power': 0}, 'm1108302': {'active power': 0, 'reactive power': 0}, 'p829797': {'active power': 0, 'reactive power': 0}, 'l2841629': {'active power': 15.26, 'reactive power': 3.82451650763393}, 'l3254218': {'active power': 8.87, 'reactive power': 2.22303154801527}, 'l3778577': {'active power': 10.17, 'reactive power': 2.54884225967478}, 'l2820531': {'active power': 9.73, 'reactive power': 2.43856786495925}, 'l3626914': {'active power': 6.1, 'reactive power': 1.52880410855616}, 'l2955077': {'active power': 10.17, 'reactive power': 2.54884225967478}, 'm1166374': {'active power': 0, 'reactive power': 0}, 'n1139552': {'active power': 0, 'reactive power': 0}, 'p827533': {'active power': 0, 'reactive power': 0}, 'n1139538': {'active power': 0, 'reactive power': 0}, 'l3160098': {'active power': 5.32, 'reactive power': 1.33331768156045}, 'm1089213': {'active power': 0, 'reactive power': 0}, 'l2820590': {'active power': 0, 'reactive power': 0}, 'l3104125': {'active power': 9.73, 'reactive power': 2.43856786495925}, 'l3118855': {'active power': 15.26, 'reactive power': 3.82451650763393}, 'l3231255': {'active power': 10.17, 'reactive power': 2.54884225967478}, 'm1027071': {'active power': 0, 'reactive power': 0}, 'l3235241': {'active power': 10.17, 'reactive power': 2.54884225967478}, 'l2729409': {'active power': 9.73, 'reactive power': 2.43856786495925}, 'l2841624': {'active power': 5.84, 'reactive power': 1.46364196622426}, 'l3235254': {'active power': 10.17, 'reactive power': 2.54884225967478}, 'm1026855': {'active power': 0, 'reactive power': 0}, 'm1026851': {'active power': 0, 'reactive power': 0}, 'm1069466': {'active power': 0, 'reactive power': 0}, 'm1069524': {'active power': 0, 'reactive power': 0}, 'm1027091': {'active power': 0, 'reactive power': 0}, 'm1027092': {'active power': 0, 'reactive power': 0}, 'l2766747': {'active power': 8.87, 'reactive power': 2.22303154801527}, 'p827560': {'active power': 0, 'reactive power': 0}, 'l2822877': {'active power': 5.84, 'reactive power': 1.46364196622426}, 'n1138598': {'active power': 0, 'reactive power': 0}, 'm1009715': {'active power': 0, 'reactive power': 0}, 'm1009705': {'active power': 0, 'reactive power': 0}, 'l3198347': {'active power': 6.1, 'reactive power': 1.52880410855616}, 'm1108489': {'active power': 0, 'reactive power': 0}, 'm1108492': {'active power': 0, 'reactive power': 0}, 'l3226771': {'active power': 5.32, 'reactive power': 1.33331768156045}, 'l3189190': {'active power': 8.87, 'reactive power': 2.22303154801527}, 'l2991918': {'active power': 9.73, 'reactive power': 2.43856786495925}, 'l2954339': {'active power': 9.73, 'reactive power': 2.43856786495925}, 'l3048200': {'active power': 3.89, 'reactive power': 0.974925898734993}, 'l3160861': {'active power': 4.07, 'reactive power': 1.02003815111862}, 'n1142098': {'active power': 0, 'reactive power': 0}, 'm1047795': {'active power': 0, 'reactive power': 0}, 'm1047552': {'active power': 0, 'reactive power': 0}, 'l2804283': {'active power': 8.87, 'reactive power': 2.22303154801527}, 'l2916627': {'active power': 8.87, 'reactive power': 2.22303154801527}, 'l3029498': {'active power': 4.07, 'reactive power': 1.02003815111862}, 'm1047773': {'active power': 0, 'reactive power': 0}, 'l2973152': {'active power': 9.73, 'reactive power': 2.43856786495925}, 'l2822870': {'active power': 6.1, 'reactive power': 1.52880410855616}, 'm1166369': {'active power': 0, 'reactive power': 0}, 'l2839305': {'active power': 5.32, 'reactive power': 1.33331768156045}, 'l2710508': {'active power': 5.84, 'reactive power': 1.46364196622426}, 'm1026861': {'active power': 0, 'reactive power': 0}, 'm1026858': {'active power': 0, 'reactive power': 0}, 'l3082992': {'active power': 5.32, 'reactive power': 1.33331768156045}, 'm1010011': {'active power': 0, 'reactive power': 0}, 'l3214069': {'active power': 10.17, 'reactive power': 2.54884225967478}, 'm1026655': {'active power': 0, 'reactive power': 0}, 'n1141475': {'active power': 0, 'reactive power': 0}, 'l3197643': {'active power': 9.73, 'reactive power': 2.43856786495925}, 'm1026339': {'active power': 0, 'reactive power': 0}, 'm1108268': {'active power': 0, 'reactive power': 0}, 'm1069310': {'active power': 0, 'reactive power': 0}, 'm1047423': {'active power': 0, 'reactive power': 0}, 'm1047420': {'active power': 0, 'reactive power': 0}, 'm1069613': {'active power': 0, 'reactive power': 0}, 'm1026823': {'active power': 0, 'reactive power': 0}, 'l2879087': {'active power': 5.32, 'reactive power': 1.33331768156045}, 'm1027039': {'active power': 0, 'reactive power': 0}, 'l3552667': {'active power': 10.17, 'reactive power': 2.54884225967478}, 'm1026890': {'active power': 0, 'reactive power': 0}, 'l2954357': {'active power': 13.3, 'reactive power': 3.33329420390113}, 'm1069438': {'active power': 0, 'reactive power': 0}, 'l2785530': {'active power': 3.55, 'reactive power': 0.889713866454814}, 'l2822868': {'active power': 5.32, 'reactive power': 1.33331768156045}, 'n1139264': {'active power': 0, 'reactive power': 0}, 'p827523': {'active power': 0, 'reactive power': 0}, 'm1027087': {'active power': 0, 'reactive power': 0}, 'l2726983': {'active power': 13.3, 'reactive power': 3.33329420390113}, 'l2821087': {'active power': 26.6, 'reactive power': 6.66658840780227}, 'l2673310': {'active power': 8.87, 'reactive power': 2.22303154801527}, 'l2936212': {'active power': 8.87, 'reactive power': 2.22303154801527}, 'n1142106': {'active power': 0, 'reactive power': 0}, 'l2936213': {'active power': 14.59, 'reactive power': 3.65659867931711}, 'm1027011': {'active power': 0, 'reactive power': 0}, 'm1209795': {'active power': 0, 'reactive power': 0}, 'l2746587': {'active power': 10.17, 'reactive power': 2.54884225967478}, 'n1147858': {'active power': 0, 'reactive power': 0}, 'm1108378': {'active power': 0, 'reactive power': 0}, 'm1047809': {'active power': 0, 'reactive power': 0}, 'm1026805': {'active power': 0, 'reactive power': 0}, 'l3120502': {'active power': 5.32, 'reactive power': 1.33331768156045}, 'm1069526': {'active power': 0, 'reactive power': 0}, 'l2673331': {'active power': 19.45, 'reactive power': 4.87462949367497}, 'm1108490': {'active power': 0, 'reactive power': 0}, 'm1009805': {'active power': 0, 'reactive power': 0}, 'l3122816': {'active power': 9.73, 'reactive power': 2.43856786495925}, 'l3160103': {'active power': 6.1, 'reactive power': 1.52880410855616}, 'm1069503': {'active power': 0, 'reactive power': 0}, 'n1134469': {'active power': 0, 'reactive power': 0}, 'm1089200': {'active power': 0, 'reactive power': 0}, 'l3027670': {'active power': 29.18, 'reactive power': 7.31319735863422}, 'l2691941': {'active power': 10.17, 'reactive power': 2.54884225967478}, 'm1125960': {'active power': 0, 'reactive power': 0}, 'n1136367': {'active power': 0, 'reactive power': 0}, 'm1069515': {'active power': 0, 'reactive power': 0}, 'm1069131': {'active power': 0, 'reactive power': 0}, 'p827534': {'active power': 0, 'reactive power': 0}, 'm1069530': {'active power': 0, 'reactive power': 0}, 'm1069184': {'active power': 0, 'reactive power': 0}, 'l3159645': {'active power': 8.87, 'reactive power': 2.22303154801527}, 'm1069632': {'active power': 0, 'reactive power': 0}, 'p829957': {'active power': 0, 'reactive power': 0}, 'l3160863': {'active power': 6.1, 'reactive power': 1.52880410855616}, 'p829963': {'active power': 0, 'reactive power': 0}, 'm1010014': {'active power': 0, 'reactive power': 0}, 'n1137998': {'active power': 0, 'reactive power': 0}, 'l3048199': {'active power': 5.84, 'reactive power': 1.46364196622426}, 'l3067478': {'active power': 13.3, 'reactive power': 3.33329420390113}, 'm1125994': {'active power': 0, 'reactive power': 0}, 'm1047480': {'active power': 0, 'reactive power': 0}, 'm1069483': {'active power': 0, 'reactive power': 0}, 'l2841615': {'active power': 5.32, 'reactive power': 1.33331768156045}, 'l2673305': {'active power': 3.89, 'reactive power': 0.974925898734993}, 'm1047721': {'active power': 0, 'reactive power': 0}, 'm1026366': {'active power': 0, 'reactive power': 0}, 'l3104131': {'active power': 8.87, 'reactive power': 2.22303154801527}, 'l2973167': {'active power': 5.84, 'reactive power': 1.46364196622426}, 'm1027055': {'active power': 0, 'reactive power': 0}, 'n1134475': {'active power': 0, 'reactive power': 0}, 'l3067447': {'active power': 8.87, 'reactive power': 2.22303154801527}, 'm1108350': {'active power': 0, 'reactive power': 0}, 'l3139598': {'active power': 14.59, 'reactive power': 3.65659867931711}, 'n1140829': {'active power': 0, 'reactive power': 0}, 'l3085397': {'active power': 9.73, 'reactive power': 2.43856786495925}, 'n1139540': {'active power': 0, 'reactive power': 0}, 'l2748140': {'active power': 8.87, 'reactive power': 2.22303154801527}, 'l3141412': {'active power': 5.32, 'reactive power': 1.33331768156045}, 'm1069619': {'active power': 0, 'reactive power': 0}, 'm1047769': {'active power': 0, 'reactive power': 0}, 'l3197632': {'active power': 5.84, 'reactive power': 1.46364196622426}, 'l2785524': {'active power': 6.1, 'reactive power': 1.52880410855616}, 'p827495': {'active power': 0, 'reactive power': 0}, 'l2991921': {'active power': 10.17, 'reactive power': 2.54884225967478}, 'l2710510': {'active power': 4.07, 'reactive power': 1.02003815111862}, 'l3197628': {'active power': 10.17, 'reactive power': 2.54884225967478}, 'n1140831': {'active power': 0, 'reactive power': 0}, 'n1136358': {'active power': 0, 'reactive power': 0}, 'l3104119': {'active power': 8.87, 'reactive power': 2.22303154801527}, 'l2842329': {'active power': 6.1, 'reactive power': 1.52880410855616}, 'm1125961': {'active power': 0, 'reactive power': 0}, 'l2973791': {'active power': 17.74, 'reactive power': 4.44606309603054}, 'l3179650': {'active power': 5.84, 'reactive power': 1.46364196622426}, 'p860843': {'active power': 0, 'reactive power': 0}, 'm1026961': {'active power': 0, 'reactive power': 0}, 'l2710516': {'active power': 8.87, 'reactive power': 2.22303154801527}, 'l3160864': {'active power': 5.84, 'reactive power': 1.46364196622426}, 'm1047623': {'active power': 0, 'reactive power': 0}, 'l2748157': {'active power': 13.3, 'reactive power': 3.33329420390113}, 'l3048212': {'active power': 3.55, 'reactive power': 0.889713866454814}, 'l3122824': {'active power': 5.32, 'reactive power': 1.33331768156045}, 'l2879089': {'active power': 15.26, 'reactive power': 3.82451650763393}, 'l2937757': {'active power': 10.17, 'reactive power': 2.54884225967478}, 'l3067448': {'active power': 10.17, 'reactive power': 2.54884225967478}, '193-46661': {'active power': 0, 'reactive power': 0}, 'm1069390': {'active power': 0, 'reactive power': 0}, 'l2897801': {'active power': 13.3, 'reactive power': 3.33329420390113}, 'm1108527': {'active power': 0, 'reactive power': 0}, 'm1009650': {'active power': 0, 'reactive power': 0}, 'e203026': {'active power': 0, 'reactive power': 0}, 'm1026779': {'active power': 0, 'reactive power': 0}, 'l2973169': {'active power': 5.32, 'reactive power': 1.33331768156045}, 'm1026953': {'active power': 0, 'reactive power': 0}, 'l3197631': {'active power': 5.32, 'reactive power': 1.33331768156045}, 'l2748127': {'active power': 5.32, 'reactive power': 1.33331768156045}, 'm1209814': {'active power': 0, 'reactive power': 0}, 'm1209811': {'active power': 0, 'reactive power': 0}, 'l2729408': {'active power': 9.73, 'reactive power': 2.43856786495925}, 'l3048228': {'active power': 10.17, 'reactive power': 2.54884225967478}, 'l2991940': {'active power': 6.1, 'reactive power': 1.52880410855616}, 'm1108395': {'active power': 0, 'reactive power': 0}, 'l2728247': {'active power': 17.35, 'reactive power': 4.348319882532684}, 'l2804271': {'active power': 0, 'reactive power': 0}, 'l2916234': {'active power': 3.55, 'reactive power': 0.889713866454814}, 'l2673316': {'active power': 3.55, 'reactive power': 0.889713866454814}, 'n1138607': {'active power': 0, 'reactive power': 0}, 'l3159448': {'active power': 8.87, 'reactive power': 2.22303154801527}, 'l3048890': {'active power': 10.17, 'reactive power': 2.54884225967478}, 'm1166402': {'active power': 0, 'reactive power': 0}, 'l3010563': {'active power': 5.32, 'reactive power': 1.33331768156045}, 'l2841623': {'active power': 5.32, 'reactive power': 1.33331768156045}, 'm1125940': {'active power': 0, 'reactive power': 0}, 'l2991908': {'active power': 5.32, 'reactive power': 1.33331768156045}, 'l3178973': {'active power': 8.87, 'reactive power': 2.22303154801527}, 'm1047826': {'active power': 0, 'reactive power': 0}, 'm1047767': {'active power': 0, 'reactive power': 0}, 'l2879068': {'active power': 9.73, 'reactive power': 2.43856786495925}, 'l3066819': {'active power': 8.87, 'reactive power': 2.22303154801527}, 'l3104853': {'active power': 10.17, 'reactive power': 2.54884225967478}, '221-311359': {'active power': 0, 'reactive power': 0}, 'l3234149': {'active power': 287.64, 'reactive power': 72.0893793090318}, 'n1139537': {'active power': 0, 'reactive power': 0}, 'l2673346': {'active power': 10.17, 'reactive power': 2.54884225967478}, 'l3254210': {'active power': 6.1, 'reactive power': 1.52880410855616}, 'l2955005': {'active power': 5.84, 'reactive power': 1.46364196622426}, 'm1108372': {'active power': 0, 'reactive power': 0}, 'l2936268': {'active power': 6.1, 'reactive power': 1.52880410855616}, 'l2688692': {'active power': 5.84, 'reactive power': 1.46364196622426}, 'm1108286': {'active power': 0, 'reactive power': 0}, 'l2804247': {'active power': 9.73, 'reactive power': 2.43856786495925}, 'm1047744': {'active power': 0, 'reactive power': 0}, 'l3178971': {'active power': 5.32, 'reactive power': 1.33331768156045}, 'l3728040': {'active power': 13.3, 'reactive power': 3.33329420390113}, 'l3728041': {'active power': 8.87, 'reactive power': 2.22303154801527}, 'm1069509': {'active power': 0, 'reactive power': 0}, 'l2766738': {'active power': 10.17, 'reactive power': 2.54884225967478}, 'l3104128': {'active power': 5.32, 'reactive power': 1.33331768156045}, 'l2673315': {'active power': 3.55, 'reactive power': 0.889713866454814}, 'l3047289': {'active power': 57.53, 'reactive power': 14.418377109055058}, 'l2785516': {'active power': 5.84, 'reactive power': 1.46364196622426}, 'l3048963': {'active power': 5.84, 'reactive power': 1.46364196622426}, 'm1069199': {'active power': 0, 'reactive power': 0}, 'l2785525': {'active power': 10.17, 'reactive power': 2.54884225967478}, 'l3198356': {'active power': 6.1, 'reactive power': 1.52880410855616}, 'l3197641': {'active power': 5.32, 'reactive power': 1.33331768156045}, 'l2973161': {'active power': 13.3, 'reactive power': 3.33329420390113}, 'e183493': {'active power': 0, 'reactive power': 0}, 'm1125902': {'active power': 0, 'reactive power': 0}, 'l3085402': {'active power': 13.3, 'reactive power': 3.33329420390113}, 'm1026394': {'active power': 0, 'reactive power': 0}, 'm1047768': {'active power': 0, 'reactive power': 0}, 'p827554': {'active power': 0, 'reactive power': 0}, 'l2991909': {'active power': 8.87, 'reactive power': 2.22303154801527}, 'm1026736': {'active power': 0, 'reactive power': 0}, 'm1026986': {'active power': 0, 'reactive power': 0}, 'm1026997': {'active power': 0, 'reactive power': 0}, 'm4118755': {'active power': 0, 'reactive power': 0}, 'm1026978': {'active power': 0, 'reactive power': 0}, 'm1026979': {'active power': 0, 'reactive power': 0}, 'l3082981': {'active power': 6.1, 'reactive power': 1.52880410855616}, 'l3235275': {'active power': 9.73, 'reactive power': 2.43856786495925}, 'm1026347': {'active power': 0, 'reactive power': 0}, 'l2915534': {'active power': 13.3, 'reactive power': 3.33329420390113}, 'l2710519': {'active power': 3.55, 'reactive power': 0.889713866454814}, 'm1026820': {'active power': 0, 'reactive power': 0}, 'l3141403': {'active power': 8.87, 'reactive power': 2.22303154801527}, 'l3197633': {'active power': 8.87, 'reactive power': 2.22303154801527}, 'm1069500': {'active power': 0, 'reactive power': 0}, 'm1069382': {'active power': 0, 'reactive power': 0}, 'n1147866': {'active power': 0, 'reactive power': 0}, 'l2710537': {'active power': 9.73, 'reactive power': 2.43856786495925}, 'm1026935': {'active power': 0, 'reactive power': 0}, 'm1108364': {'active power': 0, 'reactive power': 0}, 'l2897789': {'active power': 5.84, 'reactive power': 1.46364196622426}, 'm1026466': {'active power': 0, 'reactive power': 0}, 'l3160878': {'active power': 6.1, 'reactive power': 1.52880410855616}, 'l2917336': {'active power': 6.1, 'reactive power': 1.52880410855616}, 'm1026977': {'active power': 0, 'reactive power': 0}, 'p895082': {'active power': 0, 'reactive power': 0}, 'l3214112': {'active power': 5.84, 'reactive power': 1.46364196622426}, 'l3160104': {'active power': 9.73, 'reactive power': 2.43856786495925}, 'l2973144': {'active power': 10.17, 'reactive power': 2.54884225967478}, 'l2748152': {'active power': 5.84, 'reactive power': 1.46364196622426}, 'm1108387': {'active power': 0, 'reactive power': 0}, 'l2955055': {'active power': 9.73, 'reactive power': 2.43856786495925}, 'l2991907': {'active power': 8.87, 'reactive power': 2.22303154801527}, 'm1047812': {'active power': 0, 'reactive power': 0}, 'm4350438': {'active power': 0, 'reactive power': 0}, 'n1142103': {'active power': 0, 'reactive power': 0}, 'l3104830': {'active power': 4.07, 'reactive power': 1.02003815111862}, 'l3197626': {'active power': 6.1, 'reactive power': 1.52880410855616}, 'm1047483': {'active power': 0, 'reactive power': 0}, 'm4277837': {'active power': 0, 'reactive power': 0}, 'l3160102': {'active power': 9.73, 'reactive power': 2.43856786495925}, 'p827514': {'active power': 0, 'reactive power': 0}, 'l3160793': {'active power': 6.1, 'reactive power': 1.52880410855616}, 'n1147860': {'active power': 0, 'reactive power': 0}, 'l3177881': {'active power': 10.17, 'reactive power': 2.54884225967478}, 'l3048221': {'active power': 8.87, 'reactive power': 2.22303154801527}, 'l2748128': {'active power': 10.17, 'reactive power': 2.54884225967478}, 'l2913406': {'active power': 14.59, 'reactive power': 3.65659867931711}, 'm1069563': {'active power': 0, 'reactive power': 0}, 'n1136360': {'active power': 0, 'reactive power': 0}, 'm1166366': {'active power': 0, 'reactive power': 0}, '196-29518': {'active power': 0, 'reactive power': 0}, 'l2805035': {'active power': 0, 'reactive power': 0}, 'm1026713': {'active power': 0, 'reactive power': 0}, 'l2991922': {'active power': 5.32, 'reactive power': 1.33331768156045}, 'l3104145': {'active power': 5.84, 'reactive power': 1.46364196622426}, 'm1027013': {'active power': 0, 'reactive power': 0}, 'l3649298': {'active power': 13.3, 'reactive power': 3.33329420390113}, 'm1047388': {'active power': 0, 'reactive power': 0}, 'l3048211': {'active power': 8.87, 'reactive power': 2.22303154801527}, 'l2766725': {'active power': 6.1, 'reactive power': 1.52880410855616}, 'l2673311': {'active power': 8.87, 'reactive power': 2.22303154801527}, 'l3008279': {'active power': 0, 'reactive power': 0}, 'l2785537': {'active power': 5.32, 'reactive power': 1.33331768156045}, 'p827498': {'active power': 0, 'reactive power': 0}, 'n1136032': {'active power': 0, 'reactive power': 0}, 'm1009834': {'active power': 0, 'reactive power': 0}, '221-240991': {'active power': 0, 'reactive power': 0}, 'l3066817': {'active power': 17.74, 'reactive power': 4.44606309603054}, 'l2673319': {'active power': 6.1, 'reactive power': 1.52880410855616}, 'n1136993': {'active power': 0, 'reactive power': 0}, 'l3104121': {'active power': 8.87, 'reactive power': 2.22303154801527}, 'l3104113': {'active power': 8.87, 'reactive power': 2.22303154801527}, 'l3104856': {'active power': 5.32, 'reactive power': 1.33331768156045}, 'l2785518': {'active power': 6.1, 'reactive power': 1.52880410855616}, 'm1108393': {'active power': 0, 'reactive power': 0}, 'm1069494': {'active power': 0, 'reactive power': 0}, 'l2745806': {'active power': 10.17, 'reactive power': 2.54884225967478}, '193-48013': {'active power': 0, 'reactive power': 0}, 'l3157710': {'active power': 5.84, 'reactive power': 1.46364196622426}, 'm1089176': {'active power': 0, 'reactive power': 0}, 'm1089179': {'active power': 0, 'reactive power': 0}, 'm1108257': {'active power': 0, 'reactive power': 0}, 'm1108340': {'active power': 0, 'reactive power': 0}, 'l2916605': {'active power': 6.1, 'reactive power': 1.52880410855616}, '196-29521': {'active power': 0, 'reactive power': 0}, 'l2804245': {'active power': 9.73, 'reactive power': 2.43856786495925}, 'n1140527': {'active power': 0, 'reactive power': 0}, 'l3254915': {'active power': 1.95, 'reactive power': 0.488716067489264}, 'l3727708': {'active power': 5.32, 'reactive power': 1.33331768156045}, 'l3160105': {'active power': 6.1, 'reactive power': 1.52880410855616}, 'l3235251': {'active power': 6.1, 'reactive power': 1.52880410855616}, 'm1142798': {'active power': 0, 'reactive power': 0}, 'm1142801': {'active power': 0, 'reactive power': 0}, 'm1010016': {'active power': 0, 'reactive power': 0}, 'l3251807': {'active power': 8.87, 'reactive power': 2.22303154801527}, 'l2992657': {'active power': 8.87, 'reactive power': 2.22303154801527}, 'm1069597': {'active power': 0, 'reactive power': 0}, 'l3197653': {'active power': 9.73, 'reactive power': 2.43856786495925}, 'l2991929': {'active power': 9.73, 'reactive power': 2.43856786495925}, 'm3949154': {'active power': 0, 'reactive power': 0}, 'l2895449': {'active power': 10.17, 'reactive power': 2.54884225967478}, 'm1069463': {'active power': 0, 'reactive power': 0}, 'l3086074': {'active power': 6.1, 'reactive power': 1.52880410855616}, 'n1138595': {'active power': 0, 'reactive power': 0}, 'm3036167': {'active power': 0, 'reactive power': 0}, 'l3143999': {'active power': 8.87, 'reactive power': 2.22303154801527}, 'm1069451': {'active power': 0, 'reactive power': 0}, 'l3160115': {'active power': 19.45, 'reactive power': 4.87462949367497}, 'l2935567': {'active power': 5.84, 'reactive power': 1.46364196622426}, 'l3253570': {'active power': 10.17, 'reactive power': 2.54884225967478}, 'n1137989': {'active power': 0, 'reactive power': 0}, 'l3122814': {'active power': 6.1, 'reactive power': 1.52880410855616}, 'l2935556': {'active power': 9.73, 'reactive power': 2.43856786495925}, 'm1009651': {'active power': 0, 'reactive power': 0}, 'n1141474': {'active power': 0, 'reactive power': 0}, 'm1047737': {'active power': 0, 'reactive power': 0}, 'm1026387': {'active power': 0, 'reactive power': 0}, 'm1166361': {'active power': 0, 'reactive power': 0}, 'l2692661': {'active power': 8.87, 'reactive power': 2.22303154801527}, 'm1047522': {'active power': 0, 'reactive power': 0}, 'n1136664': {'active power': 0, 'reactive power': 0}, 'm1026320': {'active power': 0, 'reactive power': 0}, 'l2879079': {'active power': 5.84, 'reactive power': 1.46364196622426}, 'm1047649': {'active power': 0, 'reactive power': 0}, 'l3216361': {'active power': 9.73, 'reactive power': 2.43856786495925}, 'm1125913': {'active power': 0, 'reactive power': 0}, 'l3048209': {'active power': 9.73, 'reactive power': 2.43856786495925}, 'l2896685': {'active power': 17.259999999999998, 'reactive power': 4.325763756340869}, 'l2748135': {'active power': 8.87, 'reactive power': 2.22303154801527}, 'l2767409': {'active power': 9.73, 'reactive power': 2.43856786495925}, 'm1166400': {'active power': 0, 'reactive power': 0}, 'm1047435': {'active power': 0, 'reactive power': 0}, 'l2970841': {'active power': 0, 'reactive power': 0}, 'l3091052': {'active power': 13.3, 'reactive power': 3.33329420390113}, 'n1137960': {'active power': 0, 'reactive power': 0}, 'm1047309': {'active power': 0, 'reactive power': 0}, 'l3215340': {'active power': 8.87, 'reactive power': 2.22303154801527}, '193-51796': {'active power': 0, 'reactive power': 0}, 'm1069607': {'active power': 0, 'reactive power': 0}, 'm1166398': {'active power': 0, 'reactive power': 0}, 'l3142050': {'active power': 6.1, 'reactive power': 1.52880410855616}, 'e184626': {'active power': 0, 'reactive power': 0}, 'm1166377': {'active power': 0, 'reactive power': 0}, 'l2989432': {'active power': 9.73, 'reactive power': 2.43856786495925}, 'l3066830': {'active power': 9.73, 'reactive power': 2.43856786495925}, 'm1209774': {'active power': 0, 'reactive power': 0}, 'm1026693': {'active power': 0, 'reactive power': 0}, 'l2991916': {'active power': 9.73, 'reactive power': 2.43856786495925}, 'm1069365': {'active power': 0, 'reactive power': 0}, 'l3235243': {'active power': 10.17, 'reactive power': 2.54884225967478}, 'p827502': {'active power': 0, 'reactive power': 0}, 'm1026970': {'active power': 0, 'reactive power': 0}, 'l3727712': {'active power': 8.87, 'reactive power': 2.22303154801527}, 'l3236011': {'active power': 5.84, 'reactive power': 1.46364196622426}, 'l3198358': {'active power': 14.59, 'reactive power': 3.65659867931711}, 'm1108316': {'active power': 0, 'reactive power': 0}, 'l2860486': {'active power': 6.1, 'reactive power': 1.52880410855616}, 'm1027000': {'active power': 0, 'reactive power': 0}, 'l2916608': {'active power': 4.07, 'reactive power': 1.02003815111862}, 'm1108514': {'active power': 0, 'reactive power': 0}, 'l2673300': {'active power': 9.73, 'reactive power': 2.43856786495925}, 'n1139255': {'active power': 0, 'reactive power': 0}, 'e206209': {'active power': 0, 'reactive power': 0}, 'm1047521': {'active power': 0, 'reactive power': 0}, 'l3030126': {'active power': 10.17, 'reactive power': 2.54884225967478}, 'l3254870': {'active power': 10.17, 'reactive power': 2.54884225967478}, 'l2915542': {'active power': 57.53, 'reactive power': 14.418377109055058}, 'l3085401': {'active power': 13.3, 'reactive power': 3.33329420390113}, 'l3010557': {'active power': 5.32, 'reactive power': 1.33331768156045}, 'l3254213': {'active power': 9.73, 'reactive power': 2.43856786495925}, 'm1069738': {'active power': 0, 'reactive power': 0}, 'l2690941': {'active power': 9.73, 'reactive power': 2.43856786495925}, 'l2748839': {'active power': 3.89, 'reactive power': 0.974925898734993}, 'e206210': {'active power': 0, 'reactive power': 0}, 'l2876812': {'active power': 5.32, 'reactive power': 1.33331768156045}, 'm1069497': {'active power': 0, 'reactive power': 0}, 'n1144664': {'active power': 0, 'reactive power': 0}, 'l3178972': {'active power': 20.34, 'reactive power': 5.09768451934955}, 'n1147864': {'active power': 0, 'reactive power': 0}, 'm3327097': {'active power': 0, 'reactive power': 0}, 'l3448661': {'active power': 5.84, 'reactive power': 1.46364196622426}, 'm1009828': {'active power': 0, 'reactive power': 0}, 'l2766715': {'active power': 5.84, 'reactive power': 1.46364196622426}, 'p827561': {'active power': 0, 'reactive power': 0}, 'm1026705': {'active power': 0, 'reactive power': 0}, 'p827573': {'active power': 0, 'reactive power': 0}, 'l2972930': {'active power': 8.87, 'reactive power': 2.22303154801527}, 'l2879067': {'active power': 8.87, 'reactive power': 2.22303154801527}, 'l3235252': {'active power': 9.73, 'reactive power': 2.43856786495925}, 'p827527': {'active power': 0, 'reactive power': 0}, 'l2785517': {'active power': 4.07, 'reactive power': 1.02003815111862}, '221-559682': {'active power': 0, 'reactive power': 0}, 'l3082993': {'active power': 8.87, 'reactive power': 2.22303154801527}, 'm3016088': {'active power': 0, 'reactive power': 0}, 'l3122821': {'active power': 9.73, 'reactive power': 2.43856786495925}, 'l2730108': {'active power': 6.1, 'reactive power': 1.52880410855616}, 'm1008733': {'active power': 0, 'reactive power': 0}, 'm1026354': {'active power': 0, 'reactive power': 0}, 'm1026309': {'active power': 0, 'reactive power': 0}, 'l2804260': {'active power': 9.73, 'reactive power': 2.43856786495925}, 'l3085395': {'active power': 5.32, 'reactive power': 1.33331768156045}, 'm1026767': {'active power': 0, 'reactive power': 0}, 'l3141401': {'active power': 8.87, 'reactive power': 2.22303154801527}, 'l3104120': {'active power': 5.84, 'reactive power': 1.46364196622426}, 'm1026896': {'active power': 0, 'reactive power': 0}, 'p860847': {'active power': 0, 'reactive power': 0}, 'm1108344': {'active power': 0, 'reactive power': 0}, 'm1108353': {'active power': 0, 'reactive power': 0}, 'l2763811': {'active power': 30.52, 'reactive power': 7.64903301526787}, 'l3235256': {'active power': 5.32, 'reactive power': 1.33331768156045}, 'm3019248': {'active power': 0, 'reactive power': 0}, 'm3021569': {'active power': 0, 'reactive power': 0}, 'l3254230': {'active power': 1.77, 'reactive power': 0.44360381510564}, 'l2814529': {'active power': 57.53, 'reactive power': 14.418377109055058}, 'l2689727': {'active power': 0, 'reactive power': 0}, 'l2860484': {'active power': 5.84, 'reactive power': 1.46364196622426}, '221-703009': {'active power': 0, 'reactive power': 0}, 'l3150961': {'active power': 15.26, 'reactive power': 3.82451650763393}, 'l2711225': {'active power': 6.1, 'reactive power': 1.52880410855616}, 'l3030200': {'active power': 6.1, 'reactive power': 1.52880410855616}, 'm1186063': {'active power': 0, 'reactive power': 0}, 'l2879054': {'active power': 8.87, 'reactive power': 2.22303154801527}, 'n1136661': {'active power': 0, 'reactive power': 0}, 'l2689691': {'active power': 8.87, 'reactive power': 2.22303154801527}, 'n1136353': {'active power': 0, 'reactive power': 0}, 'l2820535': {'active power': 9.73, 'reactive power': 2.43856786495925}, 'l2727795': {'active power': 6.1, 'reactive power': 1.52880410855616}, 'm1166368': {'active power': 0, 'reactive power': 0}, 'l3086098': {'active power': 17.74, 'reactive power': 4.44606309603054}, 'l3030197': {'active power': 0, 'reactive power': 0}, 'l2822867': {'active power': 5.84, 'reactive power': 1.46364196622426}, 'm1047323': {'active power': 0, 'reactive power': 0}, 'm1089174': {'active power': 0, 'reactive power': 0}, 'p827501': {'active power': 0, 'reactive power': 0}, 'l3104859': {'active power': 5.84, 'reactive power': 1.46364196622426}, 'l3101194': {'active power': 30.52, 'reactive power': 7.64903301526787}, 'l2862616': {'active power': 30.52, 'reactive power': 7.64903301526787}, 'm1069205': {'active power': 0, 'reactive power': 0}, 'e182746': {'active power': 0, 'reactive power': 0}, 'm1010015': {'active power': 0, 'reactive power': 0}, 'l3066813': {'active power': 5.84, 'reactive power': 1.46364196622426}, 'l2991910': {'active power': 5.84, 'reactive power': 1.46364196622426}, 'm1108331': {'active power': 0, 'reactive power': 0}, 'l2785531': {'active power': 5.32, 'reactive power': 1.33331768156045}, 'l3179646': {'active power': 14.59, 'reactive power': 3.65659867931711}, 'l3066818': {'active power': 9.73, 'reactive power': 2.43856786495925}, 'l2954345': {'active power': 6.1, 'reactive power': 1.52880410855616}, 'l2804255': {'active power': 9.73, 'reactive power': 2.43856786495925}, 'm1108356': {'active power': 0, 'reactive power': 0}, 'l2842390': {'active power': 6.1, 'reactive power': 1.52880410855616}, 'p829975': {'active power': 0, 'reactive power': 0}, 'l3160871': {'active power': 10.17, 'reactive power': 2.54884225967478}, 'm1047338': {'active power': 0, 'reactive power': 0}, 'l2691953': {'active power': 5.32, 'reactive power': 1.33331768156045}, 'l2767408': {'active power': 6.1, 'reactive power': 1.52880410855616}, 'l3728037': {'active power': 8.87, 'reactive power': 2.22303154801527}, 'p895113': {'active power': 0, 'reactive power': 0}, 'm1166396': {'active power': 0, 'reactive power': 0}, 'm1166399': {'active power': 0, 'reactive power': 0}, 'm1108507': {'active power': 0, 'reactive power': 0}, 'l3108449': {'active power': 5.32, 'reactive power': 1.33331768156045}, 'l3160109': {'active power': 9.73, 'reactive power': 2.43856786495925}, 'p901936': {'active power': 0, 'reactive power': 0}, 'm1108267': {'active power': 0, 'reactive power': 0}, 'n1145956': {'active power': 0, 'reactive power': 0}, 'l2729412': {'active power': 8.87, 'reactive power': 2.22303154801527}, 'l3160107': {'active power': 8.87, 'reactive power': 2.22303154801527}, 'l2897766': {'active power': 10.17, 'reactive power': 2.54884225967478}, 'm1026798': {'active power': 0, 'reactive power': 0}, 'l2952014': {'active power': 5.32, 'reactive power': 1.33331768156045}, 'l2748125': {'active power': 10.17, 'reactive power': 2.54884225967478}, 'l2673303': {'active power': 6.1, 'reactive power': 1.52880410855616}, 'l2879753': {'active power': 9.73, 'reactive power': 2.43856786495925}, 'l2914324': {'active power': 1.77, 'reactive power': 0.44360381510564}, 'l2876847': {'active power': 0, 'reactive power': 0}, 'm1047787': {'active power': 0, 'reactive power': 0}, 'l2691942': {'active power': 5.84, 'reactive power': 1.46364196622426}, 'm1026393': {'active power': 0, 'reactive power': 0}, 'n1140821': {'active power': 0, 'reactive power': 0}, 'l3189188': {'active power': 20.34, 'reactive power': 5.09768451934955}, 'n1136365': {'active power': 0, 'reactive power': 0}, 'm1069517': {'active power': 0, 'reactive power': 0}, 'l3254228': {'active power': 9.73, 'reactive power': 2.43856786495925}, 'n1137956': {'active power': 0, 'reactive power': 0}, 'm1142814': {'active power': 0, 'reactive power': 0}, 'l3217053': {'active power': 4.07, 'reactive power': 1.02003815111862}, 'm1026357': {'active power': 0, 'reactive power': 0}, 'l3178997': {'active power': 6.1, 'reactive power': 1.52880410855616}, 'm1125903': {'active power': 0, 'reactive power': 0}, 'm1069488': {'active power': 0, 'reactive power': 0}, 'l2764412': {'active power': 8.87, 'reactive power': 2.22303154801527}, 'n1136030': {'active power': 0, 'reactive power': 0}, 'l2785513': {'active power': 8.87, 'reactive power': 2.22303154801527}, 'm1209782': {'active power': 0, 'reactive power': 0}, 'l3217056': {'active power': 17.74, 'reactive power': 4.44606309603054}, 'm1009827': {'active power': 0, 'reactive power': 0}, 'm1069201': {'active power': 0, 'reactive power': 0}, 'm1047406': {'active power': 0, 'reactive power': 0}, 'l2691947': {'active power': 3.55, 'reactive power': 0.889713866454814}, 'm1047766': {'active power': 0, 'reactive power': 0}, 'l3216344': {'active power': 19.45, 'reactive power': 4.87462949367497}, 'p830058': {'active power': 0, 'reactive power': 0}, 'm1089199': {'active power': 0, 'reactive power': 0}, 'm1089197': {'active power': 0, 'reactive power': 0}, 'n1140526': {'active power': 0, 'reactive power': 0}, 'm3763620': {'active power': 0, 'reactive power': 0}, 'l2729207': {'active power': 20.34, 'reactive power': 5.09768451934955}, 'm1108335': {'active power': 0, 'reactive power': 0}, 'm1027036': {'active power': 0, 'reactive power': 0}, 'l3010580': {'active power': 5.84, 'reactive power': 1.46364196622426}, 'm1010003': {'active power': 0, 'reactive power': 0}, 'p901933': {'active power': 0, 'reactive power': 0}, 'l3141394': {'active power': 9.73, 'reactive power': 2.43856786495925}, 'm1069465': {'active power': 0, 'reactive power': 0}, 'l3104154': {'active power': 15.26, 'reactive power': 3.82451650763393}, 'l3104155': {'active power': 10.17, 'reactive power': 2.54884225967478}, 'f739844': {'active power': 5.84, 'reactive power': 1.46364196622426}, 'l3104130': {'active power': 9.73, 'reactive power': 2.43856786495925}, 'l2841625': {'active power': 4.07, 'reactive power': 1.02003815111862}, 'l3010566': {'active power': 6.1, 'reactive power': 1.52880410855616}, 'm1027038': {'active power': 0, 'reactive power': 0}, 'l2935568': {'active power': 5.84, 'reactive power': 1.46364196622426}, 'm1047293': {'active power': 0, 'reactive power': 0}, 'p901905': {'active power': 0, 'reactive power': 0}, 'l2897777': {'active power': 10.17, 'reactive power': 2.54884225967478}, 'l2860488': {'active power': 9.73, 'reactive power': 2.43856786495925}, 'l3122811': {'active power': 8.87, 'reactive power': 2.22303154801527}, 'l2897774': {'active power': 5.84, 'reactive power': 1.46364196622426}, 'l3254211': {'active power': 9.73, 'reactive power': 2.43856786495925}, 'm1069513': {'active power': 0, 'reactive power': 0}, 'l2691938': {'active power': 9.73, 'reactive power': 2.43856786495925}, 'l2804256': {'active power': 3.89, 'reactive power': 0.974925898734993}, 'm1047688': {'active power': 0, 'reactive power': 0}, 'l2822863': {'active power': 4.07, 'reactive power': 1.02003815111862}, 'm1069505': {'active power': 0, 'reactive power': 0}, 'm1047311': {'active power': 0, 'reactive power': 0}, 'l2748158': {'active power': 5.32, 'reactive power': 1.33331768156045}, 'l3254234': {'active power': 9.73, 'reactive power': 2.43856786495925}, 'p903360': {'active power': 0, 'reactive power': 0}, 'l3214064': {'active power': 0, 'reactive power': 0}, 'n1140523': {'active power': 0, 'reactive power': 0}, 'l2766724': {'active power': 6.1, 'reactive power': 1.52880410855616}, 'm1069554': {'active power': 0, 'reactive power': 0}, 'm1108526': {'active power': 0, 'reactive power': 0}, 'n1139251': {'active power': 0, 'reactive power': 0}, 'l3011229': {'active power': 5.32, 'reactive power': 1.33331768156045}, 'm1166362': {'active power': 0, 'reactive power': 0}, 'l3197639': {'active power': 8.87, 'reactive power': 2.22303154801527}, 'l3085391': {'active power': 19.45, 'reactive power': 4.87462949367497}, 'l2691952': {'active power': 5.32, 'reactive power': 1.33331768156045}, 'l2897781': {'active power': 3.55, 'reactive power': 0.889713866454814}, 'e182748': {'active power': 0, 'reactive power': 0}, 'l2691950': {'active power': 10.17, 'reactive power': 2.54884225967478}, 'l2916609': {'active power': 6.1, 'reactive power': 1.52880410855616}, 'm1069498': {'active power': 0, 'reactive power': 0}, 'm1069499': {'active power': 0, 'reactive power': 0}, 'l3104132': {'active power': 5.32, 'reactive power': 1.33331768156045}, 'l2805034': {'active power': 3.55, 'reactive power': 0.889713866454814}, 'l2822866': {'active power': 9.73, 'reactive power': 2.43856786495925}, 'p827563': {'active power': 0, 'reactive power': 0}, 'l3160100': {'active power': 5.84, 'reactive power': 1.46364196622426}, 'l3085390': {'active power': 5.84, 'reactive power': 1.46364196622426}, 'l2954361': {'active power': 9.73, 'reactive power': 2.43856786495925}, 'e182744': {'active power': 0, 'reactive power': 0}, 'l2801895': {'active power': 9.73, 'reactive power': 2.43856786495925}, 'l2691973': {'active power': 5.32, 'reactive power': 1.33331768156045}, 'm1047671': {'active power': 0, 'reactive power': 0}, 'm1026984': {'active power': 0, 'reactive power': 0}, 'm1209751': {'active power': 0, 'reactive power': 0}, 'p827505': {'active power': 0, 'reactive power': 0}, 'l3066829': {'active power': 10.17, 'reactive power': 2.54884225967478}, 'l2879063': {'active power': 9.73, 'reactive power': 2.43856786495925}, 'n1140528': {'active power': 0, 'reactive power': 0}, 'l3649297': {'active power': 13.3, 'reactive power': 3.33329420390113}, 'n1140817': {'active power': 0, 'reactive power': 0}, 'n1136029': {'active power': 0, 'reactive power': 0}, 'n1136028': {'active power': 0, 'reactive power': 0}, 'n1139258': {'active power': 0, 'reactive power': 0}, 'm1142875': {'active power': 0, 'reactive power': 0}, 'm1026895': {'active power': 0, 'reactive power': 0}, 'l2820528': {'active power': 10.17, 'reactive power': 2.54884225967478}, 'n1138608': {'active power': 0, 'reactive power': 0}, 'l3048230': {'active power': 10.17, 'reactive power': 2.54884225967478}, 'n1139260': {'active power': 0, 'reactive power': 0}, 'l2925506': {'active power': 10.17, 'reactive power': 2.54884225967478}, 'l2729434': {'active power': 5.84, 'reactive power': 1.46364196622426}, 'm1069549': {'active power': 0, 'reactive power': 0}, 'l2970811': {'active power': 8.87, 'reactive power': 2.22303154801527}, 'n1137988': {'active power': 0, 'reactive power': 0}, 'p829798': {'active power': 0, 'reactive power': 0}, 'l2841621': {'active power': 10.17, 'reactive power': 2.54884225967478}, 'n1137986': {'active power': 0, 'reactive power': 0}, 'n1141479': {'active power': 0, 'reactive power': 0}, 'l3198348': {'active power': 17.74, 'reactive power': 4.44606309603054}, 'l2876813': {'active power': 8.87, 'reactive power': 2.22303154801527}, 'l3104118': {'active power': 15.26, 'reactive power': 3.82451650763393}, 'l2748126': {'active power': 10.17, 'reactive power': 2.54884225967478}, 'm1166394': {'active power': 0, 'reactive power': 0}, 'l3179607': {'active power': 9.73, 'reactive power': 2.43856786495925}, 'l2861197': {'active power': 6.1, 'reactive power': 1.52880410855616}, 'l3160896': {'active power': 6.1, 'reactive power': 1.52880410855616}, 'l3067506': {'active power': 4.07, 'reactive power': 1.02003815111862}, 'l3029497': {'active power': 4.07, 'reactive power': 1.02003815111862}, 'l3047073': {'active power': 10.17, 'reactive power': 2.54884225967478}, '221-559681': {'active power': 0, 'reactive power': 0}, 'l3104133': {'active power': 8.87, 'reactive power': 2.22303154801527}, 'l3122819': {'active power': 15.26, 'reactive power': 3.82451650763393}, 'l3048889': {'active power': 10.17, 'reactive power': 2.54884225967478}, 'm1027068': {'active power': 0, 'reactive power': 0}, 'l3235268': {'active power': 10.17, 'reactive power': 2.54884225967478}, 'l3008232': {'active power': 3.89, 'reactive power': 0.974925898734993}, 'm1149249': {'active power': 0, 'reactive power': 0}, 'm1142808': {'active power': 0, 'reactive power': 0}, 'm1027100': {'active power': 0, 'reactive power': 0}, 'l3140238': {'active power': 8.87, 'reactive power': 2.22303154801527}, 'l3235257': {'active power': 0, 'reactive power': 0}, 'l3010564': {'active power': 6.1, 'reactive power': 1.52880410855616}, 'l2691946': {'active power': 5.84, 'reactive power': 1.46364196622426}, 'l3139103': {'active power': 8.87, 'reactive power': 2.22303154801527}, 'm1026732': {'active power': 0, 'reactive power': 0}, 'e182723': {'active power': 0, 'reactive power': 0}, 'l3119793': {'active power': 5.84, 'reactive power': 1.46364196622426}, 'm1047371': {'active power': 0, 'reactive power': 0}, 'm1026807': {'active power': 0, 'reactive power': 0}, 'n1140521': {'active power': 0, 'reactive power': 0}, 'l3066807': {'active power': 4.07, 'reactive power': 1.02003815111862}, 'n1138606': {'active power': 0, 'reactive power': 0}, 'm1069335': {'active power': 0, 'reactive power': 0}, 'n1142102': {'active power': 0, 'reactive power': 0}, 'l2804956': {'active power': 8.87, 'reactive power': 2.22303154801527}, 'm1047777': {'active power': 0, 'reactive power': 0}, 'l3254212': {'active power': 14.59, 'reactive power': 3.65659867931711}, 'l2820533': {'active power': 8.87, 'reactive power': 2.22303154801527}, 'l2879055': {'active power': 4.07, 'reactive power': 1.02003815111862}, 'm1047434': {'active power': 0, 'reactive power': 0}, 'm1026665': {'active power': 0, 'reactive power': 0}, 'l3232933': {'active power': 0, 'reactive power': 0}, 'l3104115': {'active power': 3.89, 'reactive power': 0.974925898734993}, 'l3086075': {'active power': 5.84, 'reactive power': 1.46364196622426}, 'm1108484': {'active power': 0, 'reactive power': 0}, 'l2822857': {'active power': 5.84, 'reactive power': 1.46364196622426}, 'l3104126': {'active power': 4.07, 'reactive power': 1.02003815111862}, 'p827542': {'active power': 0, 'reactive power': 0}, 'm1209807': {'active power': 0, 'reactive power': 0}, 'm1209805': {'active power': 0, 'reactive power': 0}, 'l2989565': {'active power': 8.87, 'reactive power': 2.22303154801527}, 'e182733': {'active power': 0, 'reactive power': 0}, 'l2806553': {'active power': 10.17, 'reactive power': 2.54884225967478}, 'l3122813': {'active power': 5.32, 'reactive power': 1.33331768156045}, 'l2729411': {'active power': 3.55, 'reactive power': 0.889713866454814}, 'l2935555': {'active power': 5.32, 'reactive power': 1.33331768156045}, 'm3037453': {'active power': 0, 'reactive power': 0}, 'l3215203': {'active power': 57.53, 'reactive power': 14.418377109055058}, 'm1026812': {'active power': 0, 'reactive power': 0}, 'l3122847': {'active power': 5.32, 'reactive power': 1.33331768156045}, 'n1138594': {'active power': 0, 'reactive power': 0}, 'm1026679': {'active power': 0, 'reactive power': 0}, 'l3141396': {'active power': 6.1, 'reactive power': 1.52880410855616}, 'l3066808': {'active power': 6.1, 'reactive power': 1.52880410855616}, 'm3036170': {'active power': 0, 'reactive power': 0}, 'n1136362': {'active power': 0, 'reactive power': 0}, 'm1026773': {'active power': 0, 'reactive power': 0}, 'l3195751': {'active power': 8.87, 'reactive power': 2.22303154801527}, 'm1026660': {'active power': 0, 'reactive power': 0}, 'l3085410': {'active power': 5.84, 'reactive power': 1.46364196622426}, 'm1026670': {'active power': 0, 'reactive power': 0}, 'l3178982': {'active power': 8.87, 'reactive power': 2.22303154801527}, 'm1125988': {'active power': 0, 'reactive power': 0}, 'l3197636': {'active power': 9.73, 'reactive power': 2.43856786495925}, 'm1089132': {'active power': 0, 'reactive power': 0}, 'l2876798': {'active power': 9.73, 'reactive power': 2.43856786495925}, 'n1136660': {'active power': 0, 'reactive power': 0}, 'l3104136': {'active power': 5.84, 'reactive power': 1.46364196622426}, 'l3048888': {'active power': 6.1, 'reactive power': 1.52880410855616}, '190-8581': {'active power': 0, 'reactive power': 0}, 'l3197644': {'active power': 5.32, 'reactive power': 1.33331768156045}, 'm1009843': {'active power': 0, 'reactive power': 0}, 'l3251806': {'active power': 5.84, 'reactive power': 1.46364196622426}, 'm1069516': {'active power': 0, 'reactive power': 0}, 'l3251830': {'active power': 0, 'reactive power': 0}, 'l2804249': {'active power': 6.1, 'reactive power': 1.52880410855616}, 'l2935557': {'active power': 13.3, 'reactive power': 3.33329420390113}, 'm1069250': {'active power': 0, 'reactive power': 0}, 'l2690868': {'active power': 20.34, 'reactive power': 5.09768451934955}, 'l3030204': {'active power': 8.87, 'reactive power': 2.22303154801527}, 'l3179637': {'active power': 15.26, 'reactive power': 3.82451650763393}, 'm1108262': {'active power': 0, 'reactive power': 0}, 'm1108261': {'active power': 0, 'reactive power': 0}, 'e192201': {'active power': 0, 'reactive power': 0}, 'r20185': {'active power': 0, 'reactive power': 0}, 'l3181545': {'active power': 6.1, 'reactive power': 1.52880410855616}, 'n1138603': {'active power': 0, 'reactive power': 0}, 'l3178976': {'active power': 5.32, 'reactive power': 1.33331768156045}, 'l3065665': {'active power': 8.87, 'reactive power': 2.22303154801527}, 'l2785514': {'active power': 8.87, 'reactive power': 2.22303154801527}, 'l2710536': {'active power': 8.87, 'reactive power': 2.22303154801527}, 'l2936216': {'active power': 4.07, 'reactive power': 1.02003815111862}, 'm1026969': {'active power': 0, 'reactive power': 0}, 'l3048231': {'active power': 19.45, 'reactive power': 4.87462949367497}, 'm1069328': {'active power': 0, 'reactive power': 0}, 'e206217': {'active power': 0, 'reactive power': 0}, 'l2879071': {'active power': 9.73, 'reactive power': 2.43856786495925}, 'l3029504': {'active power': 9.73, 'reactive power': 2.43856786495925}, 'm1026796': {'active power': 0, 'reactive power': 0}, 'p827553': {'active power': 0, 'reactive power': 0}, 'l2804251': {'active power': 3.55, 'reactive power': 0.889713866454814}, 'm1069133': {'active power': 0, 'reactive power': 0}, 'l2764399': {'active power': 5.84, 'reactive power': 1.46364196622426}, 'p895117': {'active power': 0, 'reactive power': 0}, 'l2842383': {'active power': 5.32, 'reactive power': 1.33331768156045}, 'l2745811': {'active power': 10.17, 'reactive power': 2.54884225967478}, 'l2804252': {'active power': 8.87, 'reactive power': 2.22303154801527}, 'l3066815': {'active power': 10.17, 'reactive power': 2.54884225967478}, 'p895075': {'active power': 0, 'reactive power': 0}, 'l2710544': {'active power': 5.32, 'reactive power': 1.33331768156045}, 'n1140519': {'active power': 0, 'reactive power': 0}, 'l3160117': {'active power': 9.73, 'reactive power': 2.43856786495925}, 'l3029510': {'active power': 5.84, 'reactive power': 1.46364196622426}, 'e182731': {'active power': 0, 'reactive power': 0}, 'n1136658': {'active power': 0, 'reactive power': 0}, 'l2730149': {'active power': 6.1, 'reactive power': 1.52880410855616}, 'l2860500': {'active power': 5.84, 'reactive power': 1.46364196622426}, 'l3216347': {'active power': 6.1, 'reactive power': 1.52880410855616}, 'l2767341': {'active power': 15.26, 'reactive power': 3.82451650763393}, 'e206211': {'active power': 0, 'reactive power': 0}, 'n1134480': {'active power': 0, 'reactive power': 0}, 'l3030203': {'active power': 10.17, 'reactive power': 2.54884225967478}, 'l2879773': {'active power': 8.87, 'reactive power': 2.22303154801527}, 'l2804282': {'active power': 6.1, 'reactive power': 1.52880410855616}, 'n1137005': {'active power': 0, 'reactive power': 0}, 'm1047574': {'active power': 0, 'reactive power': 0}, 'l3225319': {'active power': 14.59, 'reactive power': 3.65659867931711}, 'l3048201': {'active power': 9.73, 'reactive power': 2.43856786495925}, 'm1126025': {'active power': 0, 'reactive power': 0}, 'l2823545': {'active power': 8.87, 'reactive power': 2.22303154801527}, 'l3160108': {'active power': 14.59, 'reactive power': 3.65659867931711}, 'n1134478': {'active power': 0, 'reactive power': 0}, 'l3029055': {'active power': 14.59, 'reactive power': 3.65659867931711}, 'm1047577': {'active power': 0, 'reactive power': 0}, 'm1209797': {'active power': 0, 'reactive power': 0}, 'l3645811': {'active power': 30.52, 'reactive power': 7.64903301526787}, 'l3254229': {'active power': 9.73, 'reactive power': 2.43856786495925}, 'l2710521': {'active power': 8.87, 'reactive power': 2.22303154801527}, 'm1009807': {'active power': 0, 'reactive power': 0}, 'n1136672': {'active power': 0, 'reactive power': 0}, 'l3253995': {'active power': 6.1, 'reactive power': 1.52880410855616}, 'l2841638': {'active power': 6.1, 'reactive power': 1.52880410855616}, 'l2860492': {'active power': 6.1, 'reactive power': 1.52880410855616}, 'l2691959': {'active power': 38.9, 'reactive power': 9.74925898734993}, 'l2973159': {'active power': 5.32, 'reactive power': 1.33331768156045}, 'l2822859': {'active power': 9.73, 'reactive power': 2.43856786495925}, 'l2973158': {'active power': 6.1, 'reactive power': 1.52880410855616}, 'l2674052': {'active power': 6.1, 'reactive power': 1.52880410855616}, 'm1125990': {'active power': 0, 'reactive power': 0}, 'n1136366': {'active power': 0, 'reactive power': 0}, 'l2916620': {'active power': 11.51, 'reactive power': 2.8846779163084273}, 'm1026472': {'active power': 0, 'reactive power': 0}, 'm1026939': {'active power': 0, 'reactive power': 0}, 'l3104124': {'active power': 5.84, 'reactive power': 1.46364196622426}, 'l3233412': {'active power': 17.74, 'reactive power': 4.44606309603054}, 'l3235266': {'active power': 10.17, 'reactive power': 2.54884225967478}, 'l3235267': {'active power': 10.17, 'reactive power': 2.54884225967478}, 'l3235248': {'active power': 6.1, 'reactive power': 1.52880410855616}, 'l3217064': {'active power': 9.73, 'reactive power': 2.43856786495925}, 'l3200222': {'active power': 0, 'reactive power': 0}, 'l3729297': {'active power': 8.87, 'reactive power': 2.22303154801527}, 'l3197625': {'active power': 6.1, 'reactive power': 1.52880410855616}, 'l2917333': {'active power': 8.87, 'reactive power': 2.22303154801527}, 'n1140516': {'active power': 0, 'reactive power': 0}, 'm1209748': {'active power': 0, 'reactive power': 0}, 'l3142099': {'active power': 9.73, 'reactive power': 2.43856786495925}, 'l2898457': {'active power': 3.55, 'reactive power': 0.889713866454814}, 'm1166376': {'active power': 0, 'reactive power': 0}, 'l2842384': {'active power': 4.07, 'reactive power': 1.02003815111862}, 'l2763407': {'active power': 10.17, 'reactive power': 2.54884225967478}, 'm1047750': {'active power': 0, 'reactive power': 0}, 'l2708293': {'active power': 0, 'reactive power': 0}, 'l3176656': {'active power': 8.87, 'reactive power': 2.22303154801527}, 'm1047548': {'active power': 0, 'reactive power': 0}, 'm1089185': {'active power': 0, 'reactive power': 0}, 'l2748781': {'active power': 13.3, 'reactive power': 3.33329420390113}, 'm1026695': {'active power': 0, 'reactive power': 0}, 'n1140818': {'active power': 0, 'reactive power': 0}, 'l2860501': {'active power': 9.73, 'reactive power': 2.43856786495925}, 'm1209800': {'active power': 0, 'reactive power': 0}, 'l2839332': {'active power': 0, 'reactive power': 0}, 'l2954353': {'active power': 8.87, 'reactive power': 2.22303154801527}, 'l2726974': {'active power': 9.73, 'reactive power': 2.43856786495925}, 'l2785527': {'active power': 5.32, 'reactive power': 1.33331768156045}, 'l2766729': {'active power': 8.87, 'reactive power': 2.22303154801527}, 'm1069376': {'active power': 0, 'reactive power': 0}, 'm1027005': {'active power': 0, 'reactive power': 0}, 'l3176660': {'active power': 5.84, 'reactive power': 1.46364196622426}, 'm1125943': {'active power': 0, 'reactive power': 0}, 'm1026874': {'active power': 0, 'reactive power': 0}, 'm1125969': {'active power': 0, 'reactive power': 0}, 'l2673343': {'active power': 5.84, 'reactive power': 1.46364196622426}, 'l2764436': {'active power': 0, 'reactive power': 0}, 'l3029495': {'active power': 5.84, 'reactive power': 1.46364196622426}, 'n1134479': {'active power': 0, 'reactive power': 0}, 'l2823592': {'active power': 1.77, 'reactive power': 0.44360381510564}, 'l2933164': {'active power': 0, 'reactive power': 0}, 'l2992624': {'active power': 5.32, 'reactive power': 1.33331768156045}, 'l3232301': {'active power': 30.52, 'reactive power': 7.64903301526787}, 'm1010017': {'active power': 0, 'reactive power': 0}, 'l2858175': {'active power': 5.32, 'reactive power': 1.33331768156045}, 'm1009820': {'active power': 0, 'reactive power': 0}, 'l3045895': {'active power': 10.17, 'reactive power': 2.54884225967478}, 'l2841618': {'active power': 8.87, 'reactive power': 2.22303154801527}, 'm1209817': {'active power': 0, 'reactive power': 0}, 'l2785547': {'active power': 9.73, 'reactive power': 2.43856786495925}, '221-311595': {'active power': 0, 'reactive power': 0}, 'f739841': {'active power': 5.84, 'reactive power': 1.46364196622426}, 'l3122823': {'active power': 9.73, 'reactive power': 2.43856786495925}, 'l3048966': {'active power': 6.1, 'reactive power': 1.52880410855616}, 'm1142810': {'active power': 0, 'reactive power': 0}, 'm1027109': {'active power': 0, 'reactive power': 0}, 'l3101788': {'active power': 8.87, 'reactive power': 2.22303154801527}, 'p903490': {'active power': 0, 'reactive power': 0}, 'l2916603': {'active power': 5.84, 'reactive power': 1.46364196622426}, 'l3160106': {'active power': 8.87, 'reactive power': 2.22303154801527}, 'm1069514': {'active power': 0, 'reactive power': 0}, 'p850083': {'active power': 0, 'reactive power': 0}, 'l3178988': {'active power': 3.89, 'reactive power': 0.974925898734993}, 'l3010568': {'active power': 8.87, 'reactive power': 2.22303154801527}, 'm1026356': {'active power': 0, 'reactive power': 0}, 'l2989600': {'active power': 0, 'reactive power': 0}, 'm1026487': {'active power': 0, 'reactive power': 0}, 'm1069348': {'active power': 0, 'reactive power': 0}, 'l2804248': {'active power': 3.89, 'reactive power': 0.974925898734993}, 'l2729413': {'active power': 5.32, 'reactive power': 1.33331768156045}, 'l2673314': {'active power': 4.07, 'reactive power': 1.02003815111862}, 'l2785528': {'active power': 5.84, 'reactive power': 1.46364196622426}, 'l2897773': {'active power': 3.55, 'reactive power': 0.889713866454814}, 'l3010567': {'active power': 6.1, 'reactive power': 1.52880410855616}, 'l2991917': {'active power': 3.89, 'reactive power': 0.974925898734993}, 'l2766730': {'active power': 5.84, 'reactive power': 1.46364196622426}, 'm1166407': {'active power': 0, 'reactive power': 0}, 'm1008753': {'active power': 0, 'reactive power': 0}, 'm1047419': {'active power': 0, 'reactive power': 0}, 'm1089207': {'active power': 0, 'reactive power': 0}, 'm1047572': {'active power': 0, 'reactive power': 0}, 'm1108329': {'active power': 0, 'reactive power': 0}, 'n1138599': {'active power': 0, 'reactive power': 0}, 'l3217057': {'active power': 3.55, 'reactive power': 0.889713866454814}, '193-103041': {'active power': 0, 'reactive power': 0}, 'l2785515': {'active power': 10.17, 'reactive power': 2.54884225967478}, 'm1069206': {'active power': 0, 'reactive power': 0}, 'l2729424': {'active power': 5.32, 'reactive power': 1.33331768156045}, 'l2917359': {'active power': 5.32, 'reactive power': 1.33331768156045}, 'm3037538': {'active power': 0, 'reactive power': 0}, 'l3027133': {'active power': 8.87, 'reactive power': 2.22303154801527}, 'l3197627': {'active power': 10.17, 'reactive power': 2.54884225967478}, 'm1069187': {'active power': 0, 'reactive power': 0}, 'l2748129': {'active power': 13.3, 'reactive power': 3.33329420390113}, 'n1136657': {'active power': 0, 'reactive power': 0}, 'l3027671': {'active power': 13.3, 'reactive power': 3.33329420390113}, 'm1108423': {'active power': 0, 'reactive power': 0}, 'n1136665': {'active power': 0, 'reactive power': 0}, 'l2710532': {'active power': 4.07, 'reactive power': 1.02003815111862}, 'l2785526': {'active power': 5.84, 'reactive power': 1.46364196622426}, 'l2857591': {'active power': 5.32, 'reactive power': 1.33331768156045}, 'l2841630': {'active power': 10.17, 'reactive power': 2.54884225967478}, 'l3312692': {'active power': 8.87, 'reactive power': 2.22303154801527}, 'm1069495': {'active power': 0, 'reactive power': 0}, 'l3179678': {'active power': 5.84, 'reactive power': 1.46364196622426}, 'm1149225': {'active power': 0, 'reactive power': 0}, 'r42246': {'active power': 0, 'reactive power': 0}, 'l3632979': {'active power': 5.32, 'reactive power': 1.33331768156045}, 'p841985': {'active power': 0, 'reactive power': 0}, 'l3104796': {'active power': 10.17, 'reactive power': 2.54884225967478}, 'n1141476': {'active power': 0, 'reactive power': 0}, 'l2785519': {'active power': 8.87, 'reactive power': 2.22303154801527}, 'l3104122': {'active power': 8.87, 'reactive power': 2.22303154801527}, 'l3197618': {'active power': 5.32, 'reactive power': 1.33331768156045}, 'e192258': {'active power': 0, 'reactive power': 0}, 'l2841633': {'active power': 8.87, 'reactive power': 2.22303154801527}, 'l3254206': {'active power': 9.73, 'reactive power': 2.43856786495925}, 'n1145954': {'active power': 0, 'reactive power': 0}, 'p827580': {'active power': 0, 'reactive power': 0}, 'l2955074': {'active power': 13.3, 'reactive power': 3.33329420390113}, 'l2970845': {'active power': 0, 'reactive power': 0}, 'l3010585': {'active power': 13.3, 'reactive power': 3.33329420390113}, 'l2861219': {'active power': 9.73, 'reactive power': 2.43856786495925}, 'l3104135': {'active power': 5.32, 'reactive power': 1.33331768156045}, 'l3254203': {'active power': 5.84, 'reactive power': 1.46364196622426}, 'l2954352': {'active power': 10.17, 'reactive power': 2.54884225967478}, 'm1047400': {'active power': 0, 'reactive power': 0}, 'l2842379': {'active power': 13.3, 'reactive power': 3.33329420390113}, 'l2916617': {'active power': 9.73, 'reactive power': 2.43856786495925}, 'n1136670': {'active power': 0, 'reactive power': 0}, 'l2766727': {'active power': 5.84, 'reactive power': 1.46364196622426}, 'l2727019': {'active power': 0, 'reactive power': 0}, 'l2801909': {'active power': 4.07, 'reactive power': 1.02003815111862}, 'm1047831': {'active power': 0, 'reactive power': 0}, 'l2748131': {'active power': 5.84, 'reactive power': 1.46364196622426}, 'l2729427': {'active power': 5.84, 'reactive power': 1.46364196622426}, 'l2766717': {'active power': 4.07, 'reactive power': 1.02003815111862}, 'l2879064': {'active power': 8.87, 'reactive power': 2.22303154801527}, 'l3195318': {'active power': 5.84, 'reactive power': 1.46364196622426}, 'l3254204': {'active power': 5.32, 'reactive power': 1.33331768156045}, 'l2973148': {'active power': 8.87, 'reactive power': 2.22303154801527}, 'l2801902': {'active power': 14.59, 'reactive power': 3.65659867931711}, 'l2748146': {'active power': 5.32, 'reactive power': 1.33331768156045}, 'n1139549': {'active power': 0, 'reactive power': 0}, 'n1138593': {'active power': 0, 'reactive power': 0}, 'l3197624': {'active power': 1.95, 'reactive power': 0.488716067489264}, 'm1069558': {'active power': 0, 'reactive power': 0}, 'l3197654': {'active power': 8.87, 'reactive power': 2.22303154801527}, 'l2710505': {'active power': 5.84, 'reactive power': 1.46364196622426}, 'l2879065': {'active power': 3.89, 'reactive power': 0.974925898734993}, 'm1166358': {'active power': 0, 'reactive power': 0}, 'l2898522': {'active power': 8.87, 'reactive power': 2.22303154801527}, 'l2992556': {'active power': 6.1, 'reactive power': 1.52880410855616}, '196-35813': {'active power': 0, 'reactive power': 0}, 'l3064514': {'active power': 6.1, 'reactive power': 1.52880410855616}, 'l3141402': {'active power': 10.17, 'reactive power': 2.54884225967478}, 'l2859391': {'active power': 9.73, 'reactive power': 2.43856786495925}, 'l2860489': {'active power': 5.32, 'reactive power': 1.33331768156045}, 'm1026989': {'active power': 0, 'reactive power': 0}, 'm1209752': {'active power': 0, 'reactive power': 0}, 'l2710514': {'active power': 9.73, 'reactive power': 2.43856786495925}, 'l2726975': {'active power': 5.84, 'reactive power': 1.46364196622426}, 'l3649306': {'active power': 13.3, 'reactive power': 3.33329420390113}, 'l2767407': {'active power': 3.89, 'reactive power': 0.974925898734993}, 'l2730107': {'active power': 10.17, 'reactive power': 2.54884225967478}, 'm4113347': {'active power': 0, 'reactive power': 0}, 'l3216339': {'active power': 9.73, 'reactive power': 2.43856786495925}, 'f739842': {'active power': 5.84, 'reactive power': 1.46364196622426}, 'l2897792': {'active power': 5.32, 'reactive power': 1.33331768156045}, 'm1026800': {'active power': 0, 'reactive power': 0}, 'm1026797': {'active power': 0, 'reactive power': 0}, 'l2729407': {'active power': 5.84, 'reactive power': 1.46364196622426}, 'l3342743': {'active power': 4.07, 'reactive power': 1.02003815111862}, 'l3122818': {'active power': 10.17, 'reactive power': 2.54884225967478}, 'm1047430': {'active power': 0, 'reactive power': 0}, 'l3048203': {'active power': 9.73, 'reactive power': 2.43856786495925}, 'l2936276': {'active power': 3.89, 'reactive power': 0.974925898734993}, 'l2860499': {'active power': 19.45, 'reactive power': 4.87462949367497}, 'p827564': {'active power': 0, 'reactive power': 0}, 'l3030205': {'active power': 10.17, 'reactive power': 2.54884225967478}, 'l3008248': {'active power': 5.32, 'reactive power': 1.33331768156045}, 'l2804250': {'active power': 10.17, 'reactive power': 2.54884225967478}, 'l2954354': {'active power': 8.87, 'reactive power': 2.22303154801527}, 'l2673321': {'active power': 8.87, 'reactive power': 2.22303154801527}, 'l3197634': {'active power': 14.59, 'reactive power': 3.65659867931711}, 'l3141389': {'active power': 5.32, 'reactive power': 1.33331768156045}, 'l2935559': {'active power': 8.87, 'reactive power': 2.22303154801527}, 'p895087': {'active power': 0, 'reactive power': 0}, 'l3254217': {'active power': 10.17, 'reactive power': 2.54884225967478}, 'l3101782': {'active power': 13.3, 'reactive power': 3.33329420390113}, 'l2745799': {'active power': 10.17, 'reactive power': 2.54884225967478}, 'l3082983': {'active power': 9.73, 'reactive power': 2.43856786495925}, 'l2691966': {'active power': 19.45, 'reactive power': 4.87462949367497}, 'n1136368': {'active power': 0, 'reactive power': 0}, 'l3197642': {'active power': 6.1, 'reactive power': 1.52880410855616}, 'l2973157': {'active power': 8.87, 'reactive power': 2.22303154801527}, 'l2935550': {'active power': 10.17, 'reactive power': 2.54884225967478}, 'l3066821': {'active power': 8.87, 'reactive power': 2.22303154801527}, 'm1009691': {'active power': 0, 'reactive power': 0}, 'l3178975': {'active power': 9.73, 'reactive power': 2.43856786495925}, 'm1069518': {'active power': 0, 'reactive power': 0}, 'l2916618': {'active power': 14.59, 'reactive power': 3.65659867931711}, 'l2710515': {'active power': 15.26, 'reactive power': 3.82451650763393}, 'l3235258': {'active power': 26.009999999999998, 'reactive power': 6.5187204694337195}, 'l3141395': {'active power': 10.17, 'reactive power': 2.54884225967478}, 'n1136997': {'active power': 0, 'reactive power': 0}, 'l3104123': {'active power': 6.1, 'reactive power': 1.52880410855616}, '190-7361': {'active power': 0, 'reactive power': 0}, 'l3645812': {'active power': 15.26, 'reactive power': 3.82451650763393}, 'l3254214': {'active power': 9.73, 'reactive power': 2.43856786495925}, 'l2766749': {'active power': 9.73, 'reactive power': 2.43856786495925}, 'l2692660': {'active power': 17.74, 'reactive power': 4.44606309603054}, 'l2955076': {'active power': 5.32, 'reactive power': 1.33331768156045}, 'm1125979': {'active power': 0, 'reactive power': 0}, 'l3160114': {'active power': 5.32, 'reactive power': 1.33331768156045}, 'l3235245': {'active power': 6.1, 'reactive power': 1.52880410855616}, 'm1026876': {'active power': 0, 'reactive power': 0}, 'l2785535': {'active power': 14.59, 'reactive power': 3.65659867931711}, 'l2973150': {'active power': 5.32, 'reactive power': 1.33331768156045}, 'l3160113': {'active power': 9.73, 'reactive power': 2.43856786495925}, 'l2710518': {'active power': 8.87, 'reactive power': 2.22303154801527}, 'l3195310': {'active power': 8.87, 'reactive power': 2.22303154801527}, 'l3142098': {'active power': 9.73, 'reactive power': 2.43856786495925}, 'm1026784': {'active power': 0, 'reactive power': 0}, 'l2897771': {'active power': 5.84, 'reactive power': 1.46364196622426}, 'l2917255': {'active power': 10.17, 'reactive power': 2.54884225967478}, 'l3254215': {'active power': 6.1, 'reactive power': 1.52880410855616}, 'l2989571': {'active power': 5.32, 'reactive power': 1.33331768156045}, 'l3179699': {'active power': 14.59, 'reactive power': 3.65659867931711}, 'l3029507': {'active power': 9.73, 'reactive power': 2.43856786495925}, 'l2748124': {'active power': 9.73, 'reactive power': 2.43856786495925}, 'l2861218': {'active power': 10.17, 'reactive power': 2.54884225967478}, 'l2935552': {'active power': 6.1, 'reactive power': 1.52880410855616}, 'l3216350': {'active power': 8.87, 'reactive power': 2.22303154801527}, 'l3197660': {'active power': 9.73, 'reactive power': 2.43856786495925}, 'm1026880': {'active power': 0, 'reactive power': 0}, 'l2822860': {'active power': 9.73, 'reactive power': 2.43856786495925}, 'l3101787': {'active power': 8.87, 'reactive power': 2.22303154801527}, 'l3027132': {'active power': 5.32, 'reactive power': 1.33331768156045}, 'l3179673': {'active power': 6.1, 'reactive power': 1.52880410855616}, 'l2879092': {'active power': 10.17, 'reactive power': 2.54884225967478}, 'l2803199': {'active power': 57.53, 'reactive power': 14.418377109055058}, 'l3254208': {'active power': 10.17, 'reactive power': 2.54884225967478}, 'm1027014': {'active power': 0, 'reactive power': 0}, 'm1047433': {'active power': 0, 'reactive power': 0}, 'l2991905': {'active power': 13.3, 'reactive power': 3.33329420390113}, 'l2935560': {'active power': 6.1, 'reactive power': 1.52880410855616}, 'l3085400': {'active power': 10.17, 'reactive power': 2.54884225967478}, 'l2764403': {'active power': 8.87, 'reactive power': 2.22303154801527}, 'm1108535': {'active power': 0, 'reactive power': 0}, 'l2785521': {'active power': 15.26, 'reactive power': 3.82451650763393}, 'l3216988': {'active power': 9.73, 'reactive power': 2.43856786495925}, 'l3649305': {'active power': 5.32, 'reactive power': 1.33331768156045}, 'l2983432': {'active power': 8.87, 'reactive power': 2.22303154801527}, 'l3315860': {'active power': 5.84, 'reactive power': 1.46364196622426}, 'm1125966': {'active power': 0, 'reactive power': 0}, 'l2729423': {'active power': 6.1, 'reactive power': 1.52880410855616}, 'l2673307': {'active power': 6.1, 'reactive power': 1.52880410855616}, 'l2685809': {'active power': 5.32, 'reactive power': 1.33331768156045}, 'l3254209': {'active power': 15.26, 'reactive power': 3.82451650763393}, 'l2860477': {'active power': 5.32, 'reactive power': 1.33331768156045}, 'p827548': {'active power': 0, 'reactive power': 0}, 'l3048946': {'active power': 6.1, 'reactive power': 1.52880410855616}, 'l2839331': {'active power': 0, 'reactive power': 0}, 'l2973180': {'active power': 9.73, 'reactive power': 2.43856786495925}, 'l3066806': {'active power': 6.1, 'reactive power': 1.52880410855616}, 'l2785529': {'active power': 10.17, 'reactive power': 2.54884225967478}, 'l3177894': {'active power': 8.87, 'reactive power': 2.22303154801527}, 'l2731712': {'active power': 9.73, 'reactive power': 2.43856786495925}, 'l2917310': {'active power': 5.84, 'reactive power': 1.46364196622426}, 'l3085394': {'active power': 6.1, 'reactive power': 1.52880410855616}, 'l3236004': {'active power': 6.1, 'reactive power': 1.52880410855616}, 'l2879066': {'active power': 5.84, 'reactive power': 1.46364196622426}, 'l3048214': {'active power': 8.87, 'reactive power': 2.22303154801527}, 'l3120504': {'active power': 5.32, 'reactive power': 1.33331768156045}, 'p827537': {'active power': 0, 'reactive power': 0}, 'l2785543': {'active power': 9.73, 'reactive power': 2.43856786495925}, 'm1047837': {'active power': 0, 'reactive power': 0}, 'l2916602': {'active power': 8.87, 'reactive power': 2.22303154801527}, 'l2766748': {'active power': 5.32, 'reactive power': 1.33331768156045}, 'l3104129': {'active power': 13.3, 'reactive power': 3.33329420390113}, 'm1027110': {'active power': 0, 'reactive power': 0}, 'l3047058': {'active power': 13.3, 'reactive power': 3.33329420390113}, 'l2801949': {'active power': 0, 'reactive power': 0}, 'l2710525': {'active power': 10.17, 'reactive power': 2.54884225967478}, 'l3197640': {'active power': 4.07, 'reactive power': 1.02003815111862}, 'l3010561': {'active power': 5.32, 'reactive power': 1.33331768156045}, 'l3141390': {'active power': 9.73, 'reactive power': 2.43856786495925}})"
      ]
     },
     "execution_count": 12,
     "metadata": {},
     "output_type": "execute_result"
    }
   ],
   "source": [
    "G_primary.nodes(data=True) # You can see that the active and reactive power has been attributed to each of the nodes in the primary graph"
   ]
  },
  {
   "cell_type": "code",
   "execution_count": 13,
   "id": "87be4f2e",
   "metadata": {},
   "outputs": [],
   "source": [
    "node_df = pd.DataFrame.from_dict(dict(G_primary.nodes(data=True)), orient='index')"
   ]
  },
  {
   "cell_type": "code",
   "execution_count": 14,
   "id": "6ecb2c85",
   "metadata": {},
   "outputs": [
    {
     "data": {
      "text/html": [
       "<div>\n",
       "<style scoped>\n",
       "    .dataframe tbody tr th:only-of-type {\n",
       "        vertical-align: middle;\n",
       "    }\n",
       "\n",
       "    .dataframe tbody tr th {\n",
       "        vertical-align: top;\n",
       "    }\n",
       "\n",
       "    .dataframe thead th {\n",
       "        text-align: right;\n",
       "    }\n",
       "</style>\n",
       "<table border=\"1\" class=\"dataframe\">\n",
       "  <thead>\n",
       "    <tr style=\"text-align: right;\">\n",
       "      <th></th>\n",
       "      <th>active power</th>\n",
       "      <th>reactive power</th>\n",
       "    </tr>\n",
       "  </thead>\n",
       "  <tbody>\n",
       "    <tr>\n",
       "      <th>l3234149</th>\n",
       "      <td>287.64</td>\n",
       "      <td>72.089379</td>\n",
       "    </tr>\n",
       "    <tr>\n",
       "      <th>l2767340</th>\n",
       "      <td>86.30</td>\n",
       "      <td>21.628819</td>\n",
       "    </tr>\n",
       "    <tr>\n",
       "      <th>l3207907</th>\n",
       "      <td>67.26</td>\n",
       "      <td>16.856945</td>\n",
       "    </tr>\n",
       "    <tr>\n",
       "      <th>l2803199</th>\n",
       "      <td>57.53</td>\n",
       "      <td>14.418377</td>\n",
       "    </tr>\n",
       "    <tr>\n",
       "      <th>l2915542</th>\n",
       "      <td>57.53</td>\n",
       "      <td>14.418377</td>\n",
       "    </tr>\n",
       "    <tr>\n",
       "      <th>l3215203</th>\n",
       "      <td>57.53</td>\n",
       "      <td>14.418377</td>\n",
       "    </tr>\n",
       "    <tr>\n",
       "      <th>l3047289</th>\n",
       "      <td>57.53</td>\n",
       "      <td>14.418377</td>\n",
       "    </tr>\n",
       "    <tr>\n",
       "      <th>l3011293</th>\n",
       "      <td>57.53</td>\n",
       "      <td>14.418377</td>\n",
       "    </tr>\n",
       "    <tr>\n",
       "      <th>l2814529</th>\n",
       "      <td>57.53</td>\n",
       "      <td>14.418377</td>\n",
       "    </tr>\n",
       "    <tr>\n",
       "      <th>l3215385</th>\n",
       "      <td>48.01</td>\n",
       "      <td>12.032440</td>\n",
       "    </tr>\n",
       "    <tr>\n",
       "      <th>l2691959</th>\n",
       "      <td>38.90</td>\n",
       "      <td>9.749259</td>\n",
       "    </tr>\n",
       "    <tr>\n",
       "      <th>l2851933</th>\n",
       "      <td>33.86</td>\n",
       "      <td>8.486116</td>\n",
       "    </tr>\n",
       "    <tr>\n",
       "      <th>l2951995</th>\n",
       "      <td>30.52</td>\n",
       "      <td>7.649033</td>\n",
       "    </tr>\n",
       "    <tr>\n",
       "      <th>l2862616</th>\n",
       "      <td>30.52</td>\n",
       "      <td>7.649033</td>\n",
       "    </tr>\n",
       "    <tr>\n",
       "      <th>l3645811</th>\n",
       "      <td>30.52</td>\n",
       "      <td>7.649033</td>\n",
       "    </tr>\n",
       "    <tr>\n",
       "      <th>l3232301</th>\n",
       "      <td>30.52</td>\n",
       "      <td>7.649033</td>\n",
       "    </tr>\n",
       "    <tr>\n",
       "      <th>l3141411</th>\n",
       "      <td>30.52</td>\n",
       "      <td>7.649033</td>\n",
       "    </tr>\n",
       "    <tr>\n",
       "      <th>l3645810</th>\n",
       "      <td>30.52</td>\n",
       "      <td>7.649033</td>\n",
       "    </tr>\n",
       "    <tr>\n",
       "      <th>l3101194</th>\n",
       "      <td>30.52</td>\n",
       "      <td>7.649033</td>\n",
       "    </tr>\n",
       "    <tr>\n",
       "      <th>l2763812</th>\n",
       "      <td>30.52</td>\n",
       "      <td>7.649033</td>\n",
       "    </tr>\n",
       "  </tbody>\n",
       "</table>\n",
       "</div>"
      ],
      "text/plain": [
       "          active power  reactive power\n",
       "l3234149        287.64       72.089379\n",
       "l2767340         86.30       21.628819\n",
       "l3207907         67.26       16.856945\n",
       "l2803199         57.53       14.418377\n",
       "l2915542         57.53       14.418377\n",
       "l3215203         57.53       14.418377\n",
       "l3047289         57.53       14.418377\n",
       "l3011293         57.53       14.418377\n",
       "l2814529         57.53       14.418377\n",
       "l3215385         48.01       12.032440\n",
       "l2691959         38.90        9.749259\n",
       "l2851933         33.86        8.486116\n",
       "l2951995         30.52        7.649033\n",
       "l2862616         30.52        7.649033\n",
       "l3645811         30.52        7.649033\n",
       "l3232301         30.52        7.649033\n",
       "l3141411         30.52        7.649033\n",
       "l3645810         30.52        7.649033\n",
       "l3101194         30.52        7.649033\n",
       "l2763812         30.52        7.649033"
      ]
     },
     "execution_count": 14,
     "metadata": {},
     "output_type": "execute_result"
    }
   ],
   "source": [
    "node_df_desc =  node_df.sort_values(by=['reactive power'], ascending=False)\n",
    "node_df_desc.head(20)"
   ]
  },
  {
   "cell_type": "code",
   "execution_count": null,
   "id": "f4f1ec7f",
   "metadata": {},
   "outputs": [],
   "source": []
  },
  {
   "cell_type": "markdown",
   "id": "4fc3294b",
   "metadata": {},
   "source": [
    "The final graph to be used in the restoration work is: G_primary"
   ]
  },
  {
   "cell_type": "code",
   "execution_count": 15,
   "id": "5e740fd8",
   "metadata": {},
   "outputs": [
    {
     "data": {
      "text/plain": [
       "['e192860']"
      ]
     },
     "execution_count": 15,
     "metadata": {},
     "output_type": "execute_result"
    }
   ],
   "source": [
    "list(Gdir.successors('_hvmv_sub_lsb'))\n",
    "     #I do this till I find a node in G_primary that is at the head\n",
    "list(Gdir.successors('d5710794-3_int'))"
   ]
  },
  {
   "cell_type": "code",
   "execution_count": 16,
   "id": "5ecd5e75",
   "metadata": {},
   "outputs": [],
   "source": [
    "substation_id  = 'e192860'"
   ]
  },
  {
   "cell_type": "markdown",
   "id": "070d6b16",
   "metadata": {},
   "source": [
    "Now evaluating the load restored by repairing the outage line"
   ]
  },
  {
   "cell_type": "code",
   "execution_count": null,
   "id": "e7bb01eb",
   "metadata": {},
   "outputs": [],
   "source": []
  },
  {
   "cell_type": "code",
   "execution_count": null,
   "id": "f34adf06",
   "metadata": {},
   "outputs": [],
   "source": []
  },
  {
   "cell_type": "code",
   "execution_count": null,
   "id": "a19d6a56",
   "metadata": {},
   "outputs": [],
   "source": []
  },
  {
   "cell_type": "code",
   "execution_count": 17,
   "id": "4b5f6f9f",
   "metadata": {},
   "outputs": [
    {
     "data": {
      "text/plain": [
       "OutEdgeDataView([('m1209822', 'm1209823'), ('m1209822', '226-23745'), ('m1209822', 'l2992556')])"
      ]
     },
     "execution_count": 17,
     "metadata": {},
     "output_type": "execute_result"
    }
   ],
   "source": [
    "Gdir.out_edges('m1209822') #1: 37215"
   ]
  },
  {
   "cell_type": "code",
   "execution_count": 18,
   "id": "f473ac2e",
   "metadata": {},
   "outputs": [
    {
     "data": {
      "text/plain": [
       "InEdgeDataView([('m1209819', 'l2936216'), ('226-23745', 'l2936216')])"
      ]
     },
     "execution_count": 18,
     "metadata": {},
     "output_type": "execute_result"
    }
   ],
   "source": [
    "Gdir.in_edges('l2936216') #2: 23214"
   ]
  },
  {
   "cell_type": "code",
   "execution_count": 19,
   "id": "0ee41e29",
   "metadata": {},
   "outputs": [
    {
     "data": {
      "text/plain": [
       "InEdgeDataView([('m1209787', 'l2823611')])"
      ]
     },
     "execution_count": 19,
     "metadata": {},
     "output_type": "execute_result"
    }
   ],
   "source": [
    "Gdir.in_edges('l2823611') #3: 8433"
   ]
  },
  {
   "cell_type": "code",
   "execution_count": 20,
   "id": "91d5a71b",
   "metadata": {},
   "outputs": [
    {
     "data": {
      "text/plain": [
       "OutEdgeDataView([('l3139366', 'm4362177'), ('l3139366', 'x3139366a')])"
      ]
     },
     "execution_count": 20,
     "metadata": {},
     "output_type": "execute_result"
    }
   ],
   "source": [
    "Gdir.out_edges('l3139366') #### 4: 10680/ 36856"
   ]
  },
  {
   "cell_type": "code",
   "execution_count": null,
   "id": "87ccc562",
   "metadata": {},
   "outputs": [],
   "source": []
  },
  {
   "cell_type": "code",
   "execution_count": null,
   "id": "78c04805",
   "metadata": {},
   "outputs": [],
   "source": []
  },
  {
   "cell_type": "code",
   "execution_count": 21,
   "id": "a43229fe",
   "metadata": {},
   "outputs": [
    {
     "data": {
      "text/plain": [
       "OutEdgeDataView([('l2785527', 'l2766729'), ('l2785527', 'x2785527a')])"
      ]
     },
     "execution_count": 21,
     "metadata": {},
     "output_type": "execute_result"
    }
   ],
   "source": [
    "Gdir.out_edges('l2785527') #5: 51201"
   ]
  },
  {
   "cell_type": "code",
   "execution_count": 22,
   "id": "9268ac1d",
   "metadata": {},
   "outputs": [
    {
     "data": {
      "text/plain": [
       "OutEdgeDataView([('m1209817', 'l2801909')])"
      ]
     },
     "execution_count": 22,
     "metadata": {},
     "output_type": "execute_result"
    }
   ],
   "source": [
    "Gdir.out_edges('m1209817') #6: 31506"
   ]
  },
  {
   "cell_type": "code",
   "execution_count": 23,
   "id": "55b24e33",
   "metadata": {},
   "outputs": [
    {
     "data": {
      "text/plain": [
       "OutEdgeDataView([('m1209814', 'm1209811'), ('m1209814', 'l2801909')])"
      ]
     },
     "execution_count": 23,
     "metadata": {},
     "output_type": "execute_result"
    }
   ],
   "source": [
    "Gdir.out_edges('m1209814') #7: 31505"
   ]
  },
  {
   "cell_type": "code",
   "execution_count": 24,
   "id": "6d2e8a8d",
   "metadata": {},
   "outputs": [
    {
     "data": {
      "text/plain": [
       "OutEdgeDataView([('m1209811', 'm1209807')])"
      ]
     },
     "execution_count": 24,
     "metadata": {},
     "output_type": "execute_result"
    }
   ],
   "source": [
    "Gdir.out_edges('m1209811') #8: 34563"
   ]
  },
  {
   "cell_type": "code",
   "execution_count": null,
   "id": "9c997231",
   "metadata": {},
   "outputs": [],
   "source": []
  },
  {
   "cell_type": "code",
   "execution_count": null,
   "id": "a4106ca6",
   "metadata": {},
   "outputs": [],
   "source": []
  },
  {
   "cell_type": "code",
   "execution_count": 25,
   "id": "6f0f9f2e",
   "metadata": {},
   "outputs": [
    {
     "data": {
      "text/plain": [
       "OutEdgeDataView([('m1209797', 'm1209800')])"
      ]
     },
     "execution_count": 25,
     "metadata": {},
     "output_type": "execute_result"
    }
   ],
   "source": [
    "Gdir.out_edges('m1209797') #9: 44006"
   ]
  },
  {
   "cell_type": "code",
   "execution_count": 26,
   "id": "33c7bdb5",
   "metadata": {},
   "outputs": [
    {
     "data": {
      "text/plain": [
       "OutEdgeDataView([('m1209807', 'm1209805')])"
      ]
     },
     "execution_count": 26,
     "metadata": {},
     "output_type": "execute_result"
    }
   ],
   "source": [
    "Gdir.out_edges('m1209807') #10: 37223"
   ]
  },
  {
   "cell_type": "code",
   "execution_count": 27,
   "id": "4c600615",
   "metadata": {},
   "outputs": [
    {
     "data": {
      "text/plain": [
       "OutEdgeDataView([('m1209748', 'l3142099')])"
      ]
     },
     "execution_count": 27,
     "metadata": {},
     "output_type": "execute_result"
    }
   ],
   "source": [
    "Gdir.out_edges('m1209748') #### 11: 30326/ 14510"
   ]
  },
  {
   "cell_type": "code",
   "execution_count": 28,
   "id": "fd18a1ed",
   "metadata": {},
   "outputs": [
    {
     "data": {
      "text/plain": [
       "OutEdgeDataView([('m1209795', 'l2936268')])"
      ]
     },
     "execution_count": 28,
     "metadata": {},
     "output_type": "execute_result"
    }
   ],
   "source": [
    "Gdir.out_edges('m1209795') #12: 1646"
   ]
  },
  {
   "cell_type": "code",
   "execution_count": null,
   "id": "04f04442",
   "metadata": {},
   "outputs": [],
   "source": []
  },
  {
   "cell_type": "code",
   "execution_count": null,
   "id": "761dce14",
   "metadata": {},
   "outputs": [],
   "source": []
  },
  {
   "cell_type": "code",
   "execution_count": 29,
   "id": "f95dc745",
   "metadata": {},
   "outputs": [
    {
     "data": {
      "text/plain": [
       "OutEdgeDataView([('m1186061', 'l2861223'), ('m1186061', 'p829977'), ('m1186061', 'l3139366')])"
      ]
     },
     "execution_count": 29,
     "metadata": {},
     "output_type": "execute_result"
    }
   ],
   "source": [
    "Gdir.out_edges('m1186061') #### 13: 7747/ 13459"
   ]
  },
  {
   "cell_type": "code",
   "execution_count": 30,
   "id": "18960a4a",
   "metadata": {},
   "outputs": [
    {
     "data": {
      "text/plain": [
       "OutEdgeDataView([('m1209753', 'm1209748'), ('m1209753', 'm1209752')])"
      ]
     },
     "execution_count": 30,
     "metadata": {},
     "output_type": "execute_result"
    }
   ],
   "source": [
    "Gdir.out_edges('m1209753') #14: 42738"
   ]
  },
  {
   "cell_type": "code",
   "execution_count": 31,
   "id": "be1d59d1",
   "metadata": {},
   "outputs": [
    {
     "data": {
      "text/plain": [
       "OutEdgeDataView([('m1209763', 'l2936275')])"
      ]
     },
     "execution_count": 31,
     "metadata": {},
     "output_type": "execute_result"
    }
   ],
   "source": [
    "Gdir.out_edges('m1209763') #### 15: 17861/ 31529"
   ]
  },
  {
   "cell_type": "code",
   "execution_count": 32,
   "id": "df435917",
   "metadata": {},
   "outputs": [
    {
     "data": {
      "text/plain": [
       "OutEdgeDataView([('m1186078', 'l2806553')])"
      ]
     },
     "execution_count": 32,
     "metadata": {},
     "output_type": "execute_result"
    }
   ],
   "source": [
    "Gdir.out_edges('m1186078') #16: 15069"
   ]
  },
  {
   "cell_type": "code",
   "execution_count": null,
   "id": "71522098",
   "metadata": {},
   "outputs": [],
   "source": []
  },
  {
   "cell_type": "code",
   "execution_count": null,
   "id": "0bae2b1b",
   "metadata": {},
   "outputs": [],
   "source": []
  },
  {
   "cell_type": "code",
   "execution_count": 33,
   "id": "444967b0",
   "metadata": {},
   "outputs": [
    {
     "data": {
      "text/plain": [
       "OutEdgeDataView([('m1209750', 'm1209751'), ('m1209750', 'l3086075')])"
      ]
     },
     "execution_count": 33,
     "metadata": {},
     "output_type": "execute_result"
    }
   ],
   "source": [
    "Gdir.out_edges('m1209750') #### 17: 2222/ 38556"
   ]
  },
  {
   "cell_type": "code",
   "execution_count": null,
   "id": "51da12b8",
   "metadata": {},
   "outputs": [],
   "source": []
  },
  {
   "cell_type": "code",
   "execution_count": null,
   "id": "df9812ea",
   "metadata": {},
   "outputs": [],
   "source": []
  },
  {
   "cell_type": "code",
   "execution_count": 34,
   "id": "be8f92a8",
   "metadata": {},
   "outputs": [
    {
     "data": {
      "text/plain": [
       "OutEdgeDataView([('l2767340', 'm3037449'), ('l2767340', 'm1125988'), ('l2767340', 'x2767340a'), ('l2767340', 'x2767340b'), ('l2767340', 'x2767340c')])"
      ]
     },
     "execution_count": 34,
     "metadata": {},
     "output_type": "execute_result"
    }
   ],
   "source": [
    "Gdir.out_edges('l2767340')"
   ]
  },
  {
   "cell_type": "code",
   "execution_count": null,
   "id": "66356fb2",
   "metadata": {},
   "outputs": [],
   "source": []
  },
  {
   "cell_type": "code",
   "execution_count": null,
   "id": "1118b879",
   "metadata": {},
   "outputs": [],
   "source": []
  },
  {
   "cell_type": "code",
   "execution_count": null,
   "id": "a3ab7021",
   "metadata": {},
   "outputs": [],
   "source": []
  },
  {
   "cell_type": "code",
   "execution_count": null,
   "id": "7fd2bd73",
   "metadata": {},
   "outputs": [],
   "source": []
  },
  {
   "cell_type": "code",
   "execution_count": 35,
   "id": "8e20d9e2",
   "metadata": {},
   "outputs": [],
   "source": [
    "# nodes = ['m1209822', 'l2936216', 'l2823611', 'l3139366', \n",
    "#          'l2785527', 'm1209814', 'm1209811'\n",
    "#          , 'm1209797', 'm1209807', 'm1209748',  'm1209795', \n",
    "#          'm1186061',  'm1209753', 'm1209763',  'm1186078', \n",
    "#          'm1209750']\n"
   ]
  },
  {
   "cell_type": "code",
   "execution_count": 36,
   "id": "11555959",
   "metadata": {},
   "outputs": [],
   "source": [
    "nodes = ['m1209822', 'l2936216', 'l2823611', 'l3139366', \n",
    "         'l2785527', 'm1209817', 'm1209814', 'm1209811', \n",
    "         'm1209797', 'm1209807', 'm1209748',  'm1209795', \n",
    "         'm1186061',  'm1209753', 'm1209763',  'm1186078', \n",
    "         'm1209750']\n"
   ]
  },
  {
   "cell_type": "code",
   "execution_count": 37,
   "id": "5d5fabbb",
   "metadata": {},
   "outputs": [],
   "source": [
    "#--- For an outage  scenario\n",
    "OutLines = [('m1209822', 'm1209823'), ('m1209819', 'l2936216'), ('m1209787', 'l2823611'), ('l3139366', 'm4362177'), \n",
    "            ('l2785527', 'l2766729'), ('m1209817', 'l2801909'), ('m1209814', 'm1209811'), ('m1209811', 'm1209807'),\n",
    "            ('m1209797', 'm1209800'),('m1209807', 'm1209805'), ('m1209748', 'l3142099'), ('m1209795', 'l2936268'), \n",
    "            ('m1186061', 'l2861223'), ('m1209753', 'm1209748'), ('m1209763', 'l2936275'), ('m1186078', 'l2806553'),\n",
    "            ('m1209750', 'm1209751')] # This is to come from the reset in environment\n",
    "\n",
    "# Initial graph state..with all lines damaged\n",
    "Gout = G_primary.copy()\n",
    "\n",
    "for oe in OutLines:\n",
    "    Gout.remove_edge(*oe)"
   ]
  },
  {
   "cell_type": "code",
   "execution_count": 38,
   "id": "1204ddba",
   "metadata": {},
   "outputs": [],
   "source": [
    "# Create the dictionary\n",
    "node_outlines = {}\n",
    "Power_restored_dict_old = {}\n",
    "\n",
    "# Populate the dictionary\n",
    "for node in nodes:\n",
    "    node_outlines[node] = [outline for outline in OutLines if node in outline]"
   ]
  },
  {
   "cell_type": "code",
   "execution_count": 39,
   "id": "325f2e02",
   "metadata": {},
   "outputs": [],
   "source": [
    "for node, outlines in node_outlines.items():\n",
    "    repair_edge = outlines[0]\n",
    "#     repair_edge = ('m1209822', 'm1209823') # this is the repaired edge coming from the agent\n",
    "    (ru,rv) = repair_edge\n",
    "    rlabel = G_primary.edges[ru,rv]['label']\n",
    "    Gout.add_edge(ru, rv, label = rlabel)    \n",
    "    restored_component, Power_restored = GraphRestore_Eval(Gout, substation_id) # This will give the power restored by the repair of the edges\n",
    "    Power_restored_dict_old[node] = Power_restored"
   ]
  },
  {
   "cell_type": "code",
   "execution_count": 40,
   "id": "68633a02",
   "metadata": {},
   "outputs": [],
   "source": [
    "# Power_restored"
   ]
  },
  {
   "cell_type": "code",
   "execution_count": 41,
   "id": "d18473ec",
   "metadata": {},
   "outputs": [
    {
     "data": {
      "text/plain": [
       "{'m1209822': 0,\n",
       " 'l2936216': 0,\n",
       " 'l2823611': 0,\n",
       " 'l3139366': 0,\n",
       " 'l2785527': 0,\n",
       " 'm1209817': 4.07,\n",
       " 'm1209814': 4.07,\n",
       " 'm1209811': 4.07,\n",
       " 'm1209797': 4.07,\n",
       " 'm1209807': 4.07,\n",
       " 'm1209748': 4.07,\n",
       " 'm1209795': 4.07,\n",
       " 'm1186061': 4.07,\n",
       " 'm1209753': 4.07,\n",
       " 'm1209763': 4.07,\n",
       " 'm1186078': 4.07,\n",
       " 'm1209750': 4.07}"
      ]
     },
     "execution_count": 41,
     "metadata": {},
     "output_type": "execute_result"
    }
   ],
   "source": [
    "Power_restored_dict_old"
   ]
  },
  {
   "cell_type": "code",
   "execution_count": null,
   "id": "b8c02bd4",
   "metadata": {},
   "outputs": [],
   "source": []
  }
 ],
 "metadata": {
  "kernelspec": {
   "display_name": "Python 3 (ipykernel)",
   "language": "python",
   "name": "python3"
  },
  "language_info": {
   "codemirror_mode": {
    "name": "ipython",
    "version": 3
   },
   "file_extension": ".py",
   "mimetype": "text/x-python",
   "name": "python",
   "nbconvert_exporter": "python",
   "pygments_lexer": "ipython3",
   "version": "3.11.5"
  }
 },
 "nbformat": 4,
 "nbformat_minor": 5
}
